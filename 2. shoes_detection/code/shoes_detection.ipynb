{
 "cells": [
  {
   "cell_type": "code",
   "execution_count": 1,
   "metadata": {},
   "outputs": [
    {
     "name": "stderr",
     "output_type": "stream",
     "text": [
      "Failed to detect the name of this notebook, you can set it manually with the WANDB_NOTEBOOK_NAME environment variable to enable code saving.\n",
      "\u001b[34m\u001b[1mwandb\u001b[0m: Currently logged in as: \u001b[33mlovesjns1030\u001b[0m. Use \u001b[1m`wandb login --relogin`\u001b[0m to force relogin\n"
     ]
    },
    {
     "data": {
      "text/html": [
       "Tracking run with wandb version 0.17.1"
      ],
      "text/plain": [
       "<IPython.core.display.HTML object>"
      ]
     },
     "metadata": {},
     "output_type": "display_data"
    },
    {
     "data": {
      "text/html": [
       "Run data is saved locally in <code>c:\\Users\\dhshs\\Documents\\CCTV(2)\\2. shoes_detection\\code\\wandb\\run-20240612_115455-ynt46t6i</code>"
      ],
      "text/plain": [
       "<IPython.core.display.HTML object>"
      ]
     },
     "metadata": {},
     "output_type": "display_data"
    },
    {
     "data": {
      "text/html": [
       "Syncing run <strong><a href='https://wandb.ai/lovesjns1030/footwear-detection/runs/ynt46t6i' target=\"_blank\">yolov8-footwear</a></strong> to <a href='https://wandb.ai/lovesjns1030/footwear-detection' target=\"_blank\">Weights & Biases</a> (<a href='https://wandb.me/run' target=\"_blank\">docs</a>)<br/>"
      ],
      "text/plain": [
       "<IPython.core.display.HTML object>"
      ]
     },
     "metadata": {},
     "output_type": "display_data"
    },
    {
     "data": {
      "text/html": [
       " View project at <a href='https://wandb.ai/lovesjns1030/footwear-detection' target=\"_blank\">https://wandb.ai/lovesjns1030/footwear-detection</a>"
      ],
      "text/plain": [
       "<IPython.core.display.HTML object>"
      ]
     },
     "metadata": {},
     "output_type": "display_data"
    },
    {
     "data": {
      "text/html": [
       " View run at <a href='https://wandb.ai/lovesjns1030/footwear-detection/runs/ynt46t6i' target=\"_blank\">https://wandb.ai/lovesjns1030/footwear-detection/runs/ynt46t6i</a>"
      ],
      "text/plain": [
       "<IPython.core.display.HTML object>"
      ]
     },
     "metadata": {},
     "output_type": "display_data"
    },
    {
     "name": "stdout",
     "output_type": "stream",
     "text": [
      "New https://pypi.org/project/ultralytics/8.2.31 available  Update with 'pip install -U ultralytics'\n",
      "Ultralytics YOLOv8.2.28  Python-3.11.7 torch-2.3.0 CUDA:0 (NVIDIA GeForce RTX 3050 Laptop GPU, 4096MiB)\n",
      "\u001b[34m\u001b[1mengine\\trainer: \u001b[0mtask=segment, mode=train, model=yolov8n-seg.pt, data=data.yaml, epochs=100, time=None, patience=100, batch=16, imgsz=640, save=True, save_period=-1, cache=False, device=None, workers=8, project=footwear-detection, name=yolov8-footwear4, exist_ok=False, pretrained=True, optimizer=auto, verbose=True, seed=0, deterministic=True, single_cls=False, rect=False, cos_lr=False, close_mosaic=10, resume=False, amp=True, fraction=1.0, profile=False, freeze=None, multi_scale=False, overlap_mask=True, mask_ratio=4, dropout=0.0, val=True, split=val, save_json=False, save_hybrid=False, conf=None, iou=0.7, max_det=300, half=False, dnn=False, plots=True, source=None, vid_stride=1, stream_buffer=False, visualize=False, augment=False, agnostic_nms=False, classes=None, retina_masks=False, embed=None, show=False, save_frames=False, save_txt=False, save_conf=False, save_crop=False, show_labels=True, show_conf=True, show_boxes=True, line_width=None, format=torchscript, keras=False, optimize=False, int8=False, dynamic=False, simplify=False, opset=None, workspace=4, nms=False, lr0=0.01, lrf=0.01, momentum=0.937, weight_decay=0.0005, warmup_epochs=3.0, warmup_momentum=0.8, warmup_bias_lr=0.1, box=7.5, cls=0.5, dfl=1.5, pose=12.0, kobj=1.0, label_smoothing=0.0, nbs=64, hsv_h=0.015, hsv_s=0.7, hsv_v=0.4, degrees=0.0, translate=0.1, scale=0.5, shear=0.0, perspective=0.0, flipud=0.0, fliplr=0.5, bgr=0.0, mosaic=1.0, mixup=0.0, copy_paste=0.0, auto_augment=randaugment, erasing=0.4, crop_fraction=1.0, cfg=None, tracker=botsort.yaml, save_dir=footwear-detection\\yolov8-footwear4\n",
      "Overriding model.yaml nc=80 with nc=1\n",
      "\n",
      "                   from  n    params  module                                       arguments                     \n",
      "  0                  -1  1       464  ultralytics.nn.modules.conv.Conv             [3, 16, 3, 2]                 \n",
      "  1                  -1  1      4672  ultralytics.nn.modules.conv.Conv             [16, 32, 3, 2]                \n",
      "  2                  -1  1      7360  ultralytics.nn.modules.block.C2f             [32, 32, 1, True]             \n",
      "  3                  -1  1     18560  ultralytics.nn.modules.conv.Conv             [32, 64, 3, 2]                \n",
      "  4                  -1  2     49664  ultralytics.nn.modules.block.C2f             [64, 64, 2, True]             \n",
      "  5                  -1  1     73984  ultralytics.nn.modules.conv.Conv             [64, 128, 3, 2]               \n",
      "  6                  -1  2    197632  ultralytics.nn.modules.block.C2f             [128, 128, 2, True]           \n",
      "  7                  -1  1    295424  ultralytics.nn.modules.conv.Conv             [128, 256, 3, 2]              \n",
      "  8                  -1  1    460288  ultralytics.nn.modules.block.C2f             [256, 256, 1, True]           \n",
      "  9                  -1  1    164608  ultralytics.nn.modules.block.SPPF            [256, 256, 5]                 \n",
      " 10                  -1  1         0  torch.nn.modules.upsampling.Upsample         [None, 2, 'nearest']          \n",
      " 11             [-1, 6]  1         0  ultralytics.nn.modules.conv.Concat           [1]                           \n",
      " 12                  -1  1    148224  ultralytics.nn.modules.block.C2f             [384, 128, 1]                 \n",
      " 13                  -1  1         0  torch.nn.modules.upsampling.Upsample         [None, 2, 'nearest']          \n",
      " 14             [-1, 4]  1         0  ultralytics.nn.modules.conv.Concat           [1]                           \n",
      " 15                  -1  1     37248  ultralytics.nn.modules.block.C2f             [192, 64, 1]                  \n",
      " 16                  -1  1     36992  ultralytics.nn.modules.conv.Conv             [64, 64, 3, 2]                \n",
      " 17            [-1, 12]  1         0  ultralytics.nn.modules.conv.Concat           [1]                           \n",
      " 18                  -1  1    123648  ultralytics.nn.modules.block.C2f             [192, 128, 1]                 \n",
      " 19                  -1  1    147712  ultralytics.nn.modules.conv.Conv             [128, 128, 3, 2]              \n",
      " 20             [-1, 9]  1         0  ultralytics.nn.modules.conv.Concat           [1]                           \n",
      " 21                  -1  1    493056  ultralytics.nn.modules.block.C2f             [384, 256, 1]                 \n",
      " 22        [15, 18, 21]  1   1004275  ultralytics.nn.modules.head.Segment          [1, 32, 64, [64, 128, 256]]   \n",
      "YOLOv8n-seg summary: 261 layers, 3263811 parameters, 3263795 gradients, 12.1 GFLOPs\n",
      "\n",
      "Transferred 381/417 items from pretrained weights\n",
      "\u001b[34m\u001b[1mTensorBoard: \u001b[0mStart with 'tensorboard --logdir footwear-detection\\yolov8-footwear4', view at http://localhost:6006/\n",
      "Freezing layer 'model.22.dfl.conv.weight'\n",
      "\u001b[34m\u001b[1mAMP: \u001b[0mrunning Automatic Mixed Precision (AMP) checks with YOLOv8n...\n"
     ]
    },
    {
     "name": "stderr",
     "output_type": "stream",
     "text": [
      "c:\\Users\\dhshs\\anaconda3\\Lib\\site-packages\\torch\\nn\\modules\\conv.py:456: UserWarning: Plan failed with a cudnnException: CUDNN_BACKEND_EXECUTION_PLAN_DESCRIPTOR: cudnnFinalize Descriptor Failed cudnn_status: CUDNN_STATUS_NOT_SUPPORTED (Triggered internally at C:\\cb\\pytorch_1000000000000\\work\\aten\\src\\ATen\\native\\cudnn\\Conv_v8.cpp:919.)\n",
      "  return F.conv2d(input, weight, bias, self.stride,\n"
     ]
    },
    {
     "name": "stdout",
     "output_type": "stream",
     "text": [
      "\u001b[34m\u001b[1mAMP: \u001b[0mchecks passed \n"
     ]
    },
    {
     "name": "stderr",
     "output_type": "stream",
     "text": [
      "\u001b[34m\u001b[1mtrain: \u001b[0mScanning C:\\Users\\dhshs\\Documents\\CCTV(2)\\source\\shoe_detection_dataset\\extracted_shoes_dataset\\train\\labels.cache... 896 images, 0 backgrounds, 0 corrupt: 100%|██████████| 896/896 [00:00<?, ?it/s]"
     ]
    },
    {
     "name": "stdout",
     "output_type": "stream",
     "text": [
      "\u001b[34m\u001b[1mtrain: \u001b[0mWARNING  C:\\Users\\dhshs\\Documents\\CCTV(2)\\source\\shoe_detection_dataset\\extracted_shoes_dataset\\train\\images\\0003053_jpg.rf.ca3a563add67012228f1612cc4306272.jpg: 1 duplicate labels removed\n",
      "\u001b[34m\u001b[1mtrain: \u001b[0mWARNING  C:\\Users\\dhshs\\Documents\\CCTV(2)\\source\\shoe_detection_dataset\\extracted_shoes_dataset\\train\\images\\0004210_jpg.rf.921dcc163f84abb018c7493d3ca4a61c.jpg: 1 duplicate labels removed\n",
      "\u001b[34m\u001b[1mtrain: \u001b[0mWARNING  C:\\Users\\dhshs\\Documents\\CCTV(2)\\source\\shoe_detection_dataset\\extracted_shoes_dataset\\train\\images\\0013482_jpg.rf.6b0438828bef88978f143d5c33abbeba.jpg: 1 duplicate labels removed\n",
      "\u001b[34m\u001b[1mtrain: \u001b[0mWARNING  C:\\Users\\dhshs\\Documents\\CCTV(2)\\source\\shoe_detection_dataset\\extracted_shoes_dataset\\train\\images\\0013652_jpg.rf.1b8b3ddd363b82dc2edeab3e263f7c58.jpg: 1 duplicate labels removed\n",
      "\u001b[34m\u001b[1mtrain: \u001b[0mWARNING  C:\\Users\\dhshs\\Documents\\CCTV(2)\\source\\shoe_detection_dataset\\extracted_shoes_dataset\\train\\images\\0023533_jpg.rf.59bdc211391788d2dd8ea429d1934b3a.jpg: 1 duplicate labels removed\n",
      "\u001b[34m\u001b[1mtrain: \u001b[0mWARNING  C:\\Users\\dhshs\\Documents\\CCTV(2)\\source\\shoe_detection_dataset\\extracted_shoes_dataset\\train\\images\\0023742_jpg.rf.4bb76f9d4dd873fabe05871b6aae82cf.jpg: 1 duplicate labels removed\n",
      "\u001b[34m\u001b[1mtrain: \u001b[0mWARNING  C:\\Users\\dhshs\\Documents\\CCTV(2)\\source\\shoe_detection_dataset\\extracted_shoes_dataset\\train\\images\\0063398_jpg.rf.11bcf6d378592e8757efd90ce8ee0a06.jpg: 1 duplicate labels removed\n",
      "\u001b[34m\u001b[1mtrain: \u001b[0mWARNING  C:\\Users\\dhshs\\Documents\\CCTV(2)\\source\\shoe_detection_dataset\\extracted_shoes_dataset\\train\\images\\0071606_jpg.rf.99af60a0ddbf1691e15bf748fe0da0da.jpg: 1 duplicate labels removed\n",
      "\u001b[34m\u001b[1mtrain: \u001b[0mWARNING  C:\\Users\\dhshs\\Documents\\CCTV(2)\\source\\shoe_detection_dataset\\extracted_shoes_dataset\\train\\images\\0072497_jpg.rf.86fa38b660e2b06fc93ed3a20e2767fe.jpg: 1 duplicate labels removed\n",
      "\u001b[34m\u001b[1mtrain: \u001b[0mWARNING  C:\\Users\\dhshs\\Documents\\CCTV(2)\\source\\shoe_detection_dataset\\extracted_shoes_dataset\\train\\images\\0102107_jpg.rf.c193bb0cc7da241570bfaf85f353d64f.jpg: 1 duplicate labels removed\n",
      "\u001b[34m\u001b[1mtrain: \u001b[0mWARNING  C:\\Users\\dhshs\\Documents\\CCTV(2)\\source\\shoe_detection_dataset\\extracted_shoes_dataset\\train\\images\\0104272_jpg.rf.5db21cb19b7281ae58b7dd1694461129.jpg: 1 duplicate labels removed\n",
      "\u001b[34m\u001b[1mtrain: \u001b[0mWARNING  C:\\Users\\dhshs\\Documents\\CCTV(2)\\source\\shoe_detection_dataset\\extracted_shoes_dataset\\train\\images\\0106765_jpg.rf.851df5bb0a90d1ed2782186df567c750.jpg: 1 duplicate labels removed\n",
      "\u001b[34m\u001b[1mtrain: \u001b[0mWARNING  C:\\Users\\dhshs\\Documents\\CCTV(2)\\source\\shoe_detection_dataset\\extracted_shoes_dataset\\train\\images\\0110203_jpg.rf.f40739460468381db9317be78d7c22be.jpg: 1 duplicate labels removed\n",
      "\u001b[34m\u001b[1mtrain: \u001b[0mWARNING  C:\\Users\\dhshs\\Documents\\CCTV(2)\\source\\shoe_detection_dataset\\extracted_shoes_dataset\\train\\images\\0110228_jpg.rf.648e7b51df2b2c659acb35e298286a8e.jpg: 1 duplicate labels removed\n",
      "\u001b[34m\u001b[1mtrain: \u001b[0mWARNING  C:\\Users\\dhshs\\Documents\\CCTV(2)\\source\\shoe_detection_dataset\\extracted_shoes_dataset\\train\\images\\0111508_jpg.rf.4997ac5ac0047cce4f022900e92e1fe4.jpg: 1 duplicate labels removed\n",
      "\u001b[34m\u001b[1mtrain: \u001b[0mWARNING  C:\\Users\\dhshs\\Documents\\CCTV(2)\\source\\shoe_detection_dataset\\extracted_shoes_dataset\\train\\images\\0122301_jpg.rf.9abff61e55b3f7c1171c1a39dede3d5f.jpg: 1 duplicate labels removed\n",
      "\u001b[34m\u001b[1mtrain: \u001b[0mWARNING  C:\\Users\\dhshs\\Documents\\CCTV(2)\\source\\shoe_detection_dataset\\extracted_shoes_dataset\\train\\images\\0130887_jpg.rf.e0e4021647830a1698693accc135b952.jpg: 1 duplicate labels removed\n",
      "\u001b[34m\u001b[1mtrain: \u001b[0mWARNING  C:\\Users\\dhshs\\Documents\\CCTV(2)\\source\\shoe_detection_dataset\\extracted_shoes_dataset\\train\\images\\0131195_jpg.rf.a3159d2c28da4ab96ebfe1c67a818474.jpg: 1 duplicate labels removed\n",
      "\u001b[34m\u001b[1mtrain: \u001b[0mWARNING  C:\\Users\\dhshs\\Documents\\CCTV(2)\\source\\shoe_detection_dataset\\extracted_shoes_dataset\\train\\images\\0131583_jpg.rf.e8727779097728e8a0e2c6146f2264cc.jpg: 1 duplicate labels removed\n",
      "\u001b[34m\u001b[1mtrain: \u001b[0mWARNING  C:\\Users\\dhshs\\Documents\\CCTV(2)\\source\\shoe_detection_dataset\\extracted_shoes_dataset\\train\\images\\0133396_jpg.rf.89fc65febfe0c3617f9d0ad6e3ce7d64.jpg: 1 duplicate labels removed\n",
      "\u001b[34m\u001b[1mtrain: \u001b[0mWARNING  C:\\Users\\dhshs\\Documents\\CCTV(2)\\source\\shoe_detection_dataset\\extracted_shoes_dataset\\train\\images\\0133543_jpg.rf.5535fa1915634aad5d32e8787687951c.jpg: 1 duplicate labels removed\n",
      "\u001b[34m\u001b[1mtrain: \u001b[0mWARNING  C:\\Users\\dhshs\\Documents\\CCTV(2)\\source\\shoe_detection_dataset\\extracted_shoes_dataset\\train\\images\\0134375_jpg.rf.19a9764aef8c4351d967981c73a5dea2.jpg: 1 duplicate labels removed\n",
      "\u001b[34m\u001b[1mtrain: \u001b[0mWARNING  C:\\Users\\dhshs\\Documents\\CCTV(2)\\source\\shoe_detection_dataset\\extracted_shoes_dataset\\train\\images\\0135807_jpg.rf.0283de362c28c512970a7477047af9ed.jpg: 1 duplicate labels removed\n",
      "\u001b[34m\u001b[1mtrain: \u001b[0mWARNING  C:\\Users\\dhshs\\Documents\\CCTV(2)\\source\\shoe_detection_dataset\\extracted_shoes_dataset\\train\\images\\0136348_jpg.rf.1cfdf98383504519313c7c2101293037.jpg: 1 duplicate labels removed\n",
      "\u001b[34m\u001b[1mtrain: \u001b[0mWARNING  C:\\Users\\dhshs\\Documents\\CCTV(2)\\source\\shoe_detection_dataset\\extracted_shoes_dataset\\train\\images\\0137915_jpg.rf.1c30a9daaf37a014d614bc4b6c1ea9e2.jpg: 1 duplicate labels removed\n",
      "\u001b[34m\u001b[1mtrain: \u001b[0mWARNING  C:\\Users\\dhshs\\Documents\\CCTV(2)\\source\\shoe_detection_dataset\\extracted_shoes_dataset\\train\\images\\0138607_jpg.rf.0b4e6805d3baa6a7dab1b89b32abfd18.jpg: 1 duplicate labels removed\n",
      "\u001b[34m\u001b[1mtrain: \u001b[0mWARNING  C:\\Users\\dhshs\\Documents\\CCTV(2)\\source\\shoe_detection_dataset\\extracted_shoes_dataset\\train\\images\\0140195_jpg.rf.97dfb2d4dd38fef179e578ca0a9274f2.jpg: 1 duplicate labels removed\n",
      "\u001b[34m\u001b[1mtrain: \u001b[0mWARNING  C:\\Users\\dhshs\\Documents\\CCTV(2)\\source\\shoe_detection_dataset\\extracted_shoes_dataset\\train\\images\\0142230_jpg.rf.484152550f5b37dc6e4aba42b7cbbbb7.jpg: 1 duplicate labels removed\n",
      "\u001b[34m\u001b[1mtrain: \u001b[0mWARNING  C:\\Users\\dhshs\\Documents\\CCTV(2)\\source\\shoe_detection_dataset\\extracted_shoes_dataset\\train\\images\\0142785_jpg.rf.7b1e06a7ed1d1bbedd564280c30c8790.jpg: 1 duplicate labels removed\n",
      "\u001b[34m\u001b[1mtrain: \u001b[0mWARNING  C:\\Users\\dhshs\\Documents\\CCTV(2)\\source\\shoe_detection_dataset\\extracted_shoes_dataset\\train\\images\\0147010_jpg.rf.2f275a7ab3c83622f11b947aaeeeaa77.jpg: 1 duplicate labels removed\n",
      "\u001b[34m\u001b[1mtrain: \u001b[0mWARNING  C:\\Users\\dhshs\\Documents\\CCTV(2)\\source\\shoe_detection_dataset\\extracted_shoes_dataset\\train\\images\\0148324_jpg.rf.984204de0fba4280fa52e85b8cfe4e8f.jpg: 1 duplicate labels removed\n",
      "\u001b[34m\u001b[1mtrain: \u001b[0mWARNING  C:\\Users\\dhshs\\Documents\\CCTV(2)\\source\\shoe_detection_dataset\\extracted_shoes_dataset\\train\\images\\0148732_jpg.rf.70562f6895ad4cc670c02ae00eb414fe.jpg: 1 duplicate labels removed\n",
      "\u001b[34m\u001b[1mtrain: \u001b[0mWARNING  C:\\Users\\dhshs\\Documents\\CCTV(2)\\source\\shoe_detection_dataset\\extracted_shoes_dataset\\train\\images\\0148867_jpg.rf.be65cab643dc6821099682ae79221548.jpg: 1 duplicate labels removed\n",
      "\u001b[34m\u001b[1mtrain: \u001b[0mWARNING  C:\\Users\\dhshs\\Documents\\CCTV(2)\\source\\shoe_detection_dataset\\extracted_shoes_dataset\\train\\images\\0150234_jpg.rf.678ff24999b3f3ade09365140b3fb7f0.jpg: 1 duplicate labels removed\n",
      "\u001b[34m\u001b[1mtrain: \u001b[0mWARNING  C:\\Users\\dhshs\\Documents\\CCTV(2)\\source\\shoe_detection_dataset\\extracted_shoes_dataset\\train\\images\\0150457_jpg.rf.cbf39db01a6e5bf21b6887c9a1a3a3a2.jpg: 1 duplicate labels removed\n",
      "\u001b[34m\u001b[1mtrain: \u001b[0mWARNING  C:\\Users\\dhshs\\Documents\\CCTV(2)\\source\\shoe_detection_dataset\\extracted_shoes_dataset\\train\\images\\0150569_jpg.rf.1dbe6dc184b7b7923aef530574bbd913.jpg: 1 duplicate labels removed\n",
      "\u001b[34m\u001b[1mtrain: \u001b[0mWARNING  C:\\Users\\dhshs\\Documents\\CCTV(2)\\source\\shoe_detection_dataset\\extracted_shoes_dataset\\train\\images\\0151271_jpg.rf.07e167a8bd3f8613a79cf9e3324bef3b.jpg: 1 duplicate labels removed\n",
      "\u001b[34m\u001b[1mtrain: \u001b[0mWARNING  C:\\Users\\dhshs\\Documents\\CCTV(2)\\source\\shoe_detection_dataset\\extracted_shoes_dataset\\train\\images\\0152581_jpg.rf.72189d92a5c59c0acc43e91177cd231f.jpg: 1 duplicate labels removed\n",
      "\u001b[34m\u001b[1mtrain: \u001b[0mWARNING  C:\\Users\\dhshs\\Documents\\CCTV(2)\\source\\shoe_detection_dataset\\extracted_shoes_dataset\\train\\images\\0156125_jpg.rf.3417317960131e093fdeeab5217dccb3.jpg: 1 duplicate labels removed\n",
      "\u001b[34m\u001b[1mtrain: \u001b[0mWARNING  C:\\Users\\dhshs\\Documents\\CCTV(2)\\source\\shoe_detection_dataset\\extracted_shoes_dataset\\train\\images\\0157648_jpg.rf.9e9904d4135f482f8d8d8e24ddedb689.jpg: 1 duplicate labels removed\n",
      "\u001b[34m\u001b[1mtrain: \u001b[0mWARNING  C:\\Users\\dhshs\\Documents\\CCTV(2)\\source\\shoe_detection_dataset\\extracted_shoes_dataset\\train\\images\\0159830_jpg.rf.5b431c3ea632534e70427d6a92d92d2b.jpg: 1 duplicate labels removed\n",
      "\u001b[34m\u001b[1mtrain: \u001b[0mWARNING  C:\\Users\\dhshs\\Documents\\CCTV(2)\\source\\shoe_detection_dataset\\extracted_shoes_dataset\\train\\images\\0165670_jpg.rf.6d8fc6b920351ca8e177adb0ebff4c5c.jpg: 1 duplicate labels removed\n",
      "\u001b[34m\u001b[1mtrain: \u001b[0mWARNING  C:\\Users\\dhshs\\Documents\\CCTV(2)\\source\\shoe_detection_dataset\\extracted_shoes_dataset\\train\\images\\0165843_jpg.rf.657619a47ef7c6a7dbce3e60e8cd1fb9.jpg: 1 duplicate labels removed\n",
      "\u001b[34m\u001b[1mtrain: \u001b[0mWARNING  C:\\Users\\dhshs\\Documents\\CCTV(2)\\source\\shoe_detection_dataset\\extracted_shoes_dataset\\train\\images\\0165921_jpg.rf.2d5df4eccc51fac033ccd89d13743b02.jpg: 1 duplicate labels removed\n",
      "\u001b[34m\u001b[1mtrain: \u001b[0mWARNING  C:\\Users\\dhshs\\Documents\\CCTV(2)\\source\\shoe_detection_dataset\\extracted_shoes_dataset\\train\\images\\0166195_jpg.rf.ad7db96eb1d91c82228a59da09a9161f.jpg: 1 duplicate labels removed\n",
      "\u001b[34m\u001b[1mtrain: \u001b[0mWARNING  C:\\Users\\dhshs\\Documents\\CCTV(2)\\source\\shoe_detection_dataset\\extracted_shoes_dataset\\train\\images\\0167934_jpg.rf.1217f8cd464180791d2c64e526b19e7a.jpg: 1 duplicate labels removed\n",
      "\u001b[34m\u001b[1mtrain: \u001b[0mWARNING  C:\\Users\\dhshs\\Documents\\CCTV(2)\\source\\shoe_detection_dataset\\extracted_shoes_dataset\\train\\images\\0174754_jpg.rf.5498bc07360e7dbf3096ee49fe2688f1.jpg: 1 duplicate labels removed\n",
      "\u001b[34m\u001b[1mtrain: \u001b[0mWARNING  C:\\Users\\dhshs\\Documents\\CCTV(2)\\source\\shoe_detection_dataset\\extracted_shoes_dataset\\train\\images\\0177261_jpg.rf.e7ff4b418e8763b820bde8914bbacd77.jpg: 1 duplicate labels removed\n",
      "\u001b[34m\u001b[1mtrain: \u001b[0mWARNING  C:\\Users\\dhshs\\Documents\\CCTV(2)\\source\\shoe_detection_dataset\\extracted_shoes_dataset\\train\\images\\0177338_jpg.rf.c3a6b275b9f122ad1635031d16a738dc.jpg: 1 duplicate labels removed\n",
      "\u001b[34m\u001b[1mtrain: \u001b[0mWARNING  C:\\Users\\dhshs\\Documents\\CCTV(2)\\source\\shoe_detection_dataset\\extracted_shoes_dataset\\train\\images\\0179665_jpg.rf.345c57747c8ad026ab89b403e619cce8.jpg: 1 duplicate labels removed\n",
      "\u001b[34m\u001b[1mtrain: \u001b[0mWARNING  C:\\Users\\dhshs\\Documents\\CCTV(2)\\source\\shoe_detection_dataset\\extracted_shoes_dataset\\train\\images\\0180770_jpg.rf.a127495127a5ec6493b31368441589d3.jpg: 1 duplicate labels removed\n",
      "\u001b[34m\u001b[1mtrain: \u001b[0mWARNING  C:\\Users\\dhshs\\Documents\\CCTV(2)\\source\\shoe_detection_dataset\\extracted_shoes_dataset\\train\\images\\0184389_jpg.rf.9be64d54925df1f438c3ef9c38eff7cb.jpg: 1 duplicate labels removed\n",
      "\u001b[34m\u001b[1mtrain: \u001b[0mWARNING  C:\\Users\\dhshs\\Documents\\CCTV(2)\\source\\shoe_detection_dataset\\extracted_shoes_dataset\\train\\images\\0189231_jpg.rf.f6c7b31bfcbcb74adafd5ce32ea42d53.jpg: 1 duplicate labels removed\n",
      "\u001b[34m\u001b[1mtrain: \u001b[0mWARNING  C:\\Users\\dhshs\\Documents\\CCTV(2)\\source\\shoe_detection_dataset\\extracted_shoes_dataset\\train\\images\\0191055_jpg.rf.21a75d365671557e915be9cf92452f15.jpg: 1 duplicate labels removed\n",
      "\u001b[34m\u001b[1mtrain: \u001b[0mWARNING  C:\\Users\\dhshs\\Documents\\CCTV(2)\\source\\shoe_detection_dataset\\extracted_shoes_dataset\\train\\images\\0206184_jpg.rf.c26f759d3aa7a50a7f28b3ed73eef254.jpg: 1 duplicate labels removed\n",
      "\u001b[34m\u001b[1mtrain: \u001b[0mWARNING  C:\\Users\\dhshs\\Documents\\CCTV(2)\\source\\shoe_detection_dataset\\extracted_shoes_dataset\\train\\images\\0240852_jpg.rf.d934bafc4282f3c7676d4a2d6fddedc4.jpg: 1 duplicate labels removed\n",
      "\u001b[34m\u001b[1mtrain: \u001b[0mWARNING  C:\\Users\\dhshs\\Documents\\CCTV(2)\\source\\shoe_detection_dataset\\extracted_shoes_dataset\\train\\images\\0243120_jpg.rf.4636163eaa87298b7224ccb855a9578b.jpg: 1 duplicate labels removed\n",
      "\u001b[34m\u001b[1mtrain: \u001b[0mWARNING  C:\\Users\\dhshs\\Documents\\CCTV(2)\\source\\shoe_detection_dataset\\extracted_shoes_dataset\\train\\images\\0256172_jpg.rf.10a5c2199845be6ea8bc9b38ad080ce3.jpg: 1 duplicate labels removed\n",
      "\u001b[34m\u001b[1mtrain: \u001b[0mWARNING  C:\\Users\\dhshs\\Documents\\CCTV(2)\\source\\shoe_detection_dataset\\extracted_shoes_dataset\\train\\images\\0258405_jpg.rf.b1ea59ab99646db6147ac56c3d2742ac.jpg: 1 duplicate labels removed\n",
      "\u001b[34m\u001b[1mtrain: \u001b[0mWARNING  C:\\Users\\dhshs\\Documents\\CCTV(2)\\source\\shoe_detection_dataset\\extracted_shoes_dataset\\train\\images\\0265183_jpg.rf.f12270cba87e849c937a8f48ce573cc1.jpg: 1 duplicate labels removed\n",
      "\u001b[34m\u001b[1mtrain: \u001b[0mWARNING  C:\\Users\\dhshs\\Documents\\CCTV(2)\\source\\shoe_detection_dataset\\extracted_shoes_dataset\\train\\images\\0275486_jpg.rf.dbec3977d122bceafe852157a965813e.jpg: 1 duplicate labels removed\n",
      "\u001b[34m\u001b[1mtrain: \u001b[0mWARNING  C:\\Users\\dhshs\\Documents\\CCTV(2)\\source\\shoe_detection_dataset\\extracted_shoes_dataset\\train\\images\\0281614_jpg.rf.bb4f3ba334725dcdfcd374dec15eaa68.jpg: 1 duplicate labels removed\n",
      "\u001b[34m\u001b[1mtrain: \u001b[0mWARNING  C:\\Users\\dhshs\\Documents\\CCTV(2)\\source\\shoe_detection_dataset\\extracted_shoes_dataset\\train\\images\\0282486_jpg.rf.df98059f9e9011bdaaf88e8777650f00.jpg: 1 duplicate labels removed\n",
      "\u001b[34m\u001b[1mtrain: \u001b[0mWARNING  C:\\Users\\dhshs\\Documents\\CCTV(2)\\source\\shoe_detection_dataset\\extracted_shoes_dataset\\train\\images\\0292719_jpg.rf.d1b348828d53d027fcd83eda5486b4d8.jpg: 1 duplicate labels removed\n",
      "\u001b[34m\u001b[1mtrain: \u001b[0mWARNING  C:\\Users\\dhshs\\Documents\\CCTV(2)\\source\\shoe_detection_dataset\\extracted_shoes_dataset\\train\\images\\0292916_jpg.rf.ebcdd5aee016d4c07e941facde140a58.jpg: 1 duplicate labels removed\n",
      "\u001b[34m\u001b[1mtrain: \u001b[0mWARNING  C:\\Users\\dhshs\\Documents\\CCTV(2)\\source\\shoe_detection_dataset\\extracted_shoes_dataset\\train\\images\\0295270_jpg.rf.6d12fe0b8bc715747d934fd008b55968.jpg: 1 duplicate labels removed\n",
      "\u001b[34m\u001b[1mtrain: \u001b[0mWARNING  C:\\Users\\dhshs\\Documents\\CCTV(2)\\source\\shoe_detection_dataset\\extracted_shoes_dataset\\train\\images\\0296235_jpg.rf.cdfcc18574b6b5bc8eedca5a3824d487.jpg: 1 duplicate labels removed\n",
      "\u001b[34m\u001b[1mtrain: \u001b[0mWARNING  C:\\Users\\dhshs\\Documents\\CCTV(2)\\source\\shoe_detection_dataset\\extracted_shoes_dataset\\train\\images\\0297403_jpg.rf.540683663decef380fb77cf28ddb1761.jpg: 1 duplicate labels removed\n",
      "\u001b[34m\u001b[1mtrain: \u001b[0mWARNING  C:\\Users\\dhshs\\Documents\\CCTV(2)\\source\\shoe_detection_dataset\\extracted_shoes_dataset\\train\\images\\0299360_jpg.rf.14f0c28ea6b3cc030e722069c1d0c77b.jpg: 1 duplicate labels removed\n",
      "\u001b[34m\u001b[1mtrain: \u001b[0mWARNING  C:\\Users\\dhshs\\Documents\\CCTV(2)\\source\\shoe_detection_dataset\\extracted_shoes_dataset\\train\\images\\0303712_jpg.rf.dafdedd813e38f5a8d6133e2edd18cab.jpg: 1 duplicate labels removed\n",
      "\u001b[34m\u001b[1mtrain: \u001b[0mWARNING  C:\\Users\\dhshs\\Documents\\CCTV(2)\\source\\shoe_detection_dataset\\extracted_shoes_dataset\\train\\images\\0304584_jpg.rf.4c6a88f35532230dfa557a68481efa44.jpg: 1 duplicate labels removed\n",
      "\u001b[34m\u001b[1mtrain: \u001b[0mWARNING  C:\\Users\\dhshs\\Documents\\CCTV(2)\\source\\shoe_detection_dataset\\extracted_shoes_dataset\\train\\images\\0307667_jpg.rf.dd228d18191918c0da6030f1456372fc.jpg: 1 duplicate labels removed\n",
      "\u001b[34m\u001b[1mtrain: \u001b[0mWARNING  C:\\Users\\dhshs\\Documents\\CCTV(2)\\source\\shoe_detection_dataset\\extracted_shoes_dataset\\train\\images\\0308750_jpg.rf.988fa45bbcf4b6c57722ee12371e902d.jpg: 1 duplicate labels removed\n",
      "\u001b[34m\u001b[1mtrain: \u001b[0mWARNING  C:\\Users\\dhshs\\Documents\\CCTV(2)\\source\\shoe_detection_dataset\\extracted_shoes_dataset\\train\\images\\0329213_jpg.rf.b4ae7f33f9a2da544868d4e146ca3cea.jpg: 1 duplicate labels removed\n",
      "\u001b[34m\u001b[1mtrain: \u001b[0mWARNING  C:\\Users\\dhshs\\Documents\\CCTV(2)\\source\\shoe_detection_dataset\\extracted_shoes_dataset\\train\\images\\0331659_jpg.rf.24bf7c26e2daeb0799a9b5345adb8e65.jpg: 1 duplicate labels removed\n",
      "\u001b[34m\u001b[1mtrain: \u001b[0mWARNING  C:\\Users\\dhshs\\Documents\\CCTV(2)\\source\\shoe_detection_dataset\\extracted_shoes_dataset\\train\\images\\0334309_jpg.rf.1ca57b639eb6e45314e155e496bbec8e.jpg: 1 duplicate labels removed\n",
      "\u001b[34m\u001b[1mtrain: \u001b[0mWARNING  C:\\Users\\dhshs\\Documents\\CCTV(2)\\source\\shoe_detection_dataset\\extracted_shoes_dataset\\train\\images\\0338491_jpg.rf.5098f4d648afb49fa5faaa5759111686.jpg: 1 duplicate labels removed\n",
      "\u001b[34m\u001b[1mtrain: \u001b[0mWARNING  C:\\Users\\dhshs\\Documents\\CCTV(2)\\source\\shoe_detection_dataset\\extracted_shoes_dataset\\train\\images\\0338534_jpg.rf.f8118955d6cf38b7e206d744c52fa604.jpg: 1 duplicate labels removed\n",
      "\u001b[34m\u001b[1mtrain: \u001b[0mWARNING  C:\\Users\\dhshs\\Documents\\CCTV(2)\\source\\shoe_detection_dataset\\extracted_shoes_dataset\\train\\images\\0338720_jpg.rf.cdbb846b1fa0b675e15096d093764d20.jpg: 1 duplicate labels removed\n",
      "\u001b[34m\u001b[1mtrain: \u001b[0mWARNING  C:\\Users\\dhshs\\Documents\\CCTV(2)\\source\\shoe_detection_dataset\\extracted_shoes_dataset\\train\\images\\0340063_jpg.rf.635ed96af995dabea63de944556870b5.jpg: 1 duplicate labels removed\n",
      "\u001b[34m\u001b[1mtrain: \u001b[0mWARNING  C:\\Users\\dhshs\\Documents\\CCTV(2)\\source\\shoe_detection_dataset\\extracted_shoes_dataset\\train\\images\\0341027_jpg.rf.740a8a22efe563582c17f2e8ae7b7c52.jpg: 1 duplicate labels removed\n",
      "\u001b[34m\u001b[1mtrain: \u001b[0mWARNING  C:\\Users\\dhshs\\Documents\\CCTV(2)\\source\\shoe_detection_dataset\\extracted_shoes_dataset\\train\\images\\0341351_jpg.rf.44d0593328fa63f8ae8957f8e01c8b92.jpg: 1 duplicate labels removed\n",
      "\u001b[34m\u001b[1mtrain: \u001b[0mWARNING  C:\\Users\\dhshs\\Documents\\CCTV(2)\\source\\shoe_detection_dataset\\extracted_shoes_dataset\\train\\images\\0341418_jpg.rf.919bef54952ef05dbf34bb0785024318.jpg: 1 duplicate labels removed\n",
      "\u001b[34m\u001b[1mtrain: \u001b[0mWARNING  C:\\Users\\dhshs\\Documents\\CCTV(2)\\source\\shoe_detection_dataset\\extracted_shoes_dataset\\train\\images\\0341966_jpg.rf.af0e4200b6dc23e69fec8029d7b23e68.jpg: 1 duplicate labels removed\n",
      "\u001b[34m\u001b[1mtrain: \u001b[0mWARNING  C:\\Users\\dhshs\\Documents\\CCTV(2)\\source\\shoe_detection_dataset\\extracted_shoes_dataset\\train\\images\\0342528_jpg.rf.180bf04bf12a28a2a8a5ef9e37e4701f.jpg: 1 duplicate labels removed\n",
      "\u001b[34m\u001b[1mtrain: \u001b[0mWARNING  C:\\Users\\dhshs\\Documents\\CCTV(2)\\source\\shoe_detection_dataset\\extracted_shoes_dataset\\train\\images\\0343431_jpg.rf.f64ee94b6a80202d4cc91e12fdbbf673.jpg: 1 duplicate labels removed\n",
      "\u001b[34m\u001b[1mtrain: \u001b[0mWARNING  C:\\Users\\dhshs\\Documents\\CCTV(2)\\source\\shoe_detection_dataset\\extracted_shoes_dataset\\train\\images\\0343436_jpg.rf.a6632706ce8c71a2ddee4a187af29abb.jpg: 1 duplicate labels removed\n",
      "\u001b[34m\u001b[1mtrain: \u001b[0mWARNING  C:\\Users\\dhshs\\Documents\\CCTV(2)\\source\\shoe_detection_dataset\\extracted_shoes_dataset\\train\\images\\0344205_jpg.rf.197585dcdda549e7580e3602cba70fab.jpg: 1 duplicate labels removed\n",
      "\u001b[34m\u001b[1mtrain: \u001b[0mWARNING  C:\\Users\\dhshs\\Documents\\CCTV(2)\\source\\shoe_detection_dataset\\extracted_shoes_dataset\\train\\images\\0344459_jpg.rf.32775b0caf6a20918f04e82383dd568e.jpg: 1 duplicate labels removed\n",
      "\u001b[34m\u001b[1mtrain: \u001b[0mWARNING  C:\\Users\\dhshs\\Documents\\CCTV(2)\\source\\shoe_detection_dataset\\extracted_shoes_dataset\\train\\images\\0345257_jpg.rf.abc2f807b1d2838f6dd48658a10ce6db.jpg: 1 duplicate labels removed\n",
      "\u001b[34m\u001b[1mtrain: \u001b[0mWARNING  C:\\Users\\dhshs\\Documents\\CCTV(2)\\source\\shoe_detection_dataset\\extracted_shoes_dataset\\train\\images\\0346947_jpg.rf.65d483a02be2d7712e0f040eb7de4198.jpg: 1 duplicate labels removed\n",
      "\u001b[34m\u001b[1mtrain: \u001b[0mWARNING  C:\\Users\\dhshs\\Documents\\CCTV(2)\\source\\shoe_detection_dataset\\extracted_shoes_dataset\\train\\images\\0347133_jpg.rf.66463359d50c108866c18601ff9c1591.jpg: 1 duplicate labels removed\n",
      "\u001b[34m\u001b[1mtrain: \u001b[0mWARNING  C:\\Users\\dhshs\\Documents\\CCTV(2)\\source\\shoe_detection_dataset\\extracted_shoes_dataset\\train\\images\\0347434_jpg.rf.9da191192f02e6cab7fc52efdc855700.jpg: 1 duplicate labels removed\n",
      "\u001b[34m\u001b[1mtrain: \u001b[0mWARNING  C:\\Users\\dhshs\\Documents\\CCTV(2)\\source\\shoe_detection_dataset\\extracted_shoes_dataset\\train\\images\\0349285_jpg.rf.6ca437d9ea4e3300e8f1cb218ef41eec.jpg: 1 duplicate labels removed\n",
      "\u001b[34m\u001b[1mtrain: \u001b[0mWARNING  C:\\Users\\dhshs\\Documents\\CCTV(2)\\source\\shoe_detection_dataset\\extracted_shoes_dataset\\train\\images\\0349888_jpg.rf.288d651245c67b15dcaf1dcd6a4f5843.jpg: 1 duplicate labels removed\n",
      "\u001b[34m\u001b[1mtrain: \u001b[0mWARNING  C:\\Users\\dhshs\\Documents\\CCTV(2)\\source\\shoe_detection_dataset\\extracted_shoes_dataset\\train\\images\\0351233_jpg.rf.caf44108564accbbeb9fb9a58dd1bc8f.jpg: 1 duplicate labels removed\n",
      "\u001b[34m\u001b[1mtrain: \u001b[0mWARNING  C:\\Users\\dhshs\\Documents\\CCTV(2)\\source\\shoe_detection_dataset\\extracted_shoes_dataset\\train\\images\\0351619_jpg.rf.38a8b9f3afc9950f3038136444578a46.jpg: 1 duplicate labels removed\n",
      "\u001b[34m\u001b[1mtrain: \u001b[0mWARNING  C:\\Users\\dhshs\\Documents\\CCTV(2)\\source\\shoe_detection_dataset\\extracted_shoes_dataset\\train\\images\\0352302_jpg.rf.2f7d33a027edca073f443bb71ba61d7d.jpg: 1 duplicate labels removed\n",
      "\u001b[34m\u001b[1mtrain: \u001b[0mWARNING  C:\\Users\\dhshs\\Documents\\CCTV(2)\\source\\shoe_detection_dataset\\extracted_shoes_dataset\\train\\images\\0352895_jpg.rf.76c8354243617e7ffac1cde661d158aa.jpg: 1 duplicate labels removed\n",
      "\u001b[34m\u001b[1mtrain: \u001b[0mWARNING  C:\\Users\\dhshs\\Documents\\CCTV(2)\\source\\shoe_detection_dataset\\extracted_shoes_dataset\\train\\images\\0353391_jpg.rf.d2c04a23c652c81aa8452ff37fd4bda1.jpg: 1 duplicate labels removed\n",
      "\u001b[34m\u001b[1mtrain: \u001b[0mWARNING  C:\\Users\\dhshs\\Documents\\CCTV(2)\\source\\shoe_detection_dataset\\extracted_shoes_dataset\\train\\images\\0354401_jpg.rf.e9a9b269f747cf790747b342244f4788.jpg: 1 duplicate labels removed\n",
      "\u001b[34m\u001b[1mtrain: \u001b[0mWARNING  C:\\Users\\dhshs\\Documents\\CCTV(2)\\source\\shoe_detection_dataset\\extracted_shoes_dataset\\train\\images\\0357055_jpg.rf.215aa03d295462578652d14211b6c17f.jpg: 1 duplicate labels removed\n",
      "\u001b[34m\u001b[1mtrain: \u001b[0mWARNING  C:\\Users\\dhshs\\Documents\\CCTV(2)\\source\\shoe_detection_dataset\\extracted_shoes_dataset\\train\\images\\0357690_jpg.rf.300acc944c0428091b22cd95fd94b578.jpg: 1 duplicate labels removed\n",
      "\u001b[34m\u001b[1mtrain: \u001b[0mWARNING  C:\\Users\\dhshs\\Documents\\CCTV(2)\\source\\shoe_detection_dataset\\extracted_shoes_dataset\\train\\images\\0359524_jpg.rf.37bd0c4217163d383a7d64e10c9353fe.jpg: 1 duplicate labels removed\n",
      "\u001b[34m\u001b[1mtrain: \u001b[0mWARNING  C:\\Users\\dhshs\\Documents\\CCTV(2)\\source\\shoe_detection_dataset\\extracted_shoes_dataset\\train\\images\\0359693_jpg.rf.5eb5cfda42313fe568293449e458f900.jpg: 1 duplicate labels removed\n",
      "\u001b[34m\u001b[1mtrain: \u001b[0mWARNING  C:\\Users\\dhshs\\Documents\\CCTV(2)\\source\\shoe_detection_dataset\\extracted_shoes_dataset\\train\\images\\0362987_jpg.rf.a84683c47964e388b91291d82d6e6729.jpg: 1 duplicate labels removed\n",
      "\u001b[34m\u001b[1mtrain: \u001b[0mWARNING  C:\\Users\\dhshs\\Documents\\CCTV(2)\\source\\shoe_detection_dataset\\extracted_shoes_dataset\\train\\images\\0365195_jpg.rf.83618c6f74b98f026aa9e9b054023883.jpg: 1 duplicate labels removed\n",
      "\u001b[34m\u001b[1mtrain: \u001b[0mWARNING  C:\\Users\\dhshs\\Documents\\CCTV(2)\\source\\shoe_detection_dataset\\extracted_shoes_dataset\\train\\images\\0367033_jpg.rf.ef0426c5f6c8e94ebc179d931ba4d35f.jpg: 1 duplicate labels removed\n",
      "\u001b[34m\u001b[1mtrain: \u001b[0mWARNING  C:\\Users\\dhshs\\Documents\\CCTV(2)\\source\\shoe_detection_dataset\\extracted_shoes_dataset\\train\\images\\0369340_jpg.rf.79faf69da41b01558a9bdde9aebf2223.jpg: 1 duplicate labels removed\n",
      "\u001b[34m\u001b[1mtrain: \u001b[0mWARNING  C:\\Users\\dhshs\\Documents\\CCTV(2)\\source\\shoe_detection_dataset\\extracted_shoes_dataset\\train\\images\\0370824_jpg.rf.e524db6dd09e84c49ccf184ce2f2dd64.jpg: 1 duplicate labels removed\n",
      "\u001b[34m\u001b[1mtrain: \u001b[0mWARNING  C:\\Users\\dhshs\\Documents\\CCTV(2)\\source\\shoe_detection_dataset\\extracted_shoes_dataset\\train\\images\\0371732_jpg.rf.00aee7dda0bc488af4ea93d5915cb2de.jpg: 1 duplicate labels removed\n",
      "\u001b[34m\u001b[1mtrain: \u001b[0mWARNING  C:\\Users\\dhshs\\Documents\\CCTV(2)\\source\\shoe_detection_dataset\\extracted_shoes_dataset\\train\\images\\0372629_jpg.rf.8632a317e6b0002302c56e4601315fd8.jpg: 1 duplicate labels removed\n",
      "\u001b[34m\u001b[1mtrain: \u001b[0mWARNING  C:\\Users\\dhshs\\Documents\\CCTV(2)\\source\\shoe_detection_dataset\\extracted_shoes_dataset\\train\\images\\0372951_jpg.rf.1a2e540718f242103ad6a4a317cea35a.jpg: 1 duplicate labels removed\n",
      "\u001b[34m\u001b[1mtrain: \u001b[0mWARNING  C:\\Users\\dhshs\\Documents\\CCTV(2)\\source\\shoe_detection_dataset\\extracted_shoes_dataset\\train\\images\\0374511_jpg.rf.bf3b19e4249b73be3c18dfeecdb93616.jpg: 1 duplicate labels removed\n",
      "\u001b[34m\u001b[1mtrain: \u001b[0mWARNING  C:\\Users\\dhshs\\Documents\\CCTV(2)\\source\\shoe_detection_dataset\\extracted_shoes_dataset\\train\\images\\0374674_jpg.rf.ebfdb0a2d9e6be6649251f41cbb70904.jpg: 1 duplicate labels removed\n",
      "\u001b[34m\u001b[1mtrain: \u001b[0mWARNING  C:\\Users\\dhshs\\Documents\\CCTV(2)\\source\\shoe_detection_dataset\\extracted_shoes_dataset\\train\\images\\0379974_jpg.rf.6c30b7a6d081d728da2bb7c219e3a4cb.jpg: 1 duplicate labels removed\n",
      "\u001b[34m\u001b[1mtrain: \u001b[0mWARNING  C:\\Users\\dhshs\\Documents\\CCTV(2)\\source\\shoe_detection_dataset\\extracted_shoes_dataset\\train\\images\\0381201_jpg.rf.bb2a04fc8a24fd8b6e7814a645b1d744.jpg: 1 duplicate labels removed\n",
      "\u001b[34m\u001b[1mtrain: \u001b[0mWARNING  C:\\Users\\dhshs\\Documents\\CCTV(2)\\source\\shoe_detection_dataset\\extracted_shoes_dataset\\train\\images\\0382657_jpg.rf.c8ff22c6d444fc310c42b7008cf289ef.jpg: 1 duplicate labels removed\n",
      "\u001b[34m\u001b[1mtrain: \u001b[0mWARNING  C:\\Users\\dhshs\\Documents\\CCTV(2)\\source\\shoe_detection_dataset\\extracted_shoes_dataset\\train\\images\\0386963_jpg.rf.b68892426a545c645686fd479df51935.jpg: 1 duplicate labels removed\n",
      "\u001b[34m\u001b[1mtrain: \u001b[0mWARNING  C:\\Users\\dhshs\\Documents\\CCTV(2)\\source\\shoe_detection_dataset\\extracted_shoes_dataset\\train\\images\\0387139_jpg.rf.dc2567710a583ff452faa4f4e732ac5a.jpg: 1 duplicate labels removed\n",
      "\u001b[34m\u001b[1mtrain: \u001b[0mWARNING  C:\\Users\\dhshs\\Documents\\CCTV(2)\\source\\shoe_detection_dataset\\extracted_shoes_dataset\\train\\images\\0390732_jpg.rf.169280b6a6e60eb4d2eb432d6df491e7.jpg: 1 duplicate labels removed\n",
      "\u001b[34m\u001b[1mtrain: \u001b[0mWARNING  C:\\Users\\dhshs\\Documents\\CCTV(2)\\source\\shoe_detection_dataset\\extracted_shoes_dataset\\train\\images\\0393428_jpg.rf.67159eca54b02966fb8e5b24d49945b8.jpg: 1 duplicate labels removed\n",
      "\u001b[34m\u001b[1mtrain: \u001b[0mWARNING  C:\\Users\\dhshs\\Documents\\CCTV(2)\\source\\shoe_detection_dataset\\extracted_shoes_dataset\\train\\images\\0394220_jpg.rf.f236fdae9c08f153f9d781de53669a07.jpg: 1 duplicate labels removed\n",
      "\u001b[34m\u001b[1mtrain: \u001b[0mWARNING  C:\\Users\\dhshs\\Documents\\CCTV(2)\\source\\shoe_detection_dataset\\extracted_shoes_dataset\\train\\images\\0394342_jpg.rf.b93316506aa9edd3b5443eba47060518.jpg: 1 duplicate labels removed\n",
      "\u001b[34m\u001b[1mtrain: \u001b[0mWARNING  C:\\Users\\dhshs\\Documents\\CCTV(2)\\source\\shoe_detection_dataset\\extracted_shoes_dataset\\train\\images\\0394357_jpg.rf.19f4bf47df8565ce37bba56e2595eb83.jpg: 1 duplicate labels removed\n",
      "\u001b[34m\u001b[1mtrain: \u001b[0mWARNING  C:\\Users\\dhshs\\Documents\\CCTV(2)\\source\\shoe_detection_dataset\\extracted_shoes_dataset\\train\\images\\0395100_jpg.rf.ecb789ae41467b7c53fdf5908e3522f0.jpg: 1 duplicate labels removed\n",
      "\u001b[34m\u001b[1mtrain: \u001b[0mWARNING  C:\\Users\\dhshs\\Documents\\CCTV(2)\\source\\shoe_detection_dataset\\extracted_shoes_dataset\\train\\images\\0396018_jpg.rf.b53c33a52edb729a6332822541602666.jpg: 1 duplicate labels removed\n",
      "\u001b[34m\u001b[1mtrain: \u001b[0mWARNING  C:\\Users\\dhshs\\Documents\\CCTV(2)\\source\\shoe_detection_dataset\\extracted_shoes_dataset\\train\\images\\0398223_jpg.rf.723467eae0cb9fe38e4f16c750f6e524.jpg: 1 duplicate labels removed\n",
      "\u001b[34m\u001b[1mtrain: \u001b[0mWARNING  C:\\Users\\dhshs\\Documents\\CCTV(2)\\source\\shoe_detection_dataset\\extracted_shoes_dataset\\train\\images\\0398386_jpg.rf.ce0b3f3390fb68852619c3b1d0e37672.jpg: 1 duplicate labels removed\n",
      "\u001b[34m\u001b[1mtrain: \u001b[0mWARNING  C:\\Users\\dhshs\\Documents\\CCTV(2)\\source\\shoe_detection_dataset\\extracted_shoes_dataset\\train\\images\\0399918_jpg.rf.0021cde29052ac73a7ab4e64d0458511.jpg: 1 duplicate labels removed\n",
      "\u001b[34m\u001b[1mtrain: \u001b[0mWARNING  C:\\Users\\dhshs\\Documents\\CCTV(2)\\source\\shoe_detection_dataset\\extracted_shoes_dataset\\train\\images\\0400068_jpg.rf.fd9d775bae7bce9b1e901ae1280b0ff5.jpg: 1 duplicate labels removed\n",
      "\u001b[34m\u001b[1mtrain: \u001b[0mWARNING  C:\\Users\\dhshs\\Documents\\CCTV(2)\\source\\shoe_detection_dataset\\extracted_shoes_dataset\\train\\images\\0412543_jpg.rf.339cb920a9c86bec1a71cd438ffbb83f.jpg: 1 duplicate labels removed\n",
      "\u001b[34m\u001b[1mtrain: \u001b[0mWARNING  C:\\Users\\dhshs\\Documents\\CCTV(2)\\source\\shoe_detection_dataset\\extracted_shoes_dataset\\train\\images\\0412812_jpg.rf.599ca885c316c0fbe7a7ee14f6820b77.jpg: 1 duplicate labels removed\n",
      "\u001b[34m\u001b[1mtrain: \u001b[0mWARNING  C:\\Users\\dhshs\\Documents\\CCTV(2)\\source\\shoe_detection_dataset\\extracted_shoes_dataset\\train\\images\\0413071_jpg.rf.caaa092a561a5e7f560fc8e9cac0eb11.jpg: 1 duplicate labels removed\n",
      "\u001b[34m\u001b[1mtrain: \u001b[0mWARNING  C:\\Users\\dhshs\\Documents\\CCTV(2)\\source\\shoe_detection_dataset\\extracted_shoes_dataset\\train\\images\\0416240_jpg.rf.6749eff7e9f37046770c92eb45fbc3c8.jpg: 1 duplicate labels removed\n",
      "\u001b[34m\u001b[1mtrain: \u001b[0mWARNING  C:\\Users\\dhshs\\Documents\\CCTV(2)\\source\\shoe_detection_dataset\\extracted_shoes_dataset\\train\\images\\0416643_jpg.rf.b9d430ad1b5207203e1e5165d646c323.jpg: 1 duplicate labels removed\n",
      "\u001b[34m\u001b[1mtrain: \u001b[0mWARNING  C:\\Users\\dhshs\\Documents\\CCTV(2)\\source\\shoe_detection_dataset\\extracted_shoes_dataset\\train\\images\\0417348_jpg.rf.d982e37e32ae0e4fd4b83d1c7da1fe4d.jpg: 1 duplicate labels removed\n",
      "\u001b[34m\u001b[1mtrain: \u001b[0mWARNING  C:\\Users\\dhshs\\Documents\\CCTV(2)\\source\\shoe_detection_dataset\\extracted_shoes_dataset\\train\\images\\0418097_jpg.rf.23745387d279afb6fb1fcfdc6ecd0703.jpg: 1 duplicate labels removed\n",
      "\u001b[34m\u001b[1mtrain: \u001b[0mWARNING  C:\\Users\\dhshs\\Documents\\CCTV(2)\\source\\shoe_detection_dataset\\extracted_shoes_dataset\\train\\images\\0418655_jpg.rf.5212e08c51ac61fed2a81f79b50ca6ed.jpg: 1 duplicate labels removed\n",
      "\u001b[34m\u001b[1mtrain: \u001b[0mWARNING  C:\\Users\\dhshs\\Documents\\CCTV(2)\\source\\shoe_detection_dataset\\extracted_shoes_dataset\\train\\images\\0418867_jpg.rf.2a3b3a51da506ea7908003947f9d0ef6.jpg: 1 duplicate labels removed\n",
      "\u001b[34m\u001b[1mtrain: \u001b[0mWARNING  C:\\Users\\dhshs\\Documents\\CCTV(2)\\source\\shoe_detection_dataset\\extracted_shoes_dataset\\train\\images\\0419173_jpg.rf.daefc39ed7a278396034876d7e0f244d.jpg: 1 duplicate labels removed\n",
      "\u001b[34m\u001b[1mtrain: \u001b[0mWARNING  C:\\Users\\dhshs\\Documents\\CCTV(2)\\source\\shoe_detection_dataset\\extracted_shoes_dataset\\train\\images\\0420119_jpg.rf.02bd898a899db4e7a4d22e1eb6affb34.jpg: 1 duplicate labels removed\n",
      "\u001b[34m\u001b[1mtrain: \u001b[0mWARNING  C:\\Users\\dhshs\\Documents\\CCTV(2)\\source\\shoe_detection_dataset\\extracted_shoes_dataset\\train\\images\\0420655_jpg.rf.462922f5b5785f9949999b4eecf96fe4.jpg: 1 duplicate labels removed\n",
      "\u001b[34m\u001b[1mtrain: \u001b[0mWARNING  C:\\Users\\dhshs\\Documents\\CCTV(2)\\source\\shoe_detection_dataset\\extracted_shoes_dataset\\train\\images\\0420864_jpg.rf.18d7223291b9d4ea35bc3d428751aa4b.jpg: 1 duplicate labels removed\n",
      "\u001b[34m\u001b[1mtrain: \u001b[0mWARNING  C:\\Users\\dhshs\\Documents\\CCTV(2)\\source\\shoe_detection_dataset\\extracted_shoes_dataset\\train\\images\\0422451_jpg.rf.14fee364072b88212c4831f4b09947aa.jpg: 1 duplicate labels removed\n",
      "\u001b[34m\u001b[1mtrain: \u001b[0mWARNING  C:\\Users\\dhshs\\Documents\\CCTV(2)\\source\\shoe_detection_dataset\\extracted_shoes_dataset\\train\\images\\0422578_jpg.rf.3d5a14ec04d826b7853868d90497ff2f.jpg: 1 duplicate labels removed\n",
      "\u001b[34m\u001b[1mtrain: \u001b[0mWARNING  C:\\Users\\dhshs\\Documents\\CCTV(2)\\source\\shoe_detection_dataset\\extracted_shoes_dataset\\train\\images\\0424384_jpg.rf.32d6a7c841fed8be5e6fbdbab6f25c06.jpg: 1 duplicate labels removed\n",
      "\u001b[34m\u001b[1mtrain: \u001b[0mWARNING  C:\\Users\\dhshs\\Documents\\CCTV(2)\\source\\shoe_detection_dataset\\extracted_shoes_dataset\\train\\images\\0430440_jpg.rf.3191d2a077aacde02cf7d30a81d42c86.jpg: 1 duplicate labels removed\n",
      "\u001b[34m\u001b[1mtrain: \u001b[0mWARNING  C:\\Users\\dhshs\\Documents\\CCTV(2)\\source\\shoe_detection_dataset\\extracted_shoes_dataset\\train\\images\\0430907_jpg.rf.1147d0de6cae5bbdf9ccd5d192e30127.jpg: 1 duplicate labels removed\n",
      "\u001b[34m\u001b[1mtrain: \u001b[0mWARNING  C:\\Users\\dhshs\\Documents\\CCTV(2)\\source\\shoe_detection_dataset\\extracted_shoes_dataset\\train\\images\\0431038_jpg.rf.23fb34a96e4717f7c2e0359b5d3b0c4c.jpg: 1 duplicate labels removed\n",
      "\u001b[34m\u001b[1mtrain: \u001b[0mWARNING  C:\\Users\\dhshs\\Documents\\CCTV(2)\\source\\shoe_detection_dataset\\extracted_shoes_dataset\\train\\images\\0431166_jpg.rf.c228ee1d85d06f187f4230130f3dcb7d.jpg: 1 duplicate labels removed\n",
      "\u001b[34m\u001b[1mtrain: \u001b[0mWARNING  C:\\Users\\dhshs\\Documents\\CCTV(2)\\source\\shoe_detection_dataset\\extracted_shoes_dataset\\train\\images\\0432287_jpg.rf.50c4ca6f0d6df0b56f067d9e204d832c.jpg: 1 duplicate labels removed\n",
      "\u001b[34m\u001b[1mtrain: \u001b[0mWARNING  C:\\Users\\dhshs\\Documents\\CCTV(2)\\source\\shoe_detection_dataset\\extracted_shoes_dataset\\train\\images\\0433377_jpg.rf.bcbd7a3cedc27a7f2e5e4fff6131ddbc.jpg: 1 duplicate labels removed\n",
      "\u001b[34m\u001b[1mtrain: \u001b[0mWARNING  C:\\Users\\dhshs\\Documents\\CCTV(2)\\source\\shoe_detection_dataset\\extracted_shoes_dataset\\train\\images\\0433955_jpg.rf.607f84fc149e1642f2b774839f60cefd.jpg: 1 duplicate labels removed\n",
      "\u001b[34m\u001b[1mtrain: \u001b[0mWARNING  C:\\Users\\dhshs\\Documents\\CCTV(2)\\source\\shoe_detection_dataset\\extracted_shoes_dataset\\train\\images\\0436236_jpg.rf.5ec3e430213bc1c94ee422cdeff4433a.jpg: 1 duplicate labels removed\n",
      "\u001b[34m\u001b[1mtrain: \u001b[0mWARNING  C:\\Users\\dhshs\\Documents\\CCTV(2)\\source\\shoe_detection_dataset\\extracted_shoes_dataset\\train\\images\\0437895_jpg.rf.41cc01c8f34e55cfc8e1dd38648c4ec9.jpg: 1 duplicate labels removed\n",
      "\u001b[34m\u001b[1mtrain: \u001b[0mWARNING  C:\\Users\\dhshs\\Documents\\CCTV(2)\\source\\shoe_detection_dataset\\extracted_shoes_dataset\\train\\images\\0439098_jpg.rf.62bd1ca046a14cef40ed445aaf166e30.jpg: 1 duplicate labels removed\n",
      "\u001b[34m\u001b[1mtrain: \u001b[0mWARNING  C:\\Users\\dhshs\\Documents\\CCTV(2)\\source\\shoe_detection_dataset\\extracted_shoes_dataset\\train\\images\\0441479_jpg.rf.43e3b366a9741ea9a1c163af4613d88d.jpg: 1 duplicate labels removed\n",
      "\u001b[34m\u001b[1mtrain: \u001b[0mWARNING  C:\\Users\\dhshs\\Documents\\CCTV(2)\\source\\shoe_detection_dataset\\extracted_shoes_dataset\\train\\images\\0441725_jpg.rf.e2e625e9686940743f3afffa3b47d34a.jpg: 1 duplicate labels removed\n",
      "\u001b[34m\u001b[1mtrain: \u001b[0mWARNING  C:\\Users\\dhshs\\Documents\\CCTV(2)\\source\\shoe_detection_dataset\\extracted_shoes_dataset\\train\\images\\0447744_jpg.rf.86ae45aa2685cf28f01f2068a1a908c0.jpg: 1 duplicate labels removed\n",
      "\u001b[34m\u001b[1mtrain: \u001b[0mWARNING  C:\\Users\\dhshs\\Documents\\CCTV(2)\\source\\shoe_detection_dataset\\extracted_shoes_dataset\\train\\images\\0448273_jpg.rf.6972fe100c4713e642929a40f3731bdb.jpg: 1 duplicate labels removed\n",
      "\u001b[34m\u001b[1mtrain: \u001b[0mWARNING  C:\\Users\\dhshs\\Documents\\CCTV(2)\\source\\shoe_detection_dataset\\extracted_shoes_dataset\\train\\images\\0450570_jpg.rf.611c3df21d31b1bca1da33fda324d876.jpg: 1 duplicate labels removed\n",
      "\u001b[34m\u001b[1mtrain: \u001b[0mWARNING  C:\\Users\\dhshs\\Documents\\CCTV(2)\\source\\shoe_detection_dataset\\extracted_shoes_dataset\\train\\images\\0451295_jpg.rf.a4b239da6d6368393e7790bb9f9081ca.jpg: 1 duplicate labels removed\n",
      "\u001b[34m\u001b[1mtrain: \u001b[0mWARNING  C:\\Users\\dhshs\\Documents\\CCTV(2)\\source\\shoe_detection_dataset\\extracted_shoes_dataset\\train\\images\\0451686_jpg.rf.b25cf26253870d03aa0a3dfe299234c6.jpg: 1 duplicate labels removed\n",
      "\u001b[34m\u001b[1mtrain: \u001b[0mWARNING  C:\\Users\\dhshs\\Documents\\CCTV(2)\\source\\shoe_detection_dataset\\extracted_shoes_dataset\\train\\images\\0452361_jpg.rf.7e62e823b5eb8f1f6b0f449955a22fdf.jpg: 1 duplicate labels removed\n",
      "\u001b[34m\u001b[1mtrain: \u001b[0mWARNING  C:\\Users\\dhshs\\Documents\\CCTV(2)\\source\\shoe_detection_dataset\\extracted_shoes_dataset\\train\\images\\0452439_jpg.rf.cc09b7eb57f134b48408e86f103527f6.jpg: 1 duplicate labels removed\n",
      "\u001b[34m\u001b[1mtrain: \u001b[0mWARNING  C:\\Users\\dhshs\\Documents\\CCTV(2)\\source\\shoe_detection_dataset\\extracted_shoes_dataset\\train\\images\\0453127_jpg.rf.ade8c1418044d772a6cd2ee0cd48138a.jpg: 1 duplicate labels removed\n",
      "\u001b[34m\u001b[1mtrain: \u001b[0mWARNING  C:\\Users\\dhshs\\Documents\\CCTV(2)\\source\\shoe_detection_dataset\\extracted_shoes_dataset\\train\\images\\0454459_jpg.rf.14ab69b14738d421327ee081061989ff.jpg: 1 duplicate labels removed\n",
      "\u001b[34m\u001b[1mtrain: \u001b[0mWARNING  C:\\Users\\dhshs\\Documents\\CCTV(2)\\source\\shoe_detection_dataset\\extracted_shoes_dataset\\train\\images\\0458459_jpg.rf.20657f85bf5e7be9fa2e662e8b4cce53.jpg: 1 duplicate labels removed\n",
      "\u001b[34m\u001b[1mtrain: \u001b[0mWARNING  C:\\Users\\dhshs\\Documents\\CCTV(2)\\source\\shoe_detection_dataset\\extracted_shoes_dataset\\train\\images\\0460510_jpg.rf.954b68732322697d46a9d361d0dd47ca.jpg: 1 duplicate labels removed\n",
      "\u001b[34m\u001b[1mtrain: \u001b[0mWARNING  C:\\Users\\dhshs\\Documents\\CCTV(2)\\source\\shoe_detection_dataset\\extracted_shoes_dataset\\train\\images\\0461989_jpg.rf.0842b71e7757a368504123a193376116.jpg: 1 duplicate labels removed\n",
      "\u001b[34m\u001b[1mtrain: \u001b[0mWARNING  C:\\Users\\dhshs\\Documents\\CCTV(2)\\source\\shoe_detection_dataset\\extracted_shoes_dataset\\train\\images\\0468028_jpg.rf.18ac068aa457228f0c8ead2e8e81baf8.jpg: 1 duplicate labels removed\n",
      "\u001b[34m\u001b[1mtrain: \u001b[0mWARNING  C:\\Users\\dhshs\\Documents\\CCTV(2)\\source\\shoe_detection_dataset\\extracted_shoes_dataset\\train\\images\\0471829_jpg.rf.7efdd9e29b02c496bba157f11a67cd20.jpg: 1 duplicate labels removed\n",
      "\u001b[34m\u001b[1mtrain: \u001b[0mWARNING  C:\\Users\\dhshs\\Documents\\CCTV(2)\\source\\shoe_detection_dataset\\extracted_shoes_dataset\\train\\images\\0473434_jpg.rf.80e3a3d22ea280ba9353ea4674382d54.jpg: 1 duplicate labels removed\n",
      "\u001b[34m\u001b[1mtrain: \u001b[0mWARNING  C:\\Users\\dhshs\\Documents\\CCTV(2)\\source\\shoe_detection_dataset\\extracted_shoes_dataset\\train\\images\\0475938_jpg.rf.33bb3d78823885c5f35dcb7bf529cb94.jpg: 1 duplicate labels removed\n",
      "\u001b[34m\u001b[1mtrain: \u001b[0mWARNING  C:\\Users\\dhshs\\Documents\\CCTV(2)\\source\\shoe_detection_dataset\\extracted_shoes_dataset\\train\\images\\0476952_jpg.rf.0217c10a4cf01292b30114dc7058faa5.jpg: 1 duplicate labels removed\n",
      "\u001b[34m\u001b[1mtrain: \u001b[0mWARNING  C:\\Users\\dhshs\\Documents\\CCTV(2)\\source\\shoe_detection_dataset\\extracted_shoes_dataset\\train\\images\\0478968_jpg.rf.d64dbfa3412cefed7e4be61f372fc611.jpg: 1 duplicate labels removed\n",
      "\u001b[34m\u001b[1mtrain: \u001b[0mWARNING  C:\\Users\\dhshs\\Documents\\CCTV(2)\\source\\shoe_detection_dataset\\extracted_shoes_dataset\\train\\images\\0480805_jpg.rf.3d53436d61c75739b20885c92f2a3ecd.jpg: 1 duplicate labels removed\n",
      "\u001b[34m\u001b[1mtrain: \u001b[0mWARNING  C:\\Users\\dhshs\\Documents\\CCTV(2)\\source\\shoe_detection_dataset\\extracted_shoes_dataset\\train\\images\\0482961_jpg.rf.adf7b60b0851673ab4c762b494f9fa13.jpg: 1 duplicate labels removed\n",
      "\u001b[34m\u001b[1mtrain: \u001b[0mWARNING  C:\\Users\\dhshs\\Documents\\CCTV(2)\\source\\shoe_detection_dataset\\extracted_shoes_dataset\\train\\images\\0484651_jpg.rf.a2bda6e31f30cc7bd572de00feee52c8.jpg: 1 duplicate labels removed\n",
      "\u001b[34m\u001b[1mtrain: \u001b[0mWARNING  C:\\Users\\dhshs\\Documents\\CCTV(2)\\source\\shoe_detection_dataset\\extracted_shoes_dataset\\train\\images\\0484679_jpg.rf.35777046558795f030c044af96b5435e.jpg: 1 duplicate labels removed\n",
      "\u001b[34m\u001b[1mtrain: \u001b[0mWARNING  C:\\Users\\dhshs\\Documents\\CCTV(2)\\source\\shoe_detection_dataset\\extracted_shoes_dataset\\train\\images\\0485173_jpg.rf.f28445360b3217aca2f540e607c9e13f.jpg: 1 duplicate labels removed\n",
      "\u001b[34m\u001b[1mtrain: \u001b[0mWARNING  C:\\Users\\dhshs\\Documents\\CCTV(2)\\source\\shoe_detection_dataset\\extracted_shoes_dataset\\train\\images\\0487405_jpg.rf.1c1f36f60af632325b4260e26ed8c2ff.jpg: 1 duplicate labels removed\n",
      "\u001b[34m\u001b[1mtrain: \u001b[0mWARNING  C:\\Users\\dhshs\\Documents\\CCTV(2)\\source\\shoe_detection_dataset\\extracted_shoes_dataset\\train\\images\\0487607_jpg.rf.7decf839f225aebbd4118e0295340efa.jpg: 1 duplicate labels removed\n",
      "\u001b[34m\u001b[1mtrain: \u001b[0mWARNING  C:\\Users\\dhshs\\Documents\\CCTV(2)\\source\\shoe_detection_dataset\\extracted_shoes_dataset\\train\\images\\0487944_jpg.rf.85f6fbb2b6a1dbff1316ad77963b4d7d.jpg: 1 duplicate labels removed\n",
      "\u001b[34m\u001b[1mtrain: \u001b[0mWARNING  C:\\Users\\dhshs\\Documents\\CCTV(2)\\source\\shoe_detection_dataset\\extracted_shoes_dataset\\train\\images\\0489821_jpg.rf.f94431115e5a88ad8ea8f5d86ab1f82a.jpg: 1 duplicate labels removed\n",
      "\u001b[34m\u001b[1mtrain: \u001b[0mWARNING  C:\\Users\\dhshs\\Documents\\CCTV(2)\\source\\shoe_detection_dataset\\extracted_shoes_dataset\\train\\images\\0491851_jpg.rf.40ddf7509d571a6b16aa01d7714ae297.jpg: 1 duplicate labels removed\n",
      "\u001b[34m\u001b[1mtrain: \u001b[0mWARNING  C:\\Users\\dhshs\\Documents\\CCTV(2)\\source\\shoe_detection_dataset\\extracted_shoes_dataset\\train\\images\\0491918_jpg.rf.72fd5df0c3517d2fedd6061891dd7f73.jpg: 1 duplicate labels removed\n",
      "\u001b[34m\u001b[1mtrain: \u001b[0mWARNING  C:\\Users\\dhshs\\Documents\\CCTV(2)\\source\\shoe_detection_dataset\\extracted_shoes_dataset\\train\\images\\0492024_jpg.rf.898f8f7563a72b7bc8aa861130f1685c.jpg: 1 duplicate labels removed\n",
      "\u001b[34m\u001b[1mtrain: \u001b[0mWARNING  C:\\Users\\dhshs\\Documents\\CCTV(2)\\source\\shoe_detection_dataset\\extracted_shoes_dataset\\train\\images\\0494280_jpg.rf.cf26f00949a070717df823da2e690d21.jpg: 1 duplicate labels removed\n",
      "\u001b[34m\u001b[1mtrain: \u001b[0mWARNING  C:\\Users\\dhshs\\Documents\\CCTV(2)\\source\\shoe_detection_dataset\\extracted_shoes_dataset\\train\\images\\0494282_jpg.rf.773d10d1a2a001faae7031c7a8bf3d6e.jpg: 1 duplicate labels removed\n",
      "\u001b[34m\u001b[1mtrain: \u001b[0mWARNING  C:\\Users\\dhshs\\Documents\\CCTV(2)\\source\\shoe_detection_dataset\\extracted_shoes_dataset\\train\\images\\0494326_jpg.rf.0c38ac6a72e00db5027619d52b8f3b1f.jpg: 1 duplicate labels removed\n",
      "\u001b[34m\u001b[1mtrain: \u001b[0mWARNING  C:\\Users\\dhshs\\Documents\\CCTV(2)\\source\\shoe_detection_dataset\\extracted_shoes_dataset\\train\\images\\0496308_jpg.rf.bbd103971eb7aeadbc007f6259ccf073.jpg: 1 duplicate labels removed\n",
      "\u001b[34m\u001b[1mtrain: \u001b[0mWARNING  C:\\Users\\dhshs\\Documents\\CCTV(2)\\source\\shoe_detection_dataset\\extracted_shoes_dataset\\train\\images\\0496871_jpg.rf.52c16539bb50091223cf1ef5602d86b7.jpg: 1 duplicate labels removed\n",
      "\u001b[34m\u001b[1mtrain: \u001b[0mWARNING  C:\\Users\\dhshs\\Documents\\CCTV(2)\\source\\shoe_detection_dataset\\extracted_shoes_dataset\\train\\images\\0496906_jpg.rf.eb38885ea8c7c0b2b0bdf17393216834.jpg: 1 duplicate labels removed\n",
      "\u001b[34m\u001b[1mtrain: \u001b[0mWARNING  C:\\Users\\dhshs\\Documents\\CCTV(2)\\source\\shoe_detection_dataset\\extracted_shoes_dataset\\train\\images\\0497760_jpg.rf.3d7f2fdd1aeeec0234b5df51409fd1e9.jpg: 1 duplicate labels removed\n",
      "\u001b[34m\u001b[1mtrain: \u001b[0mWARNING  C:\\Users\\dhshs\\Documents\\CCTV(2)\\source\\shoe_detection_dataset\\extracted_shoes_dataset\\train\\images\\0498938_jpg.rf.6592bc5f051c30fd8c9a4f9eafa05a42.jpg: 1 duplicate labels removed\n",
      "\u001b[34m\u001b[1mtrain: \u001b[0mWARNING  C:\\Users\\dhshs\\Documents\\CCTV(2)\\source\\shoe_detection_dataset\\extracted_shoes_dataset\\train\\images\\0501924_jpg.rf.7c96e680a7c048224854b36ddb388a62.jpg: 1 duplicate labels removed\n",
      "\u001b[34m\u001b[1mtrain: \u001b[0mWARNING  C:\\Users\\dhshs\\Documents\\CCTV(2)\\source\\shoe_detection_dataset\\extracted_shoes_dataset\\train\\images\\0502384_jpg.rf.5b199fcad08dc90122c38f81cacf0bac.jpg: 1 duplicate labels removed\n",
      "\u001b[34m\u001b[1mtrain: \u001b[0mWARNING  C:\\Users\\dhshs\\Documents\\CCTV(2)\\source\\shoe_detection_dataset\\extracted_shoes_dataset\\train\\images\\0503270_jpg.rf.792e7fe380dc4f575294976eb79196c2.jpg: 1 duplicate labels removed\n",
      "\u001b[34m\u001b[1mtrain: \u001b[0mWARNING  C:\\Users\\dhshs\\Documents\\CCTV(2)\\source\\shoe_detection_dataset\\extracted_shoes_dataset\\train\\images\\0533952_jpg.rf.dc52f772337b9afa8be0d9d47b4fbdd3.jpg: 1 duplicate labels removed\n",
      "\u001b[34m\u001b[1mtrain: \u001b[0mWARNING  C:\\Users\\dhshs\\Documents\\CCTV(2)\\source\\shoe_detection_dataset\\extracted_shoes_dataset\\train\\images\\0536418_jpg.rf.8edfa9a27f4d9cb920a2e3345d5deb93.jpg: 1 duplicate labels removed\n",
      "\u001b[34m\u001b[1mtrain: \u001b[0mWARNING  C:\\Users\\dhshs\\Documents\\CCTV(2)\\source\\shoe_detection_dataset\\extracted_shoes_dataset\\train\\images\\0536609_jpg.rf.33a4f17cd3f0133d5b75cfc129035b54.jpg: 1 duplicate labels removed\n",
      "\u001b[34m\u001b[1mtrain: \u001b[0mWARNING  C:\\Users\\dhshs\\Documents\\CCTV(2)\\source\\shoe_detection_dataset\\extracted_shoes_dataset\\train\\images\\0541078_jpg.rf.e1297c4905c163b3ee458ec515761832.jpg: 1 duplicate labels removed\n",
      "\u001b[34m\u001b[1mtrain: \u001b[0mWARNING  C:\\Users\\dhshs\\Documents\\CCTV(2)\\source\\shoe_detection_dataset\\extracted_shoes_dataset\\train\\images\\0541290_jpg.rf.dd73bbfdfe6a16a61dd97968890462e3.jpg: 1 duplicate labels removed\n",
      "\u001b[34m\u001b[1mtrain: \u001b[0mWARNING  C:\\Users\\dhshs\\Documents\\CCTV(2)\\source\\shoe_detection_dataset\\extracted_shoes_dataset\\train\\images\\0541522_jpg.rf.5b769fef4547a9b53769af1e42b30f96.jpg: 1 duplicate labels removed\n",
      "\u001b[34m\u001b[1mtrain: \u001b[0mWARNING  C:\\Users\\dhshs\\Documents\\CCTV(2)\\source\\shoe_detection_dataset\\extracted_shoes_dataset\\train\\images\\0543686_jpg.rf.436f71881bd2c586b48b4bd322d67bae.jpg: 1 duplicate labels removed\n",
      "\u001b[34m\u001b[1mtrain: \u001b[0mWARNING  C:\\Users\\dhshs\\Documents\\CCTV(2)\\source\\shoe_detection_dataset\\extracted_shoes_dataset\\train\\images\\0544303_jpg.rf.72b9ec024a314ee21399a217336b630a.jpg: 1 duplicate labels removed\n",
      "\u001b[34m\u001b[1mtrain: \u001b[0mWARNING  C:\\Users\\dhshs\\Documents\\CCTV(2)\\source\\shoe_detection_dataset\\extracted_shoes_dataset\\train\\images\\0546894_jpg.rf.0c3064f33b86fc6a51626bb106fb8024.jpg: 1 duplicate labels removed\n",
      "\u001b[34m\u001b[1mtrain: \u001b[0mWARNING  C:\\Users\\dhshs\\Documents\\CCTV(2)\\source\\shoe_detection_dataset\\extracted_shoes_dataset\\train\\images\\0548113_jpg.rf.e9e64521b0c00fbcb63eb5a6dcbcf759.jpg: 1 duplicate labels removed\n",
      "\u001b[34m\u001b[1mtrain: \u001b[0mWARNING  C:\\Users\\dhshs\\Documents\\CCTV(2)\\source\\shoe_detection_dataset\\extracted_shoes_dataset\\train\\images\\0556868_jpg.rf.589df13ab41d5664b9e79d3376a95cfb.jpg: 1 duplicate labels removed\n",
      "\u001b[34m\u001b[1mtrain: \u001b[0mWARNING  C:\\Users\\dhshs\\Documents\\CCTV(2)\\source\\shoe_detection_dataset\\extracted_shoes_dataset\\train\\images\\0558677_jpg.rf.18f022af7afd02daed1a94c3e0af7685.jpg: 1 duplicate labels removed\n",
      "\u001b[34m\u001b[1mtrain: \u001b[0mWARNING  C:\\Users\\dhshs\\Documents\\CCTV(2)\\source\\shoe_detection_dataset\\extracted_shoes_dataset\\train\\images\\0568564_jpg.rf.4785898de397c5e82f940c821938d3e5.jpg: 1 duplicate labels removed\n",
      "\u001b[34m\u001b[1mtrain: \u001b[0mWARNING  C:\\Users\\dhshs\\Documents\\CCTV(2)\\source\\shoe_detection_dataset\\extracted_shoes_dataset\\train\\images\\0574576_jpg.rf.2f624c9ce8807baaaa341dbd8b85079d.jpg: 1 duplicate labels removed\n",
      "\u001b[34m\u001b[1mtrain: \u001b[0mWARNING  C:\\Users\\dhshs\\Documents\\CCTV(2)\\source\\shoe_detection_dataset\\extracted_shoes_dataset\\train\\images\\0575294_jpg.rf.a55db9a34b2ee275620b18cc5b284678.jpg: 1 duplicate labels removed\n",
      "\u001b[34m\u001b[1mtrain: \u001b[0mWARNING  C:\\Users\\dhshs\\Documents\\CCTV(2)\\source\\shoe_detection_dataset\\extracted_shoes_dataset\\train\\images\\0580233_jpg.rf.9d4992d0a71052d8d563fa63e907e9c2.jpg: 1 duplicate labels removed\n",
      "\u001b[34m\u001b[1mtrain: \u001b[0mWARNING  C:\\Users\\dhshs\\Documents\\CCTV(2)\\source\\shoe_detection_dataset\\extracted_shoes_dataset\\train\\images\\0580347_jpg.rf.bc84e8f705c025a378d1200d61930895.jpg: 1 duplicate labels removed\n",
      "\u001b[34m\u001b[1mtrain: \u001b[0mWARNING  C:\\Users\\dhshs\\Documents\\CCTV(2)\\source\\shoe_detection_dataset\\extracted_shoes_dataset\\train\\images\\0580591_jpg.rf.b38c58d96eddb2821b44e78c51ab1f6e.jpg: 1 duplicate labels removed\n",
      "\u001b[34m\u001b[1mtrain: \u001b[0mWARNING  C:\\Users\\dhshs\\Documents\\CCTV(2)\\source\\shoe_detection_dataset\\extracted_shoes_dataset\\train\\images\\0582635_jpg.rf.1e62c89370dad8fd34d3257c7100451d.jpg: 1 duplicate labels removed\n",
      "\u001b[34m\u001b[1mtrain: \u001b[0mWARNING  C:\\Users\\dhshs\\Documents\\CCTV(2)\\source\\shoe_detection_dataset\\extracted_shoes_dataset\\train\\images\\0582753_jpg.rf.857d913707dc0726e67c5937a1138553.jpg: 1 duplicate labels removed\n",
      "\u001b[34m\u001b[1mtrain: \u001b[0mWARNING  C:\\Users\\dhshs\\Documents\\CCTV(2)\\source\\shoe_detection_dataset\\extracted_shoes_dataset\\train\\images\\0588269_jpg.rf.679855422ed10d3a8c1a1f612ce84c0f.jpg: 1 duplicate labels removed\n",
      "\u001b[34m\u001b[1mtrain: \u001b[0mWARNING  C:\\Users\\dhshs\\Documents\\CCTV(2)\\source\\shoe_detection_dataset\\extracted_shoes_dataset\\train\\images\\0607866_jpg.rf.02f2f30f4768283fde29806ef77641ad.jpg: 1 duplicate labels removed\n",
      "\u001b[34m\u001b[1mtrain: \u001b[0mWARNING  C:\\Users\\dhshs\\Documents\\CCTV(2)\\source\\shoe_detection_dataset\\extracted_shoes_dataset\\train\\images\\0614428_jpg.rf.99b48c5d81f03771728834d1cd336e79.jpg: 1 duplicate labels removed\n",
      "\u001b[34m\u001b[1mtrain: \u001b[0mWARNING  C:\\Users\\dhshs\\Documents\\CCTV(2)\\source\\shoe_detection_dataset\\extracted_shoes_dataset\\train\\images\\0619669_jpg.rf.cc83caa9750c95f709f6d58270e66262.jpg: 1 duplicate labels removed\n",
      "\u001b[34m\u001b[1mtrain: \u001b[0mWARNING  C:\\Users\\dhshs\\Documents\\CCTV(2)\\source\\shoe_detection_dataset\\extracted_shoes_dataset\\train\\images\\0625355_jpg.rf.fb1cb7e554c96a986338095a48f5ba8f.jpg: 1 duplicate labels removed\n",
      "\u001b[34m\u001b[1mtrain: \u001b[0mWARNING  C:\\Users\\dhshs\\Documents\\CCTV(2)\\source\\shoe_detection_dataset\\extracted_shoes_dataset\\train\\images\\0625386_jpg.rf.75dcdae9413208fd7d6cde0f934f18b0.jpg: 1 duplicate labels removed\n",
      "\u001b[34m\u001b[1mtrain: \u001b[0mWARNING  C:\\Users\\dhshs\\Documents\\CCTV(2)\\source\\shoe_detection_dataset\\extracted_shoes_dataset\\train\\images\\0631469_jpg.rf.682561a5c21fc0555b88d57f6131010f.jpg: 1 duplicate labels removed\n",
      "\u001b[34m\u001b[1mtrain: \u001b[0mWARNING  C:\\Users\\dhshs\\Documents\\CCTV(2)\\source\\shoe_detection_dataset\\extracted_shoes_dataset\\train\\images\\0631525_jpg.rf.e740fa7a2479b4561683ad84267eab91.jpg: 1 duplicate labels removed\n",
      "\u001b[34m\u001b[1mtrain: \u001b[0mWARNING  C:\\Users\\dhshs\\Documents\\CCTV(2)\\source\\shoe_detection_dataset\\extracted_shoes_dataset\\train\\images\\0635191_jpg.rf.f97451484da79c3d7eddb1ec2fd878c4.jpg: 1 duplicate labels removed\n",
      "\u001b[34m\u001b[1mtrain: \u001b[0mWARNING  C:\\Users\\dhshs\\Documents\\CCTV(2)\\source\\shoe_detection_dataset\\extracted_shoes_dataset\\train\\images\\0638289_jpg.rf.165af79d05c37f9ee91e6176db8abe87.jpg: 1 duplicate labels removed\n",
      "\u001b[34m\u001b[1mtrain: \u001b[0mWARNING  C:\\Users\\dhshs\\Documents\\CCTV(2)\\source\\shoe_detection_dataset\\extracted_shoes_dataset\\train\\images\\0638934_jpg.rf.832e3da2a800d607797130540ca12da4.jpg: 1 duplicate labels removed\n",
      "\u001b[34m\u001b[1mtrain: \u001b[0mWARNING  C:\\Users\\dhshs\\Documents\\CCTV(2)\\source\\shoe_detection_dataset\\extracted_shoes_dataset\\train\\images\\0644033_jpg.rf.99c6ce508fd50dd3bc6a1a02128b9f95.jpg: 1 duplicate labels removed\n",
      "\u001b[34m\u001b[1mtrain: \u001b[0mWARNING  C:\\Users\\dhshs\\Documents\\CCTV(2)\\source\\shoe_detection_dataset\\extracted_shoes_dataset\\train\\images\\0648023_jpg.rf.3d1d4abbc7a661a654bc0804c26b61aa.jpg: 1 duplicate labels removed\n",
      "\u001b[34m\u001b[1mtrain: \u001b[0mWARNING  C:\\Users\\dhshs\\Documents\\CCTV(2)\\source\\shoe_detection_dataset\\extracted_shoes_dataset\\train\\images\\0683155_jpg.rf.efa43d0751b56271ddbba20503f9d52e.jpg: 1 duplicate labels removed\n",
      "\u001b[34m\u001b[1mtrain: \u001b[0mWARNING  C:\\Users\\dhshs\\Documents\\CCTV(2)\\source\\shoe_detection_dataset\\extracted_shoes_dataset\\train\\images\\0686398_jpg.rf.31d4d99065b50dc5afe24a3e40b1a029.jpg: 1 duplicate labels removed\n",
      "\u001b[34m\u001b[1mtrain: \u001b[0mWARNING  C:\\Users\\dhshs\\Documents\\CCTV(2)\\source\\shoe_detection_dataset\\extracted_shoes_dataset\\train\\images\\0688952_jpg.rf.552f1853b0514fab3735ba0e76ed2a3a.jpg: 1 duplicate labels removed\n",
      "\u001b[34m\u001b[1mtrain: \u001b[0mWARNING  C:\\Users\\dhshs\\Documents\\CCTV(2)\\source\\shoe_detection_dataset\\extracted_shoes_dataset\\train\\images\\0688982_jpg.rf.dde17caf0a38063d9f6c6fe0373e2306.jpg: 1 duplicate labels removed\n",
      "\u001b[34m\u001b[1mtrain: \u001b[0mWARNING  C:\\Users\\dhshs\\Documents\\CCTV(2)\\source\\shoe_detection_dataset\\extracted_shoes_dataset\\train\\images\\0690106_jpg.rf.ddcb2d6e91c757eb0b3fc6df354d6952.jpg: 1 duplicate labels removed\n",
      "\u001b[34m\u001b[1mtrain: \u001b[0mWARNING  C:\\Users\\dhshs\\Documents\\CCTV(2)\\source\\shoe_detection_dataset\\extracted_shoes_dataset\\train\\images\\0699911_jpg.rf.c4e5f7cd6fa62d2b40aab052db662562.jpg: 1 duplicate labels removed\n",
      "\u001b[34m\u001b[1mtrain: \u001b[0mWARNING  C:\\Users\\dhshs\\Documents\\CCTV(2)\\source\\shoe_detection_dataset\\extracted_shoes_dataset\\train\\images\\0700489_jpg.rf.c8a65404cb90a4c58b7a9da4b3c60fcb.jpg: 1 duplicate labels removed\n",
      "\u001b[34m\u001b[1mtrain: \u001b[0mWARNING  C:\\Users\\dhshs\\Documents\\CCTV(2)\\source\\shoe_detection_dataset\\extracted_shoes_dataset\\train\\images\\0700517_jpg.rf.e01c12e4e17bbfa668db88eea3da37a1.jpg: 1 duplicate labels removed\n",
      "\u001b[34m\u001b[1mtrain: \u001b[0mWARNING  C:\\Users\\dhshs\\Documents\\CCTV(2)\\source\\shoe_detection_dataset\\extracted_shoes_dataset\\train\\images\\0727183_jpg.rf.a72d00d9c26f8a9be49feb631903ed24.jpg: 1 duplicate labels removed\n",
      "\u001b[34m\u001b[1mtrain: \u001b[0mWARNING  C:\\Users\\dhshs\\Documents\\CCTV(2)\\source\\shoe_detection_dataset\\extracted_shoes_dataset\\train\\images\\0732417_jpg.rf.e556c4d16abf8b41019ead0d7f13aac0.jpg: 1 duplicate labels removed\n",
      "\u001b[34m\u001b[1mtrain: \u001b[0mWARNING  C:\\Users\\dhshs\\Documents\\CCTV(2)\\source\\shoe_detection_dataset\\extracted_shoes_dataset\\train\\images\\0734882_jpg.rf.5dfe480d83447a118c0700d4f2c9a9ed.jpg: 1 duplicate labels removed\n",
      "\u001b[34m\u001b[1mtrain: \u001b[0mWARNING  C:\\Users\\dhshs\\Documents\\CCTV(2)\\source\\shoe_detection_dataset\\extracted_shoes_dataset\\train\\images\\0735632_jpg.rf.b53a8a80daa875ce5c0c6c113ea6dba4.jpg: 1 duplicate labels removed\n",
      "\u001b[34m\u001b[1mtrain: \u001b[0mWARNING  C:\\Users\\dhshs\\Documents\\CCTV(2)\\source\\shoe_detection_dataset\\extracted_shoes_dataset\\train\\images\\0736300_jpg.rf.0a448f5e3a11e7b1e2674065073cca48.jpg: 1 duplicate labels removed\n",
      "\u001b[34m\u001b[1mtrain: \u001b[0mWARNING  C:\\Users\\dhshs\\Documents\\CCTV(2)\\source\\shoe_detection_dataset\\extracted_shoes_dataset\\train\\images\\0770554_jpg.rf.ca2bbd1f976c99976fae94797c658ec8.jpg: 1 duplicate labels removed\n",
      "\u001b[34m\u001b[1mtrain: \u001b[0mWARNING  C:\\Users\\dhshs\\Documents\\CCTV(2)\\source\\shoe_detection_dataset\\extracted_shoes_dataset\\train\\images\\0779563_jpg.rf.3ec953e4a60b075bad957fb29a79fba6.jpg: 1 duplicate labels removed\n",
      "\u001b[34m\u001b[1mtrain: \u001b[0mWARNING  C:\\Users\\dhshs\\Documents\\CCTV(2)\\source\\shoe_detection_dataset\\extracted_shoes_dataset\\train\\images\\0822190_jpg.rf.60775c79ade04fb0a7b196ab94ac028b.jpg: 1 duplicate labels removed\n",
      "\u001b[34m\u001b[1mtrain: \u001b[0mWARNING  C:\\Users\\dhshs\\Documents\\CCTV(2)\\source\\shoe_detection_dataset\\extracted_shoes_dataset\\train\\images\\0826536_jpg.rf.f5189eea01300aa16ec0f3677c302892.jpg: 1 duplicate labels removed\n",
      "\u001b[34m\u001b[1mtrain: \u001b[0mWARNING  C:\\Users\\dhshs\\Documents\\CCTV(2)\\source\\shoe_detection_dataset\\extracted_shoes_dataset\\train\\images\\0839823_jpg.rf.8638d001ee03760b40dd898a6805179b.jpg: 1 duplicate labels removed\n",
      "\u001b[34m\u001b[1mtrain: \u001b[0mWARNING  C:\\Users\\dhshs\\Documents\\CCTV(2)\\source\\shoe_detection_dataset\\extracted_shoes_dataset\\train\\images\\0849848_jpg.rf.9402192dc5a5477e7948616392296ab4.jpg: 1 duplicate labels removed\n",
      "\u001b[34m\u001b[1mtrain: \u001b[0mWARNING  C:\\Users\\dhshs\\Documents\\CCTV(2)\\source\\shoe_detection_dataset\\extracted_shoes_dataset\\train\\images\\0861682_jpg.rf.b542a3fcb5355a6608a62f3d08a5e377.jpg: 1 duplicate labels removed\n",
      "\u001b[34m\u001b[1mtrain: \u001b[0mWARNING  C:\\Users\\dhshs\\Documents\\CCTV(2)\\source\\shoe_detection_dataset\\extracted_shoes_dataset\\train\\images\\0880690_jpg.rf.44a58220ab95d87c04606c6b6a0372c5.jpg: 1 duplicate labels removed\n",
      "\u001b[34m\u001b[1mtrain: \u001b[0mWARNING  C:\\Users\\dhshs\\Documents\\CCTV(2)\\source\\shoe_detection_dataset\\extracted_shoes_dataset\\train\\images\\0882045_jpg.rf.af0893b2ade4da9324065479fbbaeb7f.jpg: 1 duplicate labels removed\n",
      "\u001b[34m\u001b[1mtrain: \u001b[0mWARNING  C:\\Users\\dhshs\\Documents\\CCTV(2)\\source\\shoe_detection_dataset\\extracted_shoes_dataset\\train\\images\\0883367_jpg.rf.2bbfb0461e1e3ec1ec705c2f8923b3b0.jpg: 1 duplicate labels removed\n",
      "\u001b[34m\u001b[1mtrain: \u001b[0mWARNING  C:\\Users\\dhshs\\Documents\\CCTV(2)\\source\\shoe_detection_dataset\\extracted_shoes_dataset\\train\\images\\0893188_jpg.rf.c1fd7f266d3748f96fb0202c65190c99.jpg: 1 duplicate labels removed\n",
      "\u001b[34m\u001b[1mtrain: \u001b[0mWARNING  C:\\Users\\dhshs\\Documents\\CCTV(2)\\source\\shoe_detection_dataset\\extracted_shoes_dataset\\train\\images\\0895299_jpg.rf.cdfbc95f2b9791a3cd42711fe2998432.jpg: 1 duplicate labels removed\n",
      "\u001b[34m\u001b[1mtrain: \u001b[0mWARNING  C:\\Users\\dhshs\\Documents\\CCTV(2)\\source\\shoe_detection_dataset\\extracted_shoes_dataset\\train\\images\\0895934_jpg.rf.0853208af04da7db8d08d5cd0a4eeace.jpg: 1 duplicate labels removed\n",
      "\u001b[34m\u001b[1mtrain: \u001b[0mWARNING  C:\\Users\\dhshs\\Documents\\CCTV(2)\\source\\shoe_detection_dataset\\extracted_shoes_dataset\\train\\images\\0909072_jpg.rf.7a7b13311cbc8395018f35f7f78f1afb.jpg: 1 duplicate labels removed\n",
      "\u001b[34m\u001b[1mtrain: \u001b[0mWARNING  C:\\Users\\dhshs\\Documents\\CCTV(2)\\source\\shoe_detection_dataset\\extracted_shoes_dataset\\train\\images\\0918630_jpg.rf.aa4307fb5e6b09995a922b753d4a4e03.jpg: 1 duplicate labels removed\n",
      "\u001b[34m\u001b[1mtrain: \u001b[0mWARNING  C:\\Users\\dhshs\\Documents\\CCTV(2)\\source\\shoe_detection_dataset\\extracted_shoes_dataset\\train\\images\\0933338_jpg.rf.6d30e78c90a3f037c6d6ae7e6c3ee099.jpg: 1 duplicate labels removed\n",
      "\u001b[34m\u001b[1mtrain: \u001b[0mWARNING  C:\\Users\\dhshs\\Documents\\CCTV(2)\\source\\shoe_detection_dataset\\extracted_shoes_dataset\\train\\images\\0936906_jpg.rf.1065865df78bf1ae90ed98a893a67c52.jpg: 1 duplicate labels removed\n",
      "\u001b[34m\u001b[1mtrain: \u001b[0mWARNING  C:\\Users\\dhshs\\Documents\\CCTV(2)\\source\\shoe_detection_dataset\\extracted_shoes_dataset\\train\\images\\0943379_jpg.rf.5ab1bde07273eb4a2ab88f2d01ed8fc5.jpg: 1 duplicate labels removed\n",
      "\u001b[34m\u001b[1mtrain: \u001b[0mWARNING  C:\\Users\\dhshs\\Documents\\CCTV(2)\\source\\shoe_detection_dataset\\extracted_shoes_dataset\\train\\images\\0954188_jpg.rf.945e39969b83e8c3cd3bebd05740a74e.jpg: 1 duplicate labels removed\n",
      "\u001b[34m\u001b[1mtrain: \u001b[0mWARNING  C:\\Users\\dhshs\\Documents\\CCTV(2)\\source\\shoe_detection_dataset\\extracted_shoes_dataset\\train\\images\\0958398_jpg.rf.e339023ac25bc5e3d7a0b9fc8bd90e5a.jpg: 1 duplicate labels removed\n",
      "\u001b[34m\u001b[1mtrain: \u001b[0mWARNING  C:\\Users\\dhshs\\Documents\\CCTV(2)\\source\\shoe_detection_dataset\\extracted_shoes_dataset\\train\\images\\0961536_jpg.rf.94e91da5fbdaf61ac5d510f702040151.jpg: 1 duplicate labels removed\n",
      "\u001b[34m\u001b[1mtrain: \u001b[0mWARNING  C:\\Users\\dhshs\\Documents\\CCTV(2)\\source\\shoe_detection_dataset\\extracted_shoes_dataset\\train\\images\\1005247_jpg.rf.3bd59aa1a672ede9780003fee80ab825.jpg: 1 duplicate labels removed\n",
      "\u001b[34m\u001b[1mtrain: \u001b[0mWARNING  C:\\Users\\dhshs\\Documents\\CCTV(2)\\source\\shoe_detection_dataset\\extracted_shoes_dataset\\train\\images\\1009078_jpg.rf.e30a51a77bbff61c1a09b398a9ee6746.jpg: 1 duplicate labels removed\n",
      "\u001b[34m\u001b[1mtrain: \u001b[0mWARNING  C:\\Users\\dhshs\\Documents\\CCTV(2)\\source\\shoe_detection_dataset\\extracted_shoes_dataset\\train\\images\\1011187_jpg.rf.4c48fb89244e1f035168562960577a45.jpg: 1 duplicate labels removed\n",
      "\u001b[34m\u001b[1mtrain: \u001b[0mWARNING  C:\\Users\\dhshs\\Documents\\CCTV(2)\\source\\shoe_detection_dataset\\extracted_shoes_dataset\\train\\images\\1018767_jpg.rf.d974ec696b86701427eb177f923cb918.jpg: 1 duplicate labels removed\n",
      "\u001b[34m\u001b[1mtrain: \u001b[0mWARNING  C:\\Users\\dhshs\\Documents\\CCTV(2)\\source\\shoe_detection_dataset\\extracted_shoes_dataset\\train\\images\\1021709_jpg.rf.f8a17fb30e143a8399bcb53d31a2bef7.jpg: 1 duplicate labels removed\n",
      "\u001b[34m\u001b[1mtrain: \u001b[0mWARNING  C:\\Users\\dhshs\\Documents\\CCTV(2)\\source\\shoe_detection_dataset\\extracted_shoes_dataset\\train\\images\\1022767_jpg.rf.49cc49635fbd4aff347b5963289212d7.jpg: 1 duplicate labels removed\n",
      "\u001b[34m\u001b[1mtrain: \u001b[0mWARNING  C:\\Users\\dhshs\\Documents\\CCTV(2)\\source\\shoe_detection_dataset\\extracted_shoes_dataset\\train\\images\\1023247_jpg.rf.3c6d67f8598b9189178caa869c109f30.jpg: 1 duplicate labels removed\n",
      "\u001b[34m\u001b[1mtrain: \u001b[0mWARNING  C:\\Users\\dhshs\\Documents\\CCTV(2)\\source\\shoe_detection_dataset\\extracted_shoes_dataset\\train\\images\\1026072_jpg.rf.73a2c0132c2d1db488c41e9b9b870cd7.jpg: 1 duplicate labels removed\n",
      "\u001b[34m\u001b[1mtrain: \u001b[0mWARNING  C:\\Users\\dhshs\\Documents\\CCTV(2)\\source\\shoe_detection_dataset\\extracted_shoes_dataset\\train\\images\\1026511_jpg.rf.3acea397d2c1badb65ef91771304ae71.jpg: 1 duplicate labels removed\n",
      "\u001b[34m\u001b[1mtrain: \u001b[0mWARNING  C:\\Users\\dhshs\\Documents\\CCTV(2)\\source\\shoe_detection_dataset\\extracted_shoes_dataset\\train\\images\\1026706_jpg.rf.32af9b016e2fc033153d9d53fc8c10b3.jpg: 1 duplicate labels removed\n",
      "\u001b[34m\u001b[1mtrain: \u001b[0mWARNING  C:\\Users\\dhshs\\Documents\\CCTV(2)\\source\\shoe_detection_dataset\\extracted_shoes_dataset\\train\\images\\1027626_jpg.rf.ea0f9575cebe2eb839e6d073c0da6631.jpg: 1 duplicate labels removed\n",
      "\u001b[34m\u001b[1mtrain: \u001b[0mWARNING  C:\\Users\\dhshs\\Documents\\CCTV(2)\\source\\shoe_detection_dataset\\extracted_shoes_dataset\\train\\images\\1027768_jpg.rf.2f1074bbfc61ce41866ac925b2cda301.jpg: 1 duplicate labels removed\n",
      "\u001b[34m\u001b[1mtrain: \u001b[0mWARNING  C:\\Users\\dhshs\\Documents\\CCTV(2)\\source\\shoe_detection_dataset\\extracted_shoes_dataset\\train\\images\\1043607_jpg.rf.5c61343c9e1d4c8d963fd9f6942dbb45.jpg: 1 duplicate labels removed\n",
      "\u001b[34m\u001b[1mtrain: \u001b[0mWARNING  C:\\Users\\dhshs\\Documents\\CCTV(2)\\source\\shoe_detection_dataset\\extracted_shoes_dataset\\train\\images\\1045074_jpg.rf.79b55d8cd66dea64be4b5654abcab272.jpg: 1 duplicate labels removed\n",
      "\u001b[34m\u001b[1mtrain: \u001b[0mWARNING  C:\\Users\\dhshs\\Documents\\CCTV(2)\\source\\shoe_detection_dataset\\extracted_shoes_dataset\\train\\images\\1046025_jpg.rf.d0b6c0c4ee749c0e662a477ce922f8a3.jpg: 1 duplicate labels removed\n",
      "\u001b[34m\u001b[1mtrain: \u001b[0mWARNING  C:\\Users\\dhshs\\Documents\\CCTV(2)\\source\\shoe_detection_dataset\\extracted_shoes_dataset\\train\\images\\1046157_jpg.rf.fdbac99161119f6611e488e284613ee4.jpg: 1 duplicate labels removed\n",
      "\u001b[34m\u001b[1mtrain: \u001b[0mWARNING  C:\\Users\\dhshs\\Documents\\CCTV(2)\\source\\shoe_detection_dataset\\extracted_shoes_dataset\\train\\images\\1046625_jpg.rf.6f5083b745b16aa8f918beedee68b6a4.jpg: 1 duplicate labels removed\n",
      "\u001b[34m\u001b[1mtrain: \u001b[0mWARNING  C:\\Users\\dhshs\\Documents\\CCTV(2)\\source\\shoe_detection_dataset\\extracted_shoes_dataset\\train\\images\\1046816_jpg.rf.e94911e1a24e2ead1dcf528532984952.jpg: 1 duplicate labels removed\n",
      "\u001b[34m\u001b[1mtrain: \u001b[0mWARNING  C:\\Users\\dhshs\\Documents\\CCTV(2)\\source\\shoe_detection_dataset\\extracted_shoes_dataset\\train\\images\\1048026_jpg.rf.0f2d51aeb70cdcfa54432760dc2839c7.jpg: 1 duplicate labels removed\n",
      "\u001b[34m\u001b[1mtrain: \u001b[0mWARNING  C:\\Users\\dhshs\\Documents\\CCTV(2)\\source\\shoe_detection_dataset\\extracted_shoes_dataset\\train\\images\\1048191_jpg.rf.16f3ba848dd23148e26e89e32b7e8744.jpg: 1 duplicate labels removed\n",
      "\u001b[34m\u001b[1mtrain: \u001b[0mWARNING  C:\\Users\\dhshs\\Documents\\CCTV(2)\\source\\shoe_detection_dataset\\extracted_shoes_dataset\\train\\images\\1048634_jpg.rf.23ce3d44f86723a9692510037ee0240b.jpg: 1 duplicate labels removed\n",
      "\u001b[34m\u001b[1mtrain: \u001b[0mWARNING  C:\\Users\\dhshs\\Documents\\CCTV(2)\\source\\shoe_detection_dataset\\extracted_shoes_dataset\\train\\images\\1049510_jpg.rf.29572d1c716ad1bc8ddfd9b5110e411d.jpg: 1 duplicate labels removed\n",
      "\u001b[34m\u001b[1mtrain: \u001b[0mWARNING  C:\\Users\\dhshs\\Documents\\CCTV(2)\\source\\shoe_detection_dataset\\extracted_shoes_dataset\\train\\images\\1049851_jpg.rf.797d8232fe5493b8932e6cec9f2b4d5c.jpg: 1 duplicate labels removed\n",
      "\u001b[34m\u001b[1mtrain: \u001b[0mWARNING  C:\\Users\\dhshs\\Documents\\CCTV(2)\\source\\shoe_detection_dataset\\extracted_shoes_dataset\\train\\images\\1050279_jpg.rf.a4cb6753979d2343c07c3ab5cc1183b2.jpg: 1 duplicate labels removed\n",
      "\u001b[34m\u001b[1mtrain: \u001b[0mWARNING  C:\\Users\\dhshs\\Documents\\CCTV(2)\\source\\shoe_detection_dataset\\extracted_shoes_dataset\\train\\images\\1052246_jpg.rf.04ba11950f9b57b2067d234263de0bda.jpg: 1 duplicate labels removed\n",
      "\u001b[34m\u001b[1mtrain: \u001b[0mWARNING  C:\\Users\\dhshs\\Documents\\CCTV(2)\\source\\shoe_detection_dataset\\extracted_shoes_dataset\\train\\images\\1052440_jpg.rf.865170405045ac109d8f2f9947594943.jpg: 1 duplicate labels removed\n",
      "\u001b[34m\u001b[1mtrain: \u001b[0mWARNING  C:\\Users\\dhshs\\Documents\\CCTV(2)\\source\\shoe_detection_dataset\\extracted_shoes_dataset\\train\\images\\1052871_jpg.rf.366cc6d746bb8459e57ef5aa2c38e016.jpg: 1 duplicate labels removed\n",
      "\u001b[34m\u001b[1mtrain: \u001b[0mWARNING  C:\\Users\\dhshs\\Documents\\CCTV(2)\\source\\shoe_detection_dataset\\extracted_shoes_dataset\\train\\images\\1055100_jpg.rf.2a1aecf098ac265ada7d73ee6f2502c6.jpg: 1 duplicate labels removed\n",
      "\u001b[34m\u001b[1mtrain: \u001b[0mWARNING  C:\\Users\\dhshs\\Documents\\CCTV(2)\\source\\shoe_detection_dataset\\extracted_shoes_dataset\\train\\images\\1055260_jpg.rf.926b050cc93510fd38d86e0b9068f271.jpg: 1 duplicate labels removed\n",
      "\u001b[34m\u001b[1mtrain: \u001b[0mWARNING  C:\\Users\\dhshs\\Documents\\CCTV(2)\\source\\shoe_detection_dataset\\extracted_shoes_dataset\\train\\images\\1055504_jpg.rf.e8ec1e7a3e0da49511a35820395d8920.jpg: 1 duplicate labels removed\n",
      "\u001b[34m\u001b[1mtrain: \u001b[0mWARNING  C:\\Users\\dhshs\\Documents\\CCTV(2)\\source\\shoe_detection_dataset\\extracted_shoes_dataset\\train\\images\\1055673_jpg.rf.18b13d39618e420926e4439db2989339.jpg: 1 duplicate labels removed\n",
      "\u001b[34m\u001b[1mtrain: \u001b[0mWARNING  C:\\Users\\dhshs\\Documents\\CCTV(2)\\source\\shoe_detection_dataset\\extracted_shoes_dataset\\train\\images\\1055699_jpg.rf.616a39fa8eabaf774b276bde47f22895.jpg: 1 duplicate labels removed\n",
      "\u001b[34m\u001b[1mtrain: \u001b[0mWARNING  C:\\Users\\dhshs\\Documents\\CCTV(2)\\source\\shoe_detection_dataset\\extracted_shoes_dataset\\train\\images\\1056387_jpg.rf.06ae918d1c6011956cb68320ec758b54.jpg: 1 duplicate labels removed\n",
      "\u001b[34m\u001b[1mtrain: \u001b[0mWARNING  C:\\Users\\dhshs\\Documents\\CCTV(2)\\source\\shoe_detection_dataset\\extracted_shoes_dataset\\train\\images\\1056545_jpg.rf.c669311196250c103bd7d1835b24dda8.jpg: 1 duplicate labels removed\n",
      "\u001b[34m\u001b[1mtrain: \u001b[0mWARNING  C:\\Users\\dhshs\\Documents\\CCTV(2)\\source\\shoe_detection_dataset\\extracted_shoes_dataset\\train\\images\\1058192_jpg.rf.eb784e751709aca9a03c46b407feb451.jpg: 1 duplicate labels removed\n",
      "\u001b[34m\u001b[1mtrain: \u001b[0mWARNING  C:\\Users\\dhshs\\Documents\\CCTV(2)\\source\\shoe_detection_dataset\\extracted_shoes_dataset\\train\\images\\1058959_jpg.rf.551caf181fb3e4a7b50569396fe61b3f.jpg: 1 duplicate labels removed\n",
      "\u001b[34m\u001b[1mtrain: \u001b[0mWARNING  C:\\Users\\dhshs\\Documents\\CCTV(2)\\source\\shoe_detection_dataset\\extracted_shoes_dataset\\train\\images\\1059738_jpg.rf.7144058808552f9039b9271dbaa604d0.jpg: 1 duplicate labels removed\n",
      "\u001b[34m\u001b[1mtrain: \u001b[0mWARNING  C:\\Users\\dhshs\\Documents\\CCTV(2)\\source\\shoe_detection_dataset\\extracted_shoes_dataset\\train\\images\\1061099_jpg.rf.e12445435eead18764064fe9ba9a6636.jpg: 1 duplicate labels removed\n",
      "\u001b[34m\u001b[1mtrain: \u001b[0mWARNING  C:\\Users\\dhshs\\Documents\\CCTV(2)\\source\\shoe_detection_dataset\\extracted_shoes_dataset\\train\\images\\1061316_jpg.rf.04819d001255fe3a9308a36a66b849da.jpg: 1 duplicate labels removed\n",
      "\u001b[34m\u001b[1mtrain: \u001b[0mWARNING  C:\\Users\\dhshs\\Documents\\CCTV(2)\\source\\shoe_detection_dataset\\extracted_shoes_dataset\\train\\images\\1063117_jpg.rf.147a7bd354fdbdb4dbd19bd229a330e0.jpg: 1 duplicate labels removed\n",
      "\u001b[34m\u001b[1mtrain: \u001b[0mWARNING  C:\\Users\\dhshs\\Documents\\CCTV(2)\\source\\shoe_detection_dataset\\extracted_shoes_dataset\\train\\images\\1064056_jpg.rf.5207e5d4444ed2f37c3d688c64962aa8.jpg: 1 duplicate labels removed\n",
      "\u001b[34m\u001b[1mtrain: \u001b[0mWARNING  C:\\Users\\dhshs\\Documents\\CCTV(2)\\source\\shoe_detection_dataset\\extracted_shoes_dataset\\train\\images\\1066683_jpg.rf.76605ce0287ae8060999048793b2f4e8.jpg: 1 duplicate labels removed\n",
      "\u001b[34m\u001b[1mtrain: \u001b[0mWARNING  C:\\Users\\dhshs\\Documents\\CCTV(2)\\source\\shoe_detection_dataset\\extracted_shoes_dataset\\train\\images\\1067011_jpg.rf.b02087c6bcbae3f12c6d8b1f272fd0fc.jpg: 1 duplicate labels removed\n",
      "\u001b[34m\u001b[1mtrain: \u001b[0mWARNING  C:\\Users\\dhshs\\Documents\\CCTV(2)\\source\\shoe_detection_dataset\\extracted_shoes_dataset\\train\\images\\1069799_jpg.rf.4748b07841acfc9c8156817cdb14dbe3.jpg: 1 duplicate labels removed\n",
      "\u001b[34m\u001b[1mtrain: \u001b[0mWARNING  C:\\Users\\dhshs\\Documents\\CCTV(2)\\source\\shoe_detection_dataset\\extracted_shoes_dataset\\train\\images\\1070974_jpg.rf.8b5f7f008c9164324f740900de148016.jpg: 1 duplicate labels removed\n",
      "\u001b[34m\u001b[1mtrain: \u001b[0mWARNING  C:\\Users\\dhshs\\Documents\\CCTV(2)\\source\\shoe_detection_dataset\\extracted_shoes_dataset\\train\\images\\1072145_jpg.rf.d1fc16de0aa52d9c8e12c3967f658f86.jpg: 1 duplicate labels removed\n",
      "\u001b[34m\u001b[1mtrain: \u001b[0mWARNING  C:\\Users\\dhshs\\Documents\\CCTV(2)\\source\\shoe_detection_dataset\\extracted_shoes_dataset\\train\\images\\1072637_jpg.rf.ca5edcb9dd8310bdb39b9cbddcea7519.jpg: 1 duplicate labels removed\n",
      "\u001b[34m\u001b[1mtrain: \u001b[0mWARNING  C:\\Users\\dhshs\\Documents\\CCTV(2)\\source\\shoe_detection_dataset\\extracted_shoes_dataset\\train\\images\\1075202_jpg.rf.78406b085c4d548c371a76c6a2717bed.jpg: 1 duplicate labels removed\n",
      "\u001b[34m\u001b[1mtrain: \u001b[0mWARNING  C:\\Users\\dhshs\\Documents\\CCTV(2)\\source\\shoe_detection_dataset\\extracted_shoes_dataset\\train\\images\\1076678_jpg.rf.350e28c498bc565113b8e5dde379827d.jpg: 1 duplicate labels removed\n",
      "\u001b[34m\u001b[1mtrain: \u001b[0mWARNING  C:\\Users\\dhshs\\Documents\\CCTV(2)\\source\\shoe_detection_dataset\\extracted_shoes_dataset\\train\\images\\1079978_jpg.rf.3540c582d4557c335e1e2e5c648b7f54.jpg: 1 duplicate labels removed\n",
      "\u001b[34m\u001b[1mtrain: \u001b[0mWARNING  C:\\Users\\dhshs\\Documents\\CCTV(2)\\source\\shoe_detection_dataset\\extracted_shoes_dataset\\train\\images\\1080299_jpg.rf.d3e9cfa231dabcf59e9cd004e77f2367.jpg: 1 duplicate labels removed\n",
      "\u001b[34m\u001b[1mtrain: \u001b[0mWARNING  C:\\Users\\dhshs\\Documents\\CCTV(2)\\source\\shoe_detection_dataset\\extracted_shoes_dataset\\train\\images\\1080475_jpg.rf.565b8c0e7eda6411d279fffc15669d18.jpg: 1 duplicate labels removed\n",
      "\u001b[34m\u001b[1mtrain: \u001b[0mWARNING  C:\\Users\\dhshs\\Documents\\CCTV(2)\\source\\shoe_detection_dataset\\extracted_shoes_dataset\\train\\images\\1081423_jpg.rf.e01829fcfa38bb8833d84568490591b9.jpg: 1 duplicate labels removed\n",
      "\u001b[34m\u001b[1mtrain: \u001b[0mWARNING  C:\\Users\\dhshs\\Documents\\CCTV(2)\\source\\shoe_detection_dataset\\extracted_shoes_dataset\\train\\images\\1081623_jpg.rf.8606cd3ed40223bf1bb76f0abfecade4.jpg: 1 duplicate labels removed\n",
      "\u001b[34m\u001b[1mtrain: \u001b[0mWARNING  C:\\Users\\dhshs\\Documents\\CCTV(2)\\source\\shoe_detection_dataset\\extracted_shoes_dataset\\train\\images\\1082659_jpg.rf.b7ab4b952fd4ae12cd9deaceeddf739c.jpg: 1 duplicate labels removed\n",
      "\u001b[34m\u001b[1mtrain: \u001b[0mWARNING  C:\\Users\\dhshs\\Documents\\CCTV(2)\\source\\shoe_detection_dataset\\extracted_shoes_dataset\\train\\images\\1086629_jpg.rf.11f31861ff5309203e7ae172ad9b17f1.jpg: 1 duplicate labels removed\n",
      "\u001b[34m\u001b[1mtrain: \u001b[0mWARNING  C:\\Users\\dhshs\\Documents\\CCTV(2)\\source\\shoe_detection_dataset\\extracted_shoes_dataset\\train\\images\\1087047_jpg.rf.df78b083f2879b3960d9fdfe35eb4c5b.jpg: 1 duplicate labels removed\n",
      "\u001b[34m\u001b[1mtrain: \u001b[0mWARNING  C:\\Users\\dhshs\\Documents\\CCTV(2)\\source\\shoe_detection_dataset\\extracted_shoes_dataset\\train\\images\\1087057_jpg.rf.fb4474182b424cdb9acbb3b0bdffb7ca.jpg: 1 duplicate labels removed\n",
      "\u001b[34m\u001b[1mtrain: \u001b[0mWARNING  C:\\Users\\dhshs\\Documents\\CCTV(2)\\source\\shoe_detection_dataset\\extracted_shoes_dataset\\train\\images\\1087335_jpg.rf.27fefa77e850bde39df356d16867de2e.jpg: 1 duplicate labels removed\n",
      "\u001b[34m\u001b[1mtrain: \u001b[0mWARNING  C:\\Users\\dhshs\\Documents\\CCTV(2)\\source\\shoe_detection_dataset\\extracted_shoes_dataset\\train\\images\\1088216_jpg.rf.dd173e1a5d8362e34897d8e1aa59e20a.jpg: 1 duplicate labels removed\n",
      "\u001b[34m\u001b[1mtrain: \u001b[0mWARNING  C:\\Users\\dhshs\\Documents\\CCTV(2)\\source\\shoe_detection_dataset\\extracted_shoes_dataset\\train\\images\\1089451_jpg.rf.6f78d928f75cf9114181cd00c7429446.jpg: 1 duplicate labels removed\n",
      "\u001b[34m\u001b[1mtrain: \u001b[0mWARNING  C:\\Users\\dhshs\\Documents\\CCTV(2)\\source\\shoe_detection_dataset\\extracted_shoes_dataset\\train\\images\\1089727_jpg.rf.f7ad1b4b33e98e0277d5ba7609b92883.jpg: 1 duplicate labels removed\n",
      "\u001b[34m\u001b[1mtrain: \u001b[0mWARNING  C:\\Users\\dhshs\\Documents\\CCTV(2)\\source\\shoe_detection_dataset\\extracted_shoes_dataset\\train\\images\\1090049_jpg.rf.d2aa36226e0a71ef38a8045d2ad749af.jpg: 1 duplicate labels removed\n",
      "\u001b[34m\u001b[1mtrain: \u001b[0mWARNING  C:\\Users\\dhshs\\Documents\\CCTV(2)\\source\\shoe_detection_dataset\\extracted_shoes_dataset\\train\\images\\1090088_jpg.rf.01ef906a77d53e2921781ac009d1d2b8.jpg: 1 duplicate labels removed\n",
      "\u001b[34m\u001b[1mtrain: \u001b[0mWARNING  C:\\Users\\dhshs\\Documents\\CCTV(2)\\source\\shoe_detection_dataset\\extracted_shoes_dataset\\train\\images\\1090477_jpg.rf.3870532ba05d4f9fb295931c53b25ef1.jpg: 1 duplicate labels removed\n",
      "\u001b[34m\u001b[1mtrain: \u001b[0mWARNING  C:\\Users\\dhshs\\Documents\\CCTV(2)\\source\\shoe_detection_dataset\\extracted_shoes_dataset\\train\\images\\1092847_jpg.rf.57c3371b8fabbbf85b86e590e328952e.jpg: 1 duplicate labels removed\n",
      "\u001b[34m\u001b[1mtrain: \u001b[0mWARNING  C:\\Users\\dhshs\\Documents\\CCTV(2)\\source\\shoe_detection_dataset\\extracted_shoes_dataset\\train\\images\\1095697_jpg.rf.e8f58af23c9cfc0687bb35be1b3b366a.jpg: 1 duplicate labels removed\n",
      "\u001b[34m\u001b[1mtrain: \u001b[0mWARNING  C:\\Users\\dhshs\\Documents\\CCTV(2)\\source\\shoe_detection_dataset\\extracted_shoes_dataset\\train\\images\\1108748_jpg.rf.c858b2ead5f1bf8ce59498e4b83e3173.jpg: 1 duplicate labels removed\n",
      "\u001b[34m\u001b[1mtrain: \u001b[0mWARNING  C:\\Users\\dhshs\\Documents\\CCTV(2)\\source\\shoe_detection_dataset\\extracted_shoes_dataset\\train\\images\\1111380_jpg.rf.c8a72f0ddb86d23eaf7b6c60e67084ad.jpg: 1 duplicate labels removed\n"
     ]
    },
    {
     "name": "stderr",
     "output_type": "stream",
     "text": [
      "\n",
      "\u001b[34m\u001b[1mval: \u001b[0mScanning C:\\Users\\dhshs\\Documents\\CCTV(2)\\source\\shoe_detection_dataset\\extracted_shoes_dataset\\valid\\labels.cache... 128 images, 0 backgrounds, 0 corrupt: 100%|██████████| 128/128 [00:00<?, ?it/s]"
     ]
    },
    {
     "name": "stdout",
     "output_type": "stream",
     "text": [
      "\u001b[34m\u001b[1mval: \u001b[0mWARNING  C:\\Users\\dhshs\\Documents\\CCTV(2)\\source\\shoe_detection_dataset\\extracted_shoes_dataset\\valid\\images\\0012238_jpg.rf.4937e7f04bd32203a62456419ac7f6c4.jpg: 1 duplicate labels removed\n",
      "\u001b[34m\u001b[1mval: \u001b[0mWARNING  C:\\Users\\dhshs\\Documents\\CCTV(2)\\source\\shoe_detection_dataset\\extracted_shoes_dataset\\valid\\images\\0137874_jpg.rf.273c74a29261a7d03c54f69e1848ec20.jpg: 1 duplicate labels removed\n",
      "\u001b[34m\u001b[1mval: \u001b[0mWARNING  C:\\Users\\dhshs\\Documents\\CCTV(2)\\source\\shoe_detection_dataset\\extracted_shoes_dataset\\valid\\images\\0146525_jpg.rf.cbaed3d67e6f810cd9eefa7c9405f3eb.jpg: 1 duplicate labels removed\n",
      "\u001b[34m\u001b[1mval: \u001b[0mWARNING  C:\\Users\\dhshs\\Documents\\CCTV(2)\\source\\shoe_detection_dataset\\extracted_shoes_dataset\\valid\\images\\0157011_jpg.rf.eb5b2a0db9269ec274c332500f5e0b5c.jpg: 1 duplicate labels removed\n",
      "\u001b[34m\u001b[1mval: \u001b[0mWARNING  C:\\Users\\dhshs\\Documents\\CCTV(2)\\source\\shoe_detection_dataset\\extracted_shoes_dataset\\valid\\images\\0157628_jpg.rf.ca428bd3415bf661fb5a79bfe9caf7eb.jpg: 1 duplicate labels removed\n",
      "\u001b[34m\u001b[1mval: \u001b[0mWARNING  C:\\Users\\dhshs\\Documents\\CCTV(2)\\source\\shoe_detection_dataset\\extracted_shoes_dataset\\valid\\images\\0158135_jpg.rf.72396631ae2c79e9970f0e7d84bc18a0.jpg: 1 duplicate labels removed\n",
      "\u001b[34m\u001b[1mval: \u001b[0mWARNING  C:\\Users\\dhshs\\Documents\\CCTV(2)\\source\\shoe_detection_dataset\\extracted_shoes_dataset\\valid\\images\\0162453_jpg.rf.26e8258935d5981274acc71029150212.jpg: 1 duplicate labels removed\n",
      "\u001b[34m\u001b[1mval: \u001b[0mWARNING  C:\\Users\\dhshs\\Documents\\CCTV(2)\\source\\shoe_detection_dataset\\extracted_shoes_dataset\\valid\\images\\0166594_jpg.rf.f0c631632b7c2f88eabf725a29dd013e.jpg: 1 duplicate labels removed\n",
      "\u001b[34m\u001b[1mval: \u001b[0mWARNING  C:\\Users\\dhshs\\Documents\\CCTV(2)\\source\\shoe_detection_dataset\\extracted_shoes_dataset\\valid\\images\\0169107_jpg.rf.c46e17710f9d0b91bd0c96acf7d456d0.jpg: 1 duplicate labels removed\n",
      "\u001b[34m\u001b[1mval: \u001b[0mWARNING  C:\\Users\\dhshs\\Documents\\CCTV(2)\\source\\shoe_detection_dataset\\extracted_shoes_dataset\\valid\\images\\0170655_jpg.rf.36451c689f046b17df2088601935d003.jpg: 1 duplicate labels removed\n",
      "\u001b[34m\u001b[1mval: \u001b[0mWARNING  C:\\Users\\dhshs\\Documents\\CCTV(2)\\source\\shoe_detection_dataset\\extracted_shoes_dataset\\valid\\images\\0217102_jpg.rf.7c1d552cc99634220b4ecb4a06dddd8b.jpg: 1 duplicate labels removed\n",
      "\u001b[34m\u001b[1mval: \u001b[0mWARNING  C:\\Users\\dhshs\\Documents\\CCTV(2)\\source\\shoe_detection_dataset\\extracted_shoes_dataset\\valid\\images\\0275782_jpg.rf.ec6e2832243f3f127d8a5989c1447d2a.jpg: 1 duplicate labels removed\n",
      "\u001b[34m\u001b[1mval: \u001b[0mWARNING  C:\\Users\\dhshs\\Documents\\CCTV(2)\\source\\shoe_detection_dataset\\extracted_shoes_dataset\\valid\\images\\0295728_jpg.rf.744dba82e0d9900e538764e074b07ef1.jpg: 1 duplicate labels removed\n",
      "\u001b[34m\u001b[1mval: \u001b[0mWARNING  C:\\Users\\dhshs\\Documents\\CCTV(2)\\source\\shoe_detection_dataset\\extracted_shoes_dataset\\valid\\images\\0330379_jpg.rf.b0e1cf831dfdef36008cdf5ccea924f8.jpg: 1 duplicate labels removed\n",
      "\u001b[34m\u001b[1mval: \u001b[0mWARNING  C:\\Users\\dhshs\\Documents\\CCTV(2)\\source\\shoe_detection_dataset\\extracted_shoes_dataset\\valid\\images\\0344698_jpg.rf.642f8a88afe9dc66bef1fc2fbfb4c675.jpg: 1 duplicate labels removed\n",
      "\u001b[34m\u001b[1mval: \u001b[0mWARNING  C:\\Users\\dhshs\\Documents\\CCTV(2)\\source\\shoe_detection_dataset\\extracted_shoes_dataset\\valid\\images\\0347134_jpg.rf.766021cbeec75360c1b5284d25ab7d75.jpg: 1 duplicate labels removed\n",
      "\u001b[34m\u001b[1mval: \u001b[0mWARNING  C:\\Users\\dhshs\\Documents\\CCTV(2)\\source\\shoe_detection_dataset\\extracted_shoes_dataset\\valid\\images\\0376674_jpg.rf.a061c15f120f15032a5b4ded42a1f3ce.jpg: 1 duplicate labels removed\n",
      "\u001b[34m\u001b[1mval: \u001b[0mWARNING  C:\\Users\\dhshs\\Documents\\CCTV(2)\\source\\shoe_detection_dataset\\extracted_shoes_dataset\\valid\\images\\0387464_jpg.rf.3164b19e7f2c7e25057ef9a57a6f983a.jpg: 1 duplicate labels removed\n",
      "\u001b[34m\u001b[1mval: \u001b[0mWARNING  C:\\Users\\dhshs\\Documents\\CCTV(2)\\source\\shoe_detection_dataset\\extracted_shoes_dataset\\valid\\images\\0388022_jpg.rf.c466e65e21893ec3d0154baf6d40ca51.jpg: 1 duplicate labels removed\n",
      "\u001b[34m\u001b[1mval: \u001b[0mWARNING  C:\\Users\\dhshs\\Documents\\CCTV(2)\\source\\shoe_detection_dataset\\extracted_shoes_dataset\\valid\\images\\0397538_jpg.rf.a1e241cc607f47e14ca208dc6edfea8e.jpg: 1 duplicate labels removed\n",
      "\u001b[34m\u001b[1mval: \u001b[0mWARNING  C:\\Users\\dhshs\\Documents\\CCTV(2)\\source\\shoe_detection_dataset\\extracted_shoes_dataset\\valid\\images\\0401289_jpg.rf.e28ec5c828897c6dbab631cbfd72a750.jpg: 1 duplicate labels removed\n",
      "\u001b[34m\u001b[1mval: \u001b[0mWARNING  C:\\Users\\dhshs\\Documents\\CCTV(2)\\source\\shoe_detection_dataset\\extracted_shoes_dataset\\valid\\images\\0413261_jpg.rf.53e56668428299099f5de38cbb7ef1ad.jpg: 1 duplicate labels removed\n",
      "\u001b[34m\u001b[1mval: \u001b[0mWARNING  C:\\Users\\dhshs\\Documents\\CCTV(2)\\source\\shoe_detection_dataset\\extracted_shoes_dataset\\valid\\images\\0420487_jpg.rf.a27a68c92653a221e31d5417e5760187.jpg: 1 duplicate labels removed\n",
      "\u001b[34m\u001b[1mval: \u001b[0mWARNING  C:\\Users\\dhshs\\Documents\\CCTV(2)\\source\\shoe_detection_dataset\\extracted_shoes_dataset\\valid\\images\\0431004_jpg.rf.d8f0af60b05be8e60d61b997251474d4.jpg: 1 duplicate labels removed\n",
      "\u001b[34m\u001b[1mval: \u001b[0mWARNING  C:\\Users\\dhshs\\Documents\\CCTV(2)\\source\\shoe_detection_dataset\\extracted_shoes_dataset\\valid\\images\\0431173_jpg.rf.a4d74ccf3a9848e1fb488402cd80e2c3.jpg: 1 duplicate labels removed\n",
      "\u001b[34m\u001b[1mval: \u001b[0mWARNING  C:\\Users\\dhshs\\Documents\\CCTV(2)\\source\\shoe_detection_dataset\\extracted_shoes_dataset\\valid\\images\\0438409_jpg.rf.419d4ad8a47cceafdbdaaa3b1edd70cb.jpg: 1 duplicate labels removed\n",
      "\u001b[34m\u001b[1mval: \u001b[0mWARNING  C:\\Users\\dhshs\\Documents\\CCTV(2)\\source\\shoe_detection_dataset\\extracted_shoes_dataset\\valid\\images\\0449340_jpg.rf.e641be7c6cded766de7ab011d9b3a82b.jpg: 1 duplicate labels removed\n",
      "\u001b[34m\u001b[1mval: \u001b[0mWARNING  C:\\Users\\dhshs\\Documents\\CCTV(2)\\source\\shoe_detection_dataset\\extracted_shoes_dataset\\valid\\images\\0455436_jpg.rf.28ea54b04401f631f8e9dd92b3e2a1d2.jpg: 1 duplicate labels removed\n",
      "\u001b[34m\u001b[1mval: \u001b[0mWARNING  C:\\Users\\dhshs\\Documents\\CCTV(2)\\source\\shoe_detection_dataset\\extracted_shoes_dataset\\valid\\images\\0461581_jpg.rf.53b2835fea9110ed2f03d2cdaeabbcfb.jpg: 1 duplicate labels removed\n",
      "\u001b[34m\u001b[1mval: \u001b[0mWARNING  C:\\Users\\dhshs\\Documents\\CCTV(2)\\source\\shoe_detection_dataset\\extracted_shoes_dataset\\valid\\images\\0467521_jpg.rf.7013d6abd3d574563032d7d959a1e278.jpg: 1 duplicate labels removed\n",
      "\u001b[34m\u001b[1mval: \u001b[0mWARNING  C:\\Users\\dhshs\\Documents\\CCTV(2)\\source\\shoe_detection_dataset\\extracted_shoes_dataset\\valid\\images\\0474943_jpg.rf.c355140bac19fe50223f3ccf4ffdd675.jpg: 1 duplicate labels removed\n",
      "\u001b[34m\u001b[1mval: \u001b[0mWARNING  C:\\Users\\dhshs\\Documents\\CCTV(2)\\source\\shoe_detection_dataset\\extracted_shoes_dataset\\valid\\images\\0483661_jpg.rf.bd03dedb5e0099e435b55d15f087bd43.jpg: 1 duplicate labels removed\n",
      "\u001b[34m\u001b[1mval: \u001b[0mWARNING  C:\\Users\\dhshs\\Documents\\CCTV(2)\\source\\shoe_detection_dataset\\extracted_shoes_dataset\\valid\\images\\0487827_jpg.rf.d6e1707708544bbc091c5e90c3640190.jpg: 1 duplicate labels removed\n",
      "\u001b[34m\u001b[1mval: \u001b[0mWARNING  C:\\Users\\dhshs\\Documents\\CCTV(2)\\source\\shoe_detection_dataset\\extracted_shoes_dataset\\valid\\images\\0501314_jpg.rf.b5b98477a957751eb188b4b59f1335d9.jpg: 1 duplicate labels removed\n",
      "\u001b[34m\u001b[1mval: \u001b[0mWARNING  C:\\Users\\dhshs\\Documents\\CCTV(2)\\source\\shoe_detection_dataset\\extracted_shoes_dataset\\valid\\images\\0553525_jpg.rf.bd90e5f1d41c6afe972dda0965e0e81f.jpg: 1 duplicate labels removed\n",
      "\u001b[34m\u001b[1mval: \u001b[0mWARNING  C:\\Users\\dhshs\\Documents\\CCTV(2)\\source\\shoe_detection_dataset\\extracted_shoes_dataset\\valid\\images\\0593729_jpg.rf.54220f003253e8ec7245c16a73f1315b.jpg: 1 duplicate labels removed\n",
      "\u001b[34m\u001b[1mval: \u001b[0mWARNING  C:\\Users\\dhshs\\Documents\\CCTV(2)\\source\\shoe_detection_dataset\\extracted_shoes_dataset\\valid\\images\\0613636_jpg.rf.5be0e8de93267445faaaf2b3028ec806.jpg: 1 duplicate labels removed\n",
      "\u001b[34m\u001b[1mval: \u001b[0mWARNING  C:\\Users\\dhshs\\Documents\\CCTV(2)\\source\\shoe_detection_dataset\\extracted_shoes_dataset\\valid\\images\\0695646_jpg.rf.22ffb159afc91521f816320adf701ab9.jpg: 1 duplicate labels removed\n",
      "\u001b[34m\u001b[1mval: \u001b[0mWARNING  C:\\Users\\dhshs\\Documents\\CCTV(2)\\source\\shoe_detection_dataset\\extracted_shoes_dataset\\valid\\images\\0705518_jpg.rf.b4bcfc801f91e53dd2cb1950f1e96586.jpg: 1 duplicate labels removed\n",
      "\u001b[34m\u001b[1mval: \u001b[0mWARNING  C:\\Users\\dhshs\\Documents\\CCTV(2)\\source\\shoe_detection_dataset\\extracted_shoes_dataset\\valid\\images\\0804949_jpg.rf.fd2eb0196ca5892b07f55acd0cc000f0.jpg: 1 duplicate labels removed\n",
      "\u001b[34m\u001b[1mval: \u001b[0mWARNING  C:\\Users\\dhshs\\Documents\\CCTV(2)\\source\\shoe_detection_dataset\\extracted_shoes_dataset\\valid\\images\\1001020_jpg.rf.16744e94f67ab9a0480917ffcf1838bf.jpg: 1 duplicate labels removed\n",
      "\u001b[34m\u001b[1mval: \u001b[0mWARNING  C:\\Users\\dhshs\\Documents\\CCTV(2)\\source\\shoe_detection_dataset\\extracted_shoes_dataset\\valid\\images\\1016941_jpg.rf.4fd13c8f2f5eb1b651692f528da986c0.jpg: 1 duplicate labels removed\n",
      "\u001b[34m\u001b[1mval: \u001b[0mWARNING  C:\\Users\\dhshs\\Documents\\CCTV(2)\\source\\shoe_detection_dataset\\extracted_shoes_dataset\\valid\\images\\1021332_jpg.rf.ebc5223299d075d9192f4948a37cb6a4.jpg: 1 duplicate labels removed\n",
      "\u001b[34m\u001b[1mval: \u001b[0mWARNING  C:\\Users\\dhshs\\Documents\\CCTV(2)\\source\\shoe_detection_dataset\\extracted_shoes_dataset\\valid\\images\\1041941_jpg.rf.53e9d7786d2bb7afecae70fc4bc44009.jpg: 1 duplicate labels removed\n",
      "\u001b[34m\u001b[1mval: \u001b[0mWARNING  C:\\Users\\dhshs\\Documents\\CCTV(2)\\source\\shoe_detection_dataset\\extracted_shoes_dataset\\valid\\images\\1076915_jpg.rf.cbaadd9d62a64c03b60fc7c3b0fd2b1d.jpg: 1 duplicate labels removed\n",
      "\u001b[34m\u001b[1mval: \u001b[0mWARNING  C:\\Users\\dhshs\\Documents\\CCTV(2)\\source\\shoe_detection_dataset\\extracted_shoes_dataset\\valid\\images\\1086011_jpg.rf.ba424f41839b3ac999eeb6ce90ef7f8d.jpg: 1 duplicate labels removed\n"
     ]
    },
    {
     "name": "stderr",
     "output_type": "stream",
     "text": [
      "\n"
     ]
    },
    {
     "name": "stdout",
     "output_type": "stream",
     "text": [
      "Plotting labels to footwear-detection\\yolov8-footwear4\\labels.jpg... \n",
      "\u001b[34m\u001b[1moptimizer:\u001b[0m 'optimizer=auto' found, ignoring 'lr0=0.01' and 'momentum=0.937' and determining best 'optimizer', 'lr0' and 'momentum' automatically... \n",
      "\u001b[34m\u001b[1moptimizer:\u001b[0m AdamW(lr=0.002, momentum=0.9) with parameter groups 66 weight(decay=0.0), 77 weight(decay=0.0005), 76 bias(decay=0.0)\n",
      "\u001b[34m\u001b[1mTensorBoard: \u001b[0mmodel graph visualization added \n",
      "Image sizes 640 train, 640 val\n",
      "Using 8 dataloader workers\n",
      "Logging results to \u001b[1mfootwear-detection\\yolov8-footwear4\u001b[0m\n",
      "Starting training for 100 epochs...\n",
      "\n",
      "      Epoch    GPU_mem   box_loss   seg_loss   cls_loss   dfl_loss  Instances       Size\n"
     ]
    },
    {
     "name": "stderr",
     "output_type": "stream",
     "text": [
      "      1/100      2.87G       1.33      3.117       2.68      1.135         30        640: 100%|██████████| 56/56 [01:06<00:00,  1.18s/it]\n",
      "                 Class     Images  Instances      Box(P          R      mAP50  mAP50-95)     Mask(P          R      mAP50  mAP50-95): 100%|██████████| 4/4 [00:07<00:00,  1.87s/it]"
     ]
    },
    {
     "name": "stdout",
     "output_type": "stream",
     "text": [
      "                   all        128        201    0.00477       0.91      0.219     0.0964    0.00422      0.806      0.163     0.0613\n"
     ]
    },
    {
     "name": "stderr",
     "output_type": "stream",
     "text": [
      "\n"
     ]
    },
    {
     "name": "stdout",
     "output_type": "stream",
     "text": [
      "\n",
      "      Epoch    GPU_mem   box_loss   seg_loss   cls_loss   dfl_loss  Instances       Size\n"
     ]
    },
    {
     "name": "stderr",
     "output_type": "stream",
     "text": [
      "      2/100      2.78G      1.316      2.834      1.873      1.137         30        640: 100%|██████████| 56/56 [01:19<00:00,  1.42s/it]\n",
      "                 Class     Images  Instances      Box(P          R      mAP50  mAP50-95)     Mask(P          R      mAP50  mAP50-95): 100%|██████████| 4/4 [00:07<00:00,  1.78s/it]"
     ]
    },
    {
     "name": "stdout",
     "output_type": "stream",
     "text": [
      "                   all        128        201      0.435      0.289      0.296      0.171      0.402      0.294      0.279      0.126\n"
     ]
    },
    {
     "name": "stderr",
     "output_type": "stream",
     "text": [
      "\n"
     ]
    },
    {
     "name": "stdout",
     "output_type": "stream",
     "text": [
      "\n",
      "      Epoch    GPU_mem   box_loss   seg_loss   cls_loss   dfl_loss  Instances       Size\n"
     ]
    },
    {
     "name": "stderr",
     "output_type": "stream",
     "text": [
      "      3/100      2.78G      1.388       2.98       1.78      1.179         29        640: 100%|██████████| 56/56 [01:27<00:00,  1.56s/it]\n",
      "                 Class     Images  Instances      Box(P          R      mAP50  mAP50-95)     Mask(P          R      mAP50  mAP50-95): 100%|██████████| 4/4 [00:12<00:00,  3.13s/it]\n"
     ]
    },
    {
     "name": "stdout",
     "output_type": "stream",
     "text": [
      "                   all        128        201      0.567      0.622      0.574       0.32      0.586      0.498      0.461      0.202\n",
      "\n",
      "      Epoch    GPU_mem   box_loss   seg_loss   cls_loss   dfl_loss  Instances       Size\n"
     ]
    },
    {
     "name": "stderr",
     "output_type": "stream",
     "text": [
      "      4/100      2.78G      1.352       2.96      1.544      1.166         31        640: 100%|██████████| 56/56 [01:03<00:00,  1.14s/it]\n",
      "                 Class     Images  Instances      Box(P          R      mAP50  mAP50-95)     Mask(P          R      mAP50  mAP50-95): 100%|██████████| 4/4 [00:07<00:00,  1.85s/it]"
     ]
    },
    {
     "name": "stdout",
     "output_type": "stream",
     "text": [
      "                   all        128        201      0.635      0.536      0.573      0.348      0.578      0.473      0.451      0.189\n"
     ]
    },
    {
     "name": "stderr",
     "output_type": "stream",
     "text": [
      "\n"
     ]
    },
    {
     "name": "stdout",
     "output_type": "stream",
     "text": [
      "\n",
      "      Epoch    GPU_mem   box_loss   seg_loss   cls_loss   dfl_loss  Instances       Size\n"
     ]
    },
    {
     "name": "stderr",
     "output_type": "stream",
     "text": [
      "      5/100      2.78G      1.351      2.856      1.437      1.164         39        640: 100%|██████████| 56/56 [01:29<00:00,  1.60s/it]\n",
      "                 Class     Images  Instances      Box(P          R      mAP50  mAP50-95)     Mask(P          R      mAP50  mAP50-95): 100%|██████████| 4/4 [00:06<00:00,  1.58s/it]"
     ]
    },
    {
     "name": "stdout",
     "output_type": "stream",
     "text": [
      "                   all        128        201      0.665      0.557      0.614      0.352      0.613      0.512      0.524       0.22\n"
     ]
    },
    {
     "name": "stderr",
     "output_type": "stream",
     "text": [
      "\n"
     ]
    },
    {
     "name": "stdout",
     "output_type": "stream",
     "text": [
      "\n",
      "      Epoch    GPU_mem   box_loss   seg_loss   cls_loss   dfl_loss  Instances       Size\n"
     ]
    },
    {
     "name": "stderr",
     "output_type": "stream",
     "text": [
      "      6/100      2.78G       1.32      2.783       1.31      1.136         29        640: 100%|██████████| 56/56 [01:15<00:00,  1.36s/it]\n",
      "                 Class     Images  Instances      Box(P          R      mAP50  mAP50-95)     Mask(P          R      mAP50  mAP50-95): 100%|██████████| 4/4 [00:09<00:00,  2.48s/it]"
     ]
    },
    {
     "name": "stdout",
     "output_type": "stream",
     "text": [
      "                   all        128        201      0.683      0.697      0.727      0.446      0.638       0.64      0.634       0.29\n"
     ]
    },
    {
     "name": "stderr",
     "output_type": "stream",
     "text": [
      "\n"
     ]
    },
    {
     "name": "stdout",
     "output_type": "stream",
     "text": [
      "\n",
      "      Epoch    GPU_mem   box_loss   seg_loss   cls_loss   dfl_loss  Instances       Size\n"
     ]
    },
    {
     "name": "stderr",
     "output_type": "stream",
     "text": [
      "      7/100      2.78G      1.313      2.704      1.248       1.15         31        640: 100%|██████████| 56/56 [01:21<00:00,  1.46s/it]\n",
      "                 Class     Images  Instances      Box(P          R      mAP50  mAP50-95)     Mask(P          R      mAP50  mAP50-95): 100%|██████████| 4/4 [00:08<00:00,  2.19s/it]"
     ]
    },
    {
     "name": "stdout",
     "output_type": "stream",
     "text": [
      "                   all        128        201      0.703      0.701      0.717      0.417      0.594      0.592      0.548      0.242\n"
     ]
    },
    {
     "name": "stderr",
     "output_type": "stream",
     "text": [
      "\n"
     ]
    },
    {
     "name": "stdout",
     "output_type": "stream",
     "text": [
      "\n",
      "      Epoch    GPU_mem   box_loss   seg_loss   cls_loss   dfl_loss  Instances       Size\n"
     ]
    },
    {
     "name": "stderr",
     "output_type": "stream",
     "text": [
      "      8/100      2.77G      1.319      2.778       1.23      1.136         49        640: 100%|██████████| 56/56 [01:12<00:00,  1.30s/it]\n",
      "                 Class     Images  Instances      Box(P          R      mAP50  mAP50-95)     Mask(P          R      mAP50  mAP50-95): 100%|██████████| 4/4 [00:09<00:00,  2.27s/it]"
     ]
    },
    {
     "name": "stdout",
     "output_type": "stream",
     "text": [
      "                   all        128        201      0.774      0.711      0.785       0.48      0.742      0.659      0.682       0.32\n"
     ]
    },
    {
     "name": "stderr",
     "output_type": "stream",
     "text": [
      "\n"
     ]
    },
    {
     "name": "stdout",
     "output_type": "stream",
     "text": [
      "\n",
      "      Epoch    GPU_mem   box_loss   seg_loss   cls_loss   dfl_loss  Instances       Size\n"
     ]
    },
    {
     "name": "stderr",
     "output_type": "stream",
     "text": [
      "      9/100      2.78G      1.251      2.656      1.194      1.121         27        640: 100%|██████████| 56/56 [00:59<00:00,  1.07s/it]\n",
      "                 Class     Images  Instances      Box(P          R      mAP50  mAP50-95)     Mask(P          R      mAP50  mAP50-95): 100%|██████████| 4/4 [00:05<00:00,  1.26s/it]"
     ]
    },
    {
     "name": "stdout",
     "output_type": "stream",
     "text": [
      "                   all        128        201      0.701      0.682       0.72      0.465       0.65      0.632      0.626      0.286\n"
     ]
    },
    {
     "name": "stderr",
     "output_type": "stream",
     "text": [
      "\n"
     ]
    },
    {
     "name": "stdout",
     "output_type": "stream",
     "text": [
      "\n",
      "      Epoch    GPU_mem   box_loss   seg_loss   cls_loss   dfl_loss  Instances       Size\n"
     ]
    },
    {
     "name": "stderr",
     "output_type": "stream",
     "text": [
      "     10/100      2.77G      1.251      2.712      1.131      1.119         50        640: 100%|██████████| 56/56 [01:25<00:00,  1.52s/it]\n",
      "                 Class     Images  Instances      Box(P          R      mAP50  mAP50-95)     Mask(P          R      mAP50  mAP50-95): 100%|██████████| 4/4 [00:09<00:00,  2.26s/it]"
     ]
    },
    {
     "name": "stdout",
     "output_type": "stream",
     "text": [
      "                   all        128        201      0.765      0.577      0.718      0.443       0.73      0.557      0.645      0.288\n"
     ]
    },
    {
     "name": "stderr",
     "output_type": "stream",
     "text": [
      "\n"
     ]
    },
    {
     "name": "stdout",
     "output_type": "stream",
     "text": [
      "\n",
      "      Epoch    GPU_mem   box_loss   seg_loss   cls_loss   dfl_loss  Instances       Size\n"
     ]
    },
    {
     "name": "stderr",
     "output_type": "stream",
     "text": [
      "     11/100      2.78G      1.234       2.64      1.133      1.114         45        640: 100%|██████████| 56/56 [01:01<00:00,  1.10s/it]\n",
      "                 Class     Images  Instances      Box(P          R      mAP50  mAP50-95)     Mask(P          R      mAP50  mAP50-95): 100%|██████████| 4/4 [00:10<00:00,  2.63s/it]"
     ]
    },
    {
     "name": "stdout",
     "output_type": "stream",
     "text": [
      "                   all        128        201      0.806      0.637      0.742      0.485      0.775      0.587      0.658      0.313\n"
     ]
    },
    {
     "name": "stderr",
     "output_type": "stream",
     "text": [
      "\n"
     ]
    },
    {
     "name": "stdout",
     "output_type": "stream",
     "text": [
      "\n",
      "      Epoch    GPU_mem   box_loss   seg_loss   cls_loss   dfl_loss  Instances       Size\n"
     ]
    },
    {
     "name": "stderr",
     "output_type": "stream",
     "text": [
      "     12/100      2.78G      1.241      2.592      1.105      1.117         47        640: 100%|██████████| 56/56 [01:17<00:00,  1.38s/it]\n",
      "                 Class     Images  Instances      Box(P          R      mAP50  mAP50-95)     Mask(P          R      mAP50  mAP50-95): 100%|██████████| 4/4 [00:08<00:00,  2.01s/it]"
     ]
    },
    {
     "name": "stdout",
     "output_type": "stream",
     "text": [
      "                   all        128        201      0.696      0.697       0.77      0.465      0.621      0.677       0.66      0.305\n"
     ]
    },
    {
     "name": "stderr",
     "output_type": "stream",
     "text": [
      "\n"
     ]
    },
    {
     "name": "stdout",
     "output_type": "stream",
     "text": [
      "\n",
      "      Epoch    GPU_mem   box_loss   seg_loss   cls_loss   dfl_loss  Instances       Size\n"
     ]
    },
    {
     "name": "stderr",
     "output_type": "stream",
     "text": [
      "     13/100      2.77G      1.246      2.585      1.106      1.118         30        640: 100%|██████████| 56/56 [01:21<00:00,  1.45s/it]\n",
      "                 Class     Images  Instances      Box(P          R      mAP50  mAP50-95)     Mask(P          R      mAP50  mAP50-95): 100%|██████████| 4/4 [00:10<00:00,  2.57s/it]"
     ]
    },
    {
     "name": "stdout",
     "output_type": "stream",
     "text": [
      "                   all        128        201      0.746      0.711      0.766      0.507      0.771      0.697      0.726      0.359\n"
     ]
    },
    {
     "name": "stderr",
     "output_type": "stream",
     "text": [
      "\n"
     ]
    },
    {
     "name": "stdout",
     "output_type": "stream",
     "text": [
      "\n",
      "      Epoch    GPU_mem   box_loss   seg_loss   cls_loss   dfl_loss  Instances       Size\n"
     ]
    },
    {
     "name": "stderr",
     "output_type": "stream",
     "text": [
      "     14/100      2.77G      1.208      2.536      1.029      1.099         42        640: 100%|██████████| 56/56 [00:48<00:00,  1.15it/s]\n",
      "                 Class     Images  Instances      Box(P          R      mAP50  mAP50-95)     Mask(P          R      mAP50  mAP50-95): 100%|██████████| 4/4 [00:04<00:00,  1.08s/it]"
     ]
    },
    {
     "name": "stdout",
     "output_type": "stream",
     "text": [
      "                   all        128        201      0.717      0.705      0.756      0.459      0.662      0.597       0.62      0.287\n"
     ]
    },
    {
     "name": "stderr",
     "output_type": "stream",
     "text": [
      "\n"
     ]
    },
    {
     "name": "stdout",
     "output_type": "stream",
     "text": [
      "\n",
      "      Epoch    GPU_mem   box_loss   seg_loss   cls_loss   dfl_loss  Instances       Size\n"
     ]
    },
    {
     "name": "stderr",
     "output_type": "stream",
     "text": [
      "     15/100      2.77G      1.206       2.57      1.033      1.097         38        640: 100%|██████████| 56/56 [00:43<00:00,  1.29it/s]\n",
      "                 Class     Images  Instances      Box(P          R      mAP50  mAP50-95)     Mask(P          R      mAP50  mAP50-95): 100%|██████████| 4/4 [00:03<00:00,  1.05it/s]"
     ]
    },
    {
     "name": "stdout",
     "output_type": "stream",
     "text": [
      "                   all        128        201      0.734      0.658      0.734      0.458      0.703      0.623      0.657      0.314\n"
     ]
    },
    {
     "name": "stderr",
     "output_type": "stream",
     "text": [
      "\n"
     ]
    },
    {
     "name": "stdout",
     "output_type": "stream",
     "text": [
      "\n",
      "      Epoch    GPU_mem   box_loss   seg_loss   cls_loss   dfl_loss  Instances       Size\n"
     ]
    },
    {
     "name": "stderr",
     "output_type": "stream",
     "text": [
      "     16/100      2.77G      1.178      2.492       1.01      1.089         27        640: 100%|██████████| 56/56 [00:38<00:00,  1.47it/s]\n",
      "                 Class     Images  Instances      Box(P          R      mAP50  mAP50-95)     Mask(P          R      mAP50  mAP50-95): 100%|██████████| 4/4 [00:03<00:00,  1.07it/s]"
     ]
    },
    {
     "name": "stdout",
     "output_type": "stream",
     "text": [
      "                   all        128        201      0.828      0.667      0.785      0.531      0.791       0.62      0.713       0.34\n"
     ]
    },
    {
     "name": "stderr",
     "output_type": "stream",
     "text": [
      "\n"
     ]
    },
    {
     "name": "stdout",
     "output_type": "stream",
     "text": [
      "\n",
      "      Epoch    GPU_mem   box_loss   seg_loss   cls_loss   dfl_loss  Instances       Size\n"
     ]
    },
    {
     "name": "stderr",
     "output_type": "stream",
     "text": [
      "     17/100      2.77G       1.15      2.495     0.9866      1.074         45        640: 100%|██████████| 56/56 [00:59<00:00,  1.06s/it]\n",
      "                 Class     Images  Instances      Box(P          R      mAP50  mAP50-95)     Mask(P          R      mAP50  mAP50-95): 100%|██████████| 4/4 [00:05<00:00,  1.26s/it]"
     ]
    },
    {
     "name": "stdout",
     "output_type": "stream",
     "text": [
      "                   all        128        201      0.822      0.721      0.807      0.542      0.781      0.682      0.728      0.345\n"
     ]
    },
    {
     "name": "stderr",
     "output_type": "stream",
     "text": [
      "\n"
     ]
    },
    {
     "name": "stdout",
     "output_type": "stream",
     "text": [
      "\n",
      "      Epoch    GPU_mem   box_loss   seg_loss   cls_loss   dfl_loss  Instances       Size\n"
     ]
    },
    {
     "name": "stderr",
     "output_type": "stream",
     "text": [
      "     18/100      2.77G      1.146      2.486     0.9834      1.073         46        640: 100%|██████████| 56/56 [01:11<00:00,  1.28s/it]\n",
      "                 Class     Images  Instances      Box(P          R      mAP50  mAP50-95)     Mask(P          R      mAP50  mAP50-95): 100%|██████████| 4/4 [00:09<00:00,  2.44s/it]"
     ]
    },
    {
     "name": "stdout",
     "output_type": "stream",
     "text": [
      "                   all        128        201      0.768      0.706       0.75      0.478       0.72      0.653      0.666      0.328\n"
     ]
    },
    {
     "name": "stderr",
     "output_type": "stream",
     "text": [
      "\n"
     ]
    },
    {
     "name": "stdout",
     "output_type": "stream",
     "text": [
      "\n",
      "      Epoch    GPU_mem   box_loss   seg_loss   cls_loss   dfl_loss  Instances       Size\n"
     ]
    },
    {
     "name": "stderr",
     "output_type": "stream",
     "text": [
      "     19/100      2.78G      1.159      2.394     0.9472      1.077         34        640: 100%|██████████| 56/56 [01:34<00:00,  1.69s/it]\n",
      "                 Class     Images  Instances      Box(P          R      mAP50  mAP50-95)     Mask(P          R      mAP50  mAP50-95): 100%|██████████| 4/4 [00:04<00:00,  1.04s/it]"
     ]
    },
    {
     "name": "stdout",
     "output_type": "stream",
     "text": [
      "                   all        128        201      0.681      0.734      0.731      0.473      0.651      0.701      0.681      0.302\n"
     ]
    },
    {
     "name": "stderr",
     "output_type": "stream",
     "text": [
      "\n"
     ]
    },
    {
     "name": "stdout",
     "output_type": "stream",
     "text": [
      "\n",
      "      Epoch    GPU_mem   box_loss   seg_loss   cls_loss   dfl_loss  Instances       Size\n"
     ]
    },
    {
     "name": "stderr",
     "output_type": "stream",
     "text": [
      "     20/100      2.77G      1.142       2.54     0.9643      1.079         30        640: 100%|██████████| 56/56 [00:58<00:00,  1.05s/it]\n",
      "                 Class     Images  Instances      Box(P          R      mAP50  mAP50-95)     Mask(P          R      mAP50  mAP50-95): 100%|██████████| 4/4 [00:04<00:00,  1.20s/it]"
     ]
    },
    {
     "name": "stdout",
     "output_type": "stream",
     "text": [
      "                   all        128        201      0.709      0.756      0.795       0.52      0.699      0.705      0.732      0.376\n"
     ]
    },
    {
     "name": "stderr",
     "output_type": "stream",
     "text": [
      "\n"
     ]
    },
    {
     "name": "stdout",
     "output_type": "stream",
     "text": [
      "\n",
      "      Epoch    GPU_mem   box_loss   seg_loss   cls_loss   dfl_loss  Instances       Size\n"
     ]
    },
    {
     "name": "stderr",
     "output_type": "stream",
     "text": [
      "     21/100      2.77G      1.125        2.4     0.9496      1.067         33        640: 100%|██████████| 56/56 [01:18<00:00,  1.41s/it]\n",
      "                 Class     Images  Instances      Box(P          R      mAP50  mAP50-95)     Mask(P          R      mAP50  mAP50-95): 100%|██████████| 4/4 [00:05<00:00,  1.33s/it]"
     ]
    },
    {
     "name": "stdout",
     "output_type": "stream",
     "text": [
      "                   all        128        201      0.775      0.682      0.788      0.498      0.739      0.627      0.684      0.316\n"
     ]
    },
    {
     "name": "stderr",
     "output_type": "stream",
     "text": [
      "\n"
     ]
    },
    {
     "name": "stdout",
     "output_type": "stream",
     "text": [
      "\n",
      "      Epoch    GPU_mem   box_loss   seg_loss   cls_loss   dfl_loss  Instances       Size\n"
     ]
    },
    {
     "name": "stderr",
     "output_type": "stream",
     "text": [
      "     22/100      2.77G      1.138      2.493     0.9402      1.062         36        640: 100%|██████████| 56/56 [01:16<00:00,  1.36s/it]\n",
      "                 Class     Images  Instances      Box(P          R      mAP50  mAP50-95)     Mask(P          R      mAP50  mAP50-95): 100%|██████████| 4/4 [00:03<00:00,  1.07it/s]"
     ]
    },
    {
     "name": "stdout",
     "output_type": "stream",
     "text": [
      "                   all        128        201      0.732      0.701      0.759      0.504      0.696      0.701      0.703      0.347\n"
     ]
    },
    {
     "name": "stderr",
     "output_type": "stream",
     "text": [
      "\n"
     ]
    },
    {
     "name": "stdout",
     "output_type": "stream",
     "text": [
      "\n",
      "      Epoch    GPU_mem   box_loss   seg_loss   cls_loss   dfl_loss  Instances       Size\n"
     ]
    },
    {
     "name": "stderr",
     "output_type": "stream",
     "text": [
      "     23/100      2.77G      1.112      2.424     0.9043      1.054         42        640: 100%|██████████| 56/56 [00:40<00:00,  1.37it/s]\n",
      "                 Class     Images  Instances      Box(P          R      mAP50  mAP50-95)     Mask(P          R      mAP50  mAP50-95): 100%|██████████| 4/4 [00:03<00:00,  1.12it/s]"
     ]
    },
    {
     "name": "stdout",
     "output_type": "stream",
     "text": [
      "                   all        128        201      0.745      0.786      0.822      0.543      0.732      0.751      0.766      0.373\n"
     ]
    },
    {
     "name": "stderr",
     "output_type": "stream",
     "text": [
      "\n"
     ]
    },
    {
     "name": "stdout",
     "output_type": "stream",
     "text": [
      "\n",
      "      Epoch    GPU_mem   box_loss   seg_loss   cls_loss   dfl_loss  Instances       Size\n"
     ]
    },
    {
     "name": "stderr",
     "output_type": "stream",
     "text": [
      "     24/100      2.78G      1.097      2.385     0.9004      1.049         33        640: 100%|██████████| 56/56 [00:41<00:00,  1.35it/s]\n",
      "                 Class     Images  Instances      Box(P          R      mAP50  mAP50-95)     Mask(P          R      mAP50  mAP50-95): 100%|██████████| 4/4 [00:04<00:00,  1.09s/it]"
     ]
    },
    {
     "name": "stdout",
     "output_type": "stream",
     "text": [
      "                   all        128        201       0.81      0.699      0.795      0.536      0.769      0.667      0.724      0.384\n"
     ]
    },
    {
     "name": "stderr",
     "output_type": "stream",
     "text": [
      "\n"
     ]
    },
    {
     "name": "stdout",
     "output_type": "stream",
     "text": [
      "\n",
      "      Epoch    GPU_mem   box_loss   seg_loss   cls_loss   dfl_loss  Instances       Size\n"
     ]
    },
    {
     "name": "stderr",
     "output_type": "stream",
     "text": [
      "     25/100      2.77G      1.101      2.405     0.8904      1.047         39        640: 100%|██████████| 56/56 [00:41<00:00,  1.37it/s]\n",
      "                 Class     Images  Instances      Box(P          R      mAP50  mAP50-95)     Mask(P          R      mAP50  mAP50-95): 100%|██████████| 4/4 [00:04<00:00,  1.04s/it]"
     ]
    },
    {
     "name": "stdout",
     "output_type": "stream",
     "text": [
      "                   all        128        201        0.8      0.679      0.805       0.55      0.818       0.65      0.761      0.376\n"
     ]
    },
    {
     "name": "stderr",
     "output_type": "stream",
     "text": [
      "\n"
     ]
    },
    {
     "name": "stdout",
     "output_type": "stream",
     "text": [
      "\n",
      "      Epoch    GPU_mem   box_loss   seg_loss   cls_loss   dfl_loss  Instances       Size\n"
     ]
    },
    {
     "name": "stderr",
     "output_type": "stream",
     "text": [
      "     26/100      2.78G      1.106       2.44     0.8759      1.043         45        640: 100%|██████████| 56/56 [00:32<00:00,  1.75it/s]\n",
      "                 Class     Images  Instances      Box(P          R      mAP50  mAP50-95)     Mask(P          R      mAP50  mAP50-95): 100%|██████████| 4/4 [00:02<00:00,  1.66it/s]"
     ]
    },
    {
     "name": "stdout",
     "output_type": "stream",
     "text": [
      "                   all        128        201      0.786      0.761      0.832      0.553       0.74      0.716      0.735      0.352\n"
     ]
    },
    {
     "name": "stderr",
     "output_type": "stream",
     "text": [
      "\n"
     ]
    },
    {
     "name": "stdout",
     "output_type": "stream",
     "text": [
      "\n",
      "      Epoch    GPU_mem   box_loss   seg_loss   cls_loss   dfl_loss  Instances       Size\n"
     ]
    },
    {
     "name": "stderr",
     "output_type": "stream",
     "text": [
      "     27/100      2.77G      1.077      2.336     0.8522      1.037         37        640: 100%|██████████| 56/56 [00:16<00:00,  3.32it/s]\n",
      "                 Class     Images  Instances      Box(P          R      mAP50  mAP50-95)     Mask(P          R      mAP50  mAP50-95): 100%|██████████| 4/4 [00:02<00:00,  1.86it/s]"
     ]
    },
    {
     "name": "stdout",
     "output_type": "stream",
     "text": [
      "                   all        128        201      0.786      0.768      0.824      0.567      0.763      0.741      0.783       0.39\n"
     ]
    },
    {
     "name": "stderr",
     "output_type": "stream",
     "text": [
      "\n"
     ]
    },
    {
     "name": "stdout",
     "output_type": "stream",
     "text": [
      "\n",
      "      Epoch    GPU_mem   box_loss   seg_loss   cls_loss   dfl_loss  Instances       Size\n"
     ]
    },
    {
     "name": "stderr",
     "output_type": "stream",
     "text": [
      "     28/100      2.77G      1.109      2.363     0.9173      1.052         42        640: 100%|██████████| 56/56 [00:17<00:00,  3.28it/s]\n",
      "                 Class     Images  Instances      Box(P          R      mAP50  mAP50-95)     Mask(P          R      mAP50  mAP50-95): 100%|██████████| 4/4 [00:01<00:00,  2.02it/s]"
     ]
    },
    {
     "name": "stdout",
     "output_type": "stream",
     "text": [
      "                   all        128        201      0.794      0.688       0.79      0.537      0.765      0.679      0.745      0.377\n"
     ]
    },
    {
     "name": "stderr",
     "output_type": "stream",
     "text": [
      "\n"
     ]
    },
    {
     "name": "stdout",
     "output_type": "stream",
     "text": [
      "\n",
      "      Epoch    GPU_mem   box_loss   seg_loss   cls_loss   dfl_loss  Instances       Size\n"
     ]
    },
    {
     "name": "stderr",
     "output_type": "stream",
     "text": [
      "     29/100      2.77G      1.053      2.313     0.8429      1.028         38        640: 100%|██████████| 56/56 [00:17<00:00,  3.25it/s]\n",
      "                 Class     Images  Instances      Box(P          R      mAP50  mAP50-95)     Mask(P          R      mAP50  mAP50-95): 100%|██████████| 4/4 [00:02<00:00,  1.98it/s]"
     ]
    },
    {
     "name": "stdout",
     "output_type": "stream",
     "text": [
      "                   all        128        201       0.79      0.672      0.782      0.519      0.784      0.642      0.721      0.357\n"
     ]
    },
    {
     "name": "stderr",
     "output_type": "stream",
     "text": [
      "\n"
     ]
    },
    {
     "name": "stdout",
     "output_type": "stream",
     "text": [
      "\n",
      "      Epoch    GPU_mem   box_loss   seg_loss   cls_loss   dfl_loss  Instances       Size\n"
     ]
    },
    {
     "name": "stderr",
     "output_type": "stream",
     "text": [
      "     30/100      2.77G      1.072      2.361     0.8521      1.032         30        640: 100%|██████████| 56/56 [00:17<00:00,  3.29it/s]\n",
      "                 Class     Images  Instances      Box(P          R      mAP50  mAP50-95)     Mask(P          R      mAP50  mAP50-95): 100%|██████████| 4/4 [00:01<00:00,  2.02it/s]"
     ]
    },
    {
     "name": "stdout",
     "output_type": "stream",
     "text": [
      "                   all        128        201      0.829      0.724      0.814      0.521      0.781      0.697      0.733      0.351\n"
     ]
    },
    {
     "name": "stderr",
     "output_type": "stream",
     "text": [
      "\n"
     ]
    },
    {
     "name": "stdout",
     "output_type": "stream",
     "text": [
      "\n",
      "      Epoch    GPU_mem   box_loss   seg_loss   cls_loss   dfl_loss  Instances       Size\n"
     ]
    },
    {
     "name": "stderr",
     "output_type": "stream",
     "text": [
      "     31/100      2.77G      1.074      2.326     0.8601      1.035         37        640: 100%|██████████| 56/56 [00:17<00:00,  3.28it/s]\n",
      "                 Class     Images  Instances      Box(P          R      mAP50  mAP50-95)     Mask(P          R      mAP50  mAP50-95): 100%|██████████| 4/4 [00:01<00:00,  2.17it/s]"
     ]
    },
    {
     "name": "stdout",
     "output_type": "stream",
     "text": [
      "                   all        128        201      0.746      0.791      0.807      0.541      0.726       0.74      0.751      0.379\n"
     ]
    },
    {
     "name": "stderr",
     "output_type": "stream",
     "text": [
      "\n"
     ]
    },
    {
     "name": "stdout",
     "output_type": "stream",
     "text": [
      "\n",
      "      Epoch    GPU_mem   box_loss   seg_loss   cls_loss   dfl_loss  Instances       Size\n"
     ]
    },
    {
     "name": "stderr",
     "output_type": "stream",
     "text": [
      "     32/100      2.78G      1.038      2.263     0.8153       1.02         37        640: 100%|██████████| 56/56 [00:17<00:00,  3.29it/s]\n",
      "                 Class     Images  Instances      Box(P          R      mAP50  mAP50-95)     Mask(P          R      mAP50  mAP50-95): 100%|██████████| 4/4 [00:01<00:00,  2.03it/s]"
     ]
    },
    {
     "name": "stdout",
     "output_type": "stream",
     "text": [
      "                   all        128        201      0.828      0.721      0.824      0.554      0.872      0.645      0.768      0.389\n"
     ]
    },
    {
     "name": "stderr",
     "output_type": "stream",
     "text": [
      "\n"
     ]
    },
    {
     "name": "stdout",
     "output_type": "stream",
     "text": [
      "\n",
      "      Epoch    GPU_mem   box_loss   seg_loss   cls_loss   dfl_loss  Instances       Size\n"
     ]
    },
    {
     "name": "stderr",
     "output_type": "stream",
     "text": [
      "     33/100      2.77G      1.041      2.304     0.8297      1.016         29        640: 100%|██████████| 56/56 [00:17<00:00,  3.26it/s]\n",
      "                 Class     Images  Instances      Box(P          R      mAP50  mAP50-95)     Mask(P          R      mAP50  mAP50-95): 100%|██████████| 4/4 [00:02<00:00,  1.92it/s]"
     ]
    },
    {
     "name": "stdout",
     "output_type": "stream",
     "text": [
      "                   all        128        201      0.848      0.721      0.837      0.561      0.803      0.687      0.775      0.382\n"
     ]
    },
    {
     "name": "stderr",
     "output_type": "stream",
     "text": [
      "\n"
     ]
    },
    {
     "name": "stdout",
     "output_type": "stream",
     "text": [
      "\n",
      "      Epoch    GPU_mem   box_loss   seg_loss   cls_loss   dfl_loss  Instances       Size\n"
     ]
    },
    {
     "name": "stderr",
     "output_type": "stream",
     "text": [
      "     34/100      2.77G       1.05      2.262     0.8264      1.031         30        640: 100%|██████████| 56/56 [00:15<00:00,  3.52it/s]\n",
      "                 Class     Images  Instances      Box(P          R      mAP50  mAP50-95)     Mask(P          R      mAP50  mAP50-95): 100%|██████████| 4/4 [00:01<00:00,  2.17it/s]"
     ]
    },
    {
     "name": "stdout",
     "output_type": "stream",
     "text": [
      "                   all        128        201      0.786      0.731      0.786      0.524      0.705      0.748      0.727      0.364\n"
     ]
    },
    {
     "name": "stderr",
     "output_type": "stream",
     "text": [
      "\n"
     ]
    },
    {
     "name": "stdout",
     "output_type": "stream",
     "text": [
      "\n",
      "      Epoch    GPU_mem   box_loss   seg_loss   cls_loss   dfl_loss  Instances       Size\n"
     ]
    },
    {
     "name": "stderr",
     "output_type": "stream",
     "text": [
      "     35/100      2.78G       1.04      2.297     0.7824      1.019         36        640: 100%|██████████| 56/56 [00:18<00:00,  3.11it/s]\n",
      "                 Class     Images  Instances      Box(P          R      mAP50  mAP50-95)     Mask(P          R      mAP50  mAP50-95): 100%|██████████| 4/4 [00:02<00:00,  1.99it/s]"
     ]
    },
    {
     "name": "stdout",
     "output_type": "stream",
     "text": [
      "                   all        128        201        0.7      0.814      0.814      0.547      0.656      0.731       0.74      0.378\n"
     ]
    },
    {
     "name": "stderr",
     "output_type": "stream",
     "text": [
      "\n"
     ]
    },
    {
     "name": "stdout",
     "output_type": "stream",
     "text": [
      "\n",
      "      Epoch    GPU_mem   box_loss   seg_loss   cls_loss   dfl_loss  Instances       Size\n"
     ]
    },
    {
     "name": "stderr",
     "output_type": "stream",
     "text": [
      "     36/100      2.77G      1.022      2.245     0.8123      1.011         34        640: 100%|██████████| 56/56 [00:18<00:00,  3.09it/s]\n",
      "                 Class     Images  Instances      Box(P          R      mAP50  mAP50-95)     Mask(P          R      mAP50  mAP50-95): 100%|██████████| 4/4 [00:02<00:00,  1.85it/s]"
     ]
    },
    {
     "name": "stdout",
     "output_type": "stream",
     "text": [
      "                   all        128        201      0.735      0.806      0.815      0.545      0.691      0.756      0.734      0.375\n"
     ]
    },
    {
     "name": "stderr",
     "output_type": "stream",
     "text": [
      "\n"
     ]
    },
    {
     "name": "stdout",
     "output_type": "stream",
     "text": [
      "\n",
      "      Epoch    GPU_mem   box_loss   seg_loss   cls_loss   dfl_loss  Instances       Size\n"
     ]
    },
    {
     "name": "stderr",
     "output_type": "stream",
     "text": [
      "     37/100      2.77G      1.025      2.265     0.7623      1.012         38        640: 100%|██████████| 56/56 [00:17<00:00,  3.16it/s]\n",
      "                 Class     Images  Instances      Box(P          R      mAP50  mAP50-95)     Mask(P          R      mAP50  mAP50-95): 100%|██████████| 4/4 [00:01<00:00,  2.04it/s]"
     ]
    },
    {
     "name": "stdout",
     "output_type": "stream",
     "text": [
      "                   all        128        201      0.778      0.766      0.833      0.567      0.774      0.746       0.79      0.409\n"
     ]
    },
    {
     "name": "stderr",
     "output_type": "stream",
     "text": [
      "\n"
     ]
    },
    {
     "name": "stdout",
     "output_type": "stream",
     "text": [
      "\n",
      "      Epoch    GPU_mem   box_loss   seg_loss   cls_loss   dfl_loss  Instances       Size\n"
     ]
    },
    {
     "name": "stderr",
     "output_type": "stream",
     "text": [
      "     38/100      2.77G      1.029      2.191      0.769       1.01         35        640: 100%|██████████| 56/56 [00:18<00:00,  3.05it/s]\n",
      "                 Class     Images  Instances      Box(P          R      mAP50  mAP50-95)     Mask(P          R      mAP50  mAP50-95): 100%|██████████| 4/4 [00:02<00:00,  1.97it/s]"
     ]
    },
    {
     "name": "stdout",
     "output_type": "stream",
     "text": [
      "                   all        128        201      0.818      0.716      0.799      0.549      0.783      0.687      0.763      0.401\n"
     ]
    },
    {
     "name": "stderr",
     "output_type": "stream",
     "text": [
      "\n"
     ]
    },
    {
     "name": "stdout",
     "output_type": "stream",
     "text": [
      "\n",
      "      Epoch    GPU_mem   box_loss   seg_loss   cls_loss   dfl_loss  Instances       Size\n"
     ]
    },
    {
     "name": "stderr",
     "output_type": "stream",
     "text": [
      "     39/100      2.77G      1.021      2.258     0.7761      1.008         26        640: 100%|██████████| 56/56 [00:17<00:00,  3.17it/s]\n",
      "                 Class     Images  Instances      Box(P          R      mAP50  mAP50-95)     Mask(P          R      mAP50  mAP50-95): 100%|██████████| 4/4 [00:02<00:00,  1.87it/s]"
     ]
    },
    {
     "name": "stdout",
     "output_type": "stream",
     "text": [
      "                   all        128        201      0.831      0.716      0.829      0.571      0.795      0.667      0.764      0.395\n"
     ]
    },
    {
     "name": "stderr",
     "output_type": "stream",
     "text": [
      "\n"
     ]
    },
    {
     "name": "stdout",
     "output_type": "stream",
     "text": [
      "\n",
      "      Epoch    GPU_mem   box_loss   seg_loss   cls_loss   dfl_loss  Instances       Size\n"
     ]
    },
    {
     "name": "stderr",
     "output_type": "stream",
     "text": [
      "     40/100      2.77G      1.026      2.198     0.7676      1.013         27        640: 100%|██████████| 56/56 [00:18<00:00,  3.07it/s]\n",
      "                 Class     Images  Instances      Box(P          R      mAP50  mAP50-95)     Mask(P          R      mAP50  mAP50-95): 100%|██████████| 4/4 [00:02<00:00,  1.51it/s]"
     ]
    },
    {
     "name": "stdout",
     "output_type": "stream",
     "text": [
      "                   all        128        201      0.831      0.759      0.819      0.551      0.793      0.723      0.758      0.388\n"
     ]
    },
    {
     "name": "stderr",
     "output_type": "stream",
     "text": [
      "\n"
     ]
    },
    {
     "name": "stdout",
     "output_type": "stream",
     "text": [
      "\n",
      "      Epoch    GPU_mem   box_loss   seg_loss   cls_loss   dfl_loss  Instances       Size\n"
     ]
    },
    {
     "name": "stderr",
     "output_type": "stream",
     "text": [
      "     41/100      2.78G      1.006      2.178      0.728       1.01         37        640: 100%|██████████| 56/56 [00:18<00:00,  3.00it/s]\n",
      "                 Class     Images  Instances      Box(P          R      mAP50  mAP50-95)     Mask(P          R      mAP50  mAP50-95): 100%|██████████| 4/4 [00:02<00:00,  1.57it/s]"
     ]
    },
    {
     "name": "stdout",
     "output_type": "stream",
     "text": [
      "                   all        128        201       0.84      0.771      0.854      0.589      0.804      0.751      0.802      0.428\n"
     ]
    },
    {
     "name": "stderr",
     "output_type": "stream",
     "text": [
      "\n"
     ]
    },
    {
     "name": "stdout",
     "output_type": "stream",
     "text": [
      "\n",
      "      Epoch    GPU_mem   box_loss   seg_loss   cls_loss   dfl_loss  Instances       Size\n"
     ]
    },
    {
     "name": "stderr",
     "output_type": "stream",
     "text": [
      "     42/100      2.77G      1.006       2.18     0.7381      1.005         45        640: 100%|██████████| 56/56 [00:19<00:00,  2.91it/s]\n",
      "                 Class     Images  Instances      Box(P          R      mAP50  mAP50-95)     Mask(P          R      mAP50  mAP50-95): 100%|██████████| 4/4 [00:01<00:00,  3.25it/s]"
     ]
    },
    {
     "name": "stdout",
     "output_type": "stream",
     "text": [
      "                   all        128        201      0.833      0.771       0.84      0.587        0.8      0.741      0.786      0.406\n"
     ]
    },
    {
     "name": "stderr",
     "output_type": "stream",
     "text": [
      "\n"
     ]
    },
    {
     "name": "stdout",
     "output_type": "stream",
     "text": [
      "\n",
      "      Epoch    GPU_mem   box_loss   seg_loss   cls_loss   dfl_loss  Instances       Size\n"
     ]
    },
    {
     "name": "stderr",
     "output_type": "stream",
     "text": [
      "     43/100      2.77G      1.033      2.218     0.7652      1.016         41        640: 100%|██████████| 56/56 [00:17<00:00,  3.26it/s]\n",
      "                 Class     Images  Instances      Box(P          R      mAP50  mAP50-95)     Mask(P          R      mAP50  mAP50-95): 100%|██████████| 4/4 [00:02<00:00,  1.82it/s]"
     ]
    },
    {
     "name": "stdout",
     "output_type": "stream",
     "text": [
      "                   all        128        201      0.832      0.766      0.845      0.569      0.786      0.751      0.802      0.402\n"
     ]
    },
    {
     "name": "stderr",
     "output_type": "stream",
     "text": [
      "\n"
     ]
    },
    {
     "name": "stdout",
     "output_type": "stream",
     "text": [
      "\n",
      "      Epoch    GPU_mem   box_loss   seg_loss   cls_loss   dfl_loss  Instances       Size\n"
     ]
    },
    {
     "name": "stderr",
     "output_type": "stream",
     "text": [
      "     44/100      2.77G      1.004      2.135     0.7403     0.9962         30        640: 100%|██████████| 56/56 [00:19<00:00,  2.91it/s]\n",
      "                 Class     Images  Instances      Box(P          R      mAP50  mAP50-95)     Mask(P          R      mAP50  mAP50-95): 100%|██████████| 4/4 [00:02<00:00,  1.70it/s]"
     ]
    },
    {
     "name": "stdout",
     "output_type": "stream",
     "text": [
      "                   all        128        201      0.784      0.766      0.824      0.555      0.724      0.742      0.744      0.376\n"
     ]
    },
    {
     "name": "stderr",
     "output_type": "stream",
     "text": [
      "\n"
     ]
    },
    {
     "name": "stdout",
     "output_type": "stream",
     "text": [
      "\n",
      "      Epoch    GPU_mem   box_loss   seg_loss   cls_loss   dfl_loss  Instances       Size\n"
     ]
    },
    {
     "name": "stderr",
     "output_type": "stream",
     "text": [
      "     45/100      2.77G     0.9814      2.163     0.7162     0.9879         37        640: 100%|██████████| 56/56 [00:19<00:00,  2.87it/s]\n",
      "                 Class     Images  Instances      Box(P          R      mAP50  mAP50-95)     Mask(P          R      mAP50  mAP50-95): 100%|██████████| 4/4 [00:02<00:00,  1.67it/s]"
     ]
    },
    {
     "name": "stdout",
     "output_type": "stream",
     "text": [
      "                   all        128        201      0.774      0.771      0.828      0.573      0.729      0.726      0.752      0.384\n"
     ]
    },
    {
     "name": "stderr",
     "output_type": "stream",
     "text": [
      "\n"
     ]
    },
    {
     "name": "stdout",
     "output_type": "stream",
     "text": [
      "\n",
      "      Epoch    GPU_mem   box_loss   seg_loss   cls_loss   dfl_loss  Instances       Size\n"
     ]
    },
    {
     "name": "stderr",
     "output_type": "stream",
     "text": [
      "     46/100      2.77G     0.9598      2.122     0.7282     0.9839         27        640: 100%|██████████| 56/56 [00:18<00:00,  2.96it/s]\n",
      "                 Class     Images  Instances      Box(P          R      mAP50  mAP50-95)     Mask(P          R      mAP50  mAP50-95): 100%|██████████| 4/4 [00:02<00:00,  1.38it/s]"
     ]
    },
    {
     "name": "stdout",
     "output_type": "stream",
     "text": [
      "                   all        128        201      0.749      0.802      0.844      0.571      0.784      0.722      0.797      0.426\n"
     ]
    },
    {
     "name": "stderr",
     "output_type": "stream",
     "text": [
      "\n"
     ]
    },
    {
     "name": "stdout",
     "output_type": "stream",
     "text": [
      "\n",
      "      Epoch    GPU_mem   box_loss   seg_loss   cls_loss   dfl_loss  Instances       Size\n"
     ]
    },
    {
     "name": "stderr",
     "output_type": "stream",
     "text": [
      "     47/100      2.78G     0.9561      2.186     0.6958     0.9777         38        640: 100%|██████████| 56/56 [00:18<00:00,  2.99it/s]\n",
      "                 Class     Images  Instances      Box(P          R      mAP50  mAP50-95)     Mask(P          R      mAP50  mAP50-95): 100%|██████████| 4/4 [00:02<00:00,  1.94it/s]"
     ]
    },
    {
     "name": "stdout",
     "output_type": "stream",
     "text": [
      "                   all        128        201       0.75      0.771      0.811      0.556      0.764      0.756      0.792      0.407\n"
     ]
    },
    {
     "name": "stderr",
     "output_type": "stream",
     "text": [
      "\n"
     ]
    },
    {
     "name": "stdout",
     "output_type": "stream",
     "text": [
      "\n",
      "      Epoch    GPU_mem   box_loss   seg_loss   cls_loss   dfl_loss  Instances       Size\n"
     ]
    },
    {
     "name": "stderr",
     "output_type": "stream",
     "text": [
      "     48/100      2.78G     0.9638      2.098     0.7054     0.9851         40        640: 100%|██████████| 56/56 [00:17<00:00,  3.14it/s]\n",
      "                 Class     Images  Instances      Box(P          R      mAP50  mAP50-95)     Mask(P          R      mAP50  mAP50-95): 100%|██████████| 4/4 [00:02<00:00,  1.80it/s]"
     ]
    },
    {
     "name": "stdout",
     "output_type": "stream",
     "text": [
      "                   all        128        201      0.824      0.677      0.807      0.527      0.797      0.652      0.762      0.401\n"
     ]
    },
    {
     "name": "stderr",
     "output_type": "stream",
     "text": [
      "\n"
     ]
    },
    {
     "name": "stdout",
     "output_type": "stream",
     "text": [
      "\n",
      "      Epoch    GPU_mem   box_loss   seg_loss   cls_loss   dfl_loss  Instances       Size\n"
     ]
    },
    {
     "name": "stderr",
     "output_type": "stream",
     "text": [
      "     49/100      2.77G     0.9709      2.084      0.689     0.9819         38        640: 100%|██████████| 56/56 [00:17<00:00,  3.13it/s]\n",
      "                 Class     Images  Instances      Box(P          R      mAP50  mAP50-95)     Mask(P          R      mAP50  mAP50-95): 100%|██████████| 4/4 [00:02<00:00,  1.73it/s]"
     ]
    },
    {
     "name": "stdout",
     "output_type": "stream",
     "text": [
      "                   all        128        201      0.839      0.701      0.805      0.558      0.737      0.696      0.743      0.391\n"
     ]
    },
    {
     "name": "stderr",
     "output_type": "stream",
     "text": [
      "\n"
     ]
    },
    {
     "name": "stdout",
     "output_type": "stream",
     "text": [
      "\n",
      "      Epoch    GPU_mem   box_loss   seg_loss   cls_loss   dfl_loss  Instances       Size\n"
     ]
    },
    {
     "name": "stderr",
     "output_type": "stream",
     "text": [
      "     50/100      2.77G      0.967      2.076     0.6817     0.9793         31        640: 100%|██████████| 56/56 [00:17<00:00,  3.14it/s]\n",
      "                 Class     Images  Instances      Box(P          R      mAP50  mAP50-95)     Mask(P          R      mAP50  mAP50-95): 100%|██████████| 4/4 [00:02<00:00,  1.97it/s]"
     ]
    },
    {
     "name": "stdout",
     "output_type": "stream",
     "text": [
      "                   all        128        201      0.784      0.781      0.831      0.589      0.771      0.719      0.771      0.409\n"
     ]
    },
    {
     "name": "stderr",
     "output_type": "stream",
     "text": [
      "\n"
     ]
    },
    {
     "name": "stdout",
     "output_type": "stream",
     "text": [
      "\n",
      "      Epoch    GPU_mem   box_loss   seg_loss   cls_loss   dfl_loss  Instances       Size\n"
     ]
    },
    {
     "name": "stderr",
     "output_type": "stream",
     "text": [
      "     51/100      2.77G     0.9458       2.07     0.6731     0.9783         28        640: 100%|██████████| 56/56 [00:15<00:00,  3.53it/s]\n",
      "                 Class     Images  Instances      Box(P          R      mAP50  mAP50-95)     Mask(P          R      mAP50  mAP50-95): 100%|██████████| 4/4 [00:01<00:00,  3.52it/s]"
     ]
    },
    {
     "name": "stdout",
     "output_type": "stream",
     "text": [
      "                   all        128        201      0.828      0.765      0.831      0.576      0.799      0.732      0.754      0.407\n"
     ]
    },
    {
     "name": "stderr",
     "output_type": "stream",
     "text": [
      "\n"
     ]
    },
    {
     "name": "stdout",
     "output_type": "stream",
     "text": [
      "\n",
      "      Epoch    GPU_mem   box_loss   seg_loss   cls_loss   dfl_loss  Instances       Size\n"
     ]
    },
    {
     "name": "stderr",
     "output_type": "stream",
     "text": [
      "     52/100      2.77G     0.9378      2.056     0.6578       0.98         33        640: 100%|██████████| 56/56 [00:15<00:00,  3.63it/s]\n",
      "                 Class     Images  Instances      Box(P          R      mAP50  mAP50-95)     Mask(P          R      mAP50  mAP50-95): 100%|██████████| 4/4 [00:01<00:00,  3.59it/s]"
     ]
    },
    {
     "name": "stdout",
     "output_type": "stream",
     "text": [
      "                   all        128        201      0.805      0.756      0.828      0.562      0.849      0.647      0.729      0.386\n"
     ]
    },
    {
     "name": "stderr",
     "output_type": "stream",
     "text": [
      "\n"
     ]
    },
    {
     "name": "stdout",
     "output_type": "stream",
     "text": [
      "\n",
      "      Epoch    GPU_mem   box_loss   seg_loss   cls_loss   dfl_loss  Instances       Size\n"
     ]
    },
    {
     "name": "stderr",
     "output_type": "stream",
     "text": [
      "     53/100      2.77G     0.9683      2.129     0.6847     0.9879         53        640: 100%|██████████| 56/56 [00:13<00:00,  4.05it/s]\n",
      "                 Class     Images  Instances      Box(P          R      mAP50  mAP50-95)     Mask(P          R      mAP50  mAP50-95): 100%|██████████| 4/4 [00:01<00:00,  3.44it/s]"
     ]
    },
    {
     "name": "stdout",
     "output_type": "stream",
     "text": [
      "                   all        128        201      0.793      0.756      0.804      0.535      0.748      0.693      0.719      0.354\n"
     ]
    },
    {
     "name": "stderr",
     "output_type": "stream",
     "text": [
      "\n"
     ]
    },
    {
     "name": "stdout",
     "output_type": "stream",
     "text": [
      "\n",
      "      Epoch    GPU_mem   box_loss   seg_loss   cls_loss   dfl_loss  Instances       Size\n"
     ]
    },
    {
     "name": "stderr",
     "output_type": "stream",
     "text": [
      "     54/100      2.77G      0.949      2.078     0.6762     0.9729         44        640: 100%|██████████| 56/56 [00:13<00:00,  4.04it/s]\n",
      "                 Class     Images  Instances      Box(P          R      mAP50  mAP50-95)     Mask(P          R      mAP50  mAP50-95): 100%|██████████| 4/4 [00:01<00:00,  3.52it/s]"
     ]
    },
    {
     "name": "stdout",
     "output_type": "stream",
     "text": [
      "                   all        128        201      0.808      0.771      0.819      0.548       0.76      0.721      0.734      0.377\n"
     ]
    },
    {
     "name": "stderr",
     "output_type": "stream",
     "text": [
      "\n"
     ]
    },
    {
     "name": "stdout",
     "output_type": "stream",
     "text": [
      "\n",
      "      Epoch    GPU_mem   box_loss   seg_loss   cls_loss   dfl_loss  Instances       Size\n"
     ]
    },
    {
     "name": "stderr",
     "output_type": "stream",
     "text": [
      "     55/100      2.78G     0.9436      2.035     0.6738     0.9706         29        640: 100%|██████████| 56/56 [00:13<00:00,  4.04it/s]\n",
      "                 Class     Images  Instances      Box(P          R      mAP50  mAP50-95)     Mask(P          R      mAP50  mAP50-95): 100%|██████████| 4/4 [00:01<00:00,  3.38it/s]"
     ]
    },
    {
     "name": "stdout",
     "output_type": "stream",
     "text": [
      "                   all        128        201        0.8      0.786      0.836      0.558      0.785      0.756      0.771      0.411\n"
     ]
    },
    {
     "name": "stderr",
     "output_type": "stream",
     "text": [
      "\n"
     ]
    },
    {
     "name": "stdout",
     "output_type": "stream",
     "text": [
      "\n",
      "      Epoch    GPU_mem   box_loss   seg_loss   cls_loss   dfl_loss  Instances       Size\n"
     ]
    },
    {
     "name": "stderr",
     "output_type": "stream",
     "text": [
      "     56/100      2.78G     0.9345      2.084     0.6642     0.9791         34        640: 100%|██████████| 56/56 [00:14<00:00,  3.96it/s]\n",
      "                 Class     Images  Instances      Box(P          R      mAP50  mAP50-95)     Mask(P          R      mAP50  mAP50-95): 100%|██████████| 4/4 [00:01<00:00,  3.40it/s]"
     ]
    },
    {
     "name": "stdout",
     "output_type": "stream",
     "text": [
      "                   all        128        201      0.823      0.785      0.843      0.578      0.767      0.756      0.787      0.405\n"
     ]
    },
    {
     "name": "stderr",
     "output_type": "stream",
     "text": [
      "\n"
     ]
    },
    {
     "name": "stdout",
     "output_type": "stream",
     "text": [
      "\n",
      "      Epoch    GPU_mem   box_loss   seg_loss   cls_loss   dfl_loss  Instances       Size\n"
     ]
    },
    {
     "name": "stderr",
     "output_type": "stream",
     "text": [
      "     57/100      2.77G     0.9286      2.014     0.6412     0.9655         44        640: 100%|██████████| 56/56 [00:13<00:00,  4.01it/s]\n",
      "                 Class     Images  Instances      Box(P          R      mAP50  mAP50-95)     Mask(P          R      mAP50  mAP50-95): 100%|██████████| 4/4 [00:01<00:00,  3.44it/s]"
     ]
    },
    {
     "name": "stdout",
     "output_type": "stream",
     "text": [
      "                   all        128        201      0.823      0.726      0.814      0.567      0.786      0.731      0.763      0.395\n"
     ]
    },
    {
     "name": "stderr",
     "output_type": "stream",
     "text": [
      "\n"
     ]
    },
    {
     "name": "stdout",
     "output_type": "stream",
     "text": [
      "\n",
      "      Epoch    GPU_mem   box_loss   seg_loss   cls_loss   dfl_loss  Instances       Size\n"
     ]
    },
    {
     "name": "stderr",
     "output_type": "stream",
     "text": [
      "     58/100      2.77G      0.903      1.979      0.618     0.9581         30        640: 100%|██████████| 56/56 [00:13<00:00,  4.01it/s]\n",
      "                 Class     Images  Instances      Box(P          R      mAP50  mAP50-95)     Mask(P          R      mAP50  mAP50-95): 100%|██████████| 4/4 [00:01<00:00,  3.44it/s]"
     ]
    },
    {
     "name": "stdout",
     "output_type": "stream",
     "text": [
      "                   all        128        201      0.877      0.748       0.84      0.581      0.791      0.756      0.785      0.413\n"
     ]
    },
    {
     "name": "stderr",
     "output_type": "stream",
     "text": [
      "\n"
     ]
    },
    {
     "name": "stdout",
     "output_type": "stream",
     "text": [
      "\n",
      "      Epoch    GPU_mem   box_loss   seg_loss   cls_loss   dfl_loss  Instances       Size\n"
     ]
    },
    {
     "name": "stderr",
     "output_type": "stream",
     "text": [
      "     59/100      2.77G     0.9249      2.035     0.6305     0.9728         37        640: 100%|██████████| 56/56 [00:14<00:00,  3.97it/s]\n",
      "                 Class     Images  Instances      Box(P          R      mAP50  mAP50-95)     Mask(P          R      mAP50  mAP50-95): 100%|██████████| 4/4 [00:01<00:00,  3.66it/s]"
     ]
    },
    {
     "name": "stdout",
     "output_type": "stream",
     "text": [
      "                   all        128        201      0.815      0.787      0.847      0.574      0.821      0.754      0.795      0.422\n"
     ]
    },
    {
     "name": "stderr",
     "output_type": "stream",
     "text": [
      "\n"
     ]
    },
    {
     "name": "stdout",
     "output_type": "stream",
     "text": [
      "\n",
      "      Epoch    GPU_mem   box_loss   seg_loss   cls_loss   dfl_loss  Instances       Size\n"
     ]
    },
    {
     "name": "stderr",
     "output_type": "stream",
     "text": [
      "     60/100      2.77G     0.8905       1.96     0.6284     0.9614         41        640: 100%|██████████| 56/56 [00:14<00:00,  3.97it/s]\n",
      "                 Class     Images  Instances      Box(P          R      mAP50  mAP50-95)     Mask(P          R      mAP50  mAP50-95): 100%|██████████| 4/4 [00:01<00:00,  3.54it/s]"
     ]
    },
    {
     "name": "stdout",
     "output_type": "stream",
     "text": [
      "                   all        128        201      0.727       0.78      0.807      0.572      0.708       0.76      0.756      0.391\n"
     ]
    },
    {
     "name": "stderr",
     "output_type": "stream",
     "text": [
      "\n"
     ]
    },
    {
     "name": "stdout",
     "output_type": "stream",
     "text": [
      "\n",
      "      Epoch    GPU_mem   box_loss   seg_loss   cls_loss   dfl_loss  Instances       Size\n"
     ]
    },
    {
     "name": "stderr",
     "output_type": "stream",
     "text": [
      "     61/100      2.77G      0.927      1.986     0.6266     0.9612         32        640: 100%|██████████| 56/56 [00:13<00:00,  4.05it/s]\n",
      "                 Class     Images  Instances      Box(P          R      mAP50  mAP50-95)     Mask(P          R      mAP50  mAP50-95): 100%|██████████| 4/4 [00:01<00:00,  3.55it/s]"
     ]
    },
    {
     "name": "stdout",
     "output_type": "stream",
     "text": [
      "                   all        128        201      0.829      0.766      0.831      0.584      0.813      0.751      0.793      0.421\n"
     ]
    },
    {
     "name": "stderr",
     "output_type": "stream",
     "text": [
      "\n"
     ]
    },
    {
     "name": "stdout",
     "output_type": "stream",
     "text": [
      "\n",
      "      Epoch    GPU_mem   box_loss   seg_loss   cls_loss   dfl_loss  Instances       Size\n"
     ]
    },
    {
     "name": "stderr",
     "output_type": "stream",
     "text": [
      "     62/100      2.77G     0.9171      1.996     0.6279     0.9677         27        640: 100%|██████████| 56/56 [00:13<00:00,  4.02it/s]\n",
      "                 Class     Images  Instances      Box(P          R      mAP50  mAP50-95)     Mask(P          R      mAP50  mAP50-95): 100%|██████████| 4/4 [00:01<00:00,  3.42it/s]"
     ]
    },
    {
     "name": "stdout",
     "output_type": "stream",
     "text": [
      "                   all        128        201      0.827      0.771      0.822      0.571      0.793      0.741      0.774      0.417\n"
     ]
    },
    {
     "name": "stderr",
     "output_type": "stream",
     "text": [
      "\n"
     ]
    },
    {
     "name": "stdout",
     "output_type": "stream",
     "text": [
      "\n",
      "      Epoch    GPU_mem   box_loss   seg_loss   cls_loss   dfl_loss  Instances       Size\n"
     ]
    },
    {
     "name": "stderr",
     "output_type": "stream",
     "text": [
      "     63/100      2.78G     0.9051      2.005     0.6218     0.9567         37        640: 100%|██████████| 56/56 [00:14<00:00,  3.93it/s]\n",
      "                 Class     Images  Instances      Box(P          R      mAP50  mAP50-95)     Mask(P          R      mAP50  mAP50-95): 100%|██████████| 4/4 [00:01<00:00,  3.02it/s]"
     ]
    },
    {
     "name": "stdout",
     "output_type": "stream",
     "text": [
      "                   all        128        201      0.826      0.781      0.809      0.556      0.783      0.736       0.72      0.393\n"
     ]
    },
    {
     "name": "stderr",
     "output_type": "stream",
     "text": [
      "\n"
     ]
    },
    {
     "name": "stdout",
     "output_type": "stream",
     "text": [
      "\n",
      "      Epoch    GPU_mem   box_loss   seg_loss   cls_loss   dfl_loss  Instances       Size\n"
     ]
    },
    {
     "name": "stderr",
     "output_type": "stream",
     "text": [
      "     64/100      2.77G     0.8971      1.944     0.6119     0.9633         39        640: 100%|██████████| 56/56 [00:14<00:00,  3.91it/s]\n",
      "                 Class     Images  Instances      Box(P          R      mAP50  mAP50-95)     Mask(P          R      mAP50  mAP50-95): 100%|██████████| 4/4 [00:01<00:00,  3.26it/s]"
     ]
    },
    {
     "name": "stdout",
     "output_type": "stream",
     "text": [
      "                   all        128        201      0.837      0.767      0.843       0.58      0.738      0.801      0.793      0.412\n"
     ]
    },
    {
     "name": "stderr",
     "output_type": "stream",
     "text": [
      "\n"
     ]
    },
    {
     "name": "stdout",
     "output_type": "stream",
     "text": [
      "\n",
      "      Epoch    GPU_mem   box_loss   seg_loss   cls_loss   dfl_loss  Instances       Size\n"
     ]
    },
    {
     "name": "stderr",
     "output_type": "stream",
     "text": [
      "     65/100      2.77G     0.9127      2.019     0.6085      0.958         31        640: 100%|██████████| 56/56 [00:14<00:00,  3.99it/s]\n",
      "                 Class     Images  Instances      Box(P          R      mAP50  mAP50-95)     Mask(P          R      mAP50  mAP50-95): 100%|██████████| 4/4 [00:01<00:00,  3.34it/s]"
     ]
    },
    {
     "name": "stdout",
     "output_type": "stream",
     "text": [
      "                   all        128        201      0.841      0.738      0.836      0.585      0.819      0.719      0.797      0.431\n"
     ]
    },
    {
     "name": "stderr",
     "output_type": "stream",
     "text": [
      "\n"
     ]
    },
    {
     "name": "stdout",
     "output_type": "stream",
     "text": [
      "\n",
      "      Epoch    GPU_mem   box_loss   seg_loss   cls_loss   dfl_loss  Instances       Size\n"
     ]
    },
    {
     "name": "stderr",
     "output_type": "stream",
     "text": [
      "     66/100      2.77G     0.8922      1.915     0.5963     0.9531         33        640: 100%|██████████| 56/56 [00:14<00:00,  3.99it/s]\n",
      "                 Class     Images  Instances      Box(P          R      mAP50  mAP50-95)     Mask(P          R      mAP50  mAP50-95): 100%|██████████| 4/4 [00:01<00:00,  3.38it/s]"
     ]
    },
    {
     "name": "stdout",
     "output_type": "stream",
     "text": [
      "                   all        128        201      0.805      0.816      0.832      0.583      0.783      0.753      0.775      0.398\n"
     ]
    },
    {
     "name": "stderr",
     "output_type": "stream",
     "text": [
      "\n"
     ]
    },
    {
     "name": "stdout",
     "output_type": "stream",
     "text": [
      "\n",
      "      Epoch    GPU_mem   box_loss   seg_loss   cls_loss   dfl_loss  Instances       Size\n"
     ]
    },
    {
     "name": "stderr",
     "output_type": "stream",
     "text": [
      "     67/100      2.78G     0.8888       1.92     0.5842      0.955         39        640: 100%|██████████| 56/56 [00:14<00:00,  3.96it/s]\n",
      "                 Class     Images  Instances      Box(P          R      mAP50  mAP50-95)     Mask(P          R      mAP50  mAP50-95): 100%|██████████| 4/4 [00:01<00:00,  3.16it/s]"
     ]
    },
    {
     "name": "stdout",
     "output_type": "stream",
     "text": [
      "                   all        128        201      0.784      0.806      0.834      0.573      0.744      0.766      0.767      0.426\n"
     ]
    },
    {
     "name": "stderr",
     "output_type": "stream",
     "text": [
      "\n"
     ]
    },
    {
     "name": "stdout",
     "output_type": "stream",
     "text": [
      "\n",
      "      Epoch    GPU_mem   box_loss   seg_loss   cls_loss   dfl_loss  Instances       Size\n"
     ]
    },
    {
     "name": "stderr",
     "output_type": "stream",
     "text": [
      "     68/100      2.77G     0.9051       1.93     0.5824     0.9526         28        640: 100%|██████████| 56/56 [00:14<00:00,  4.00it/s]\n",
      "                 Class     Images  Instances      Box(P          R      mAP50  mAP50-95)     Mask(P          R      mAP50  mAP50-95): 100%|██████████| 4/4 [00:01<00:00,  3.45it/s]"
     ]
    },
    {
     "name": "stdout",
     "output_type": "stream",
     "text": [
      "                   all        128        201      0.828      0.768      0.827      0.588      0.758      0.796      0.792       0.43\n"
     ]
    },
    {
     "name": "stderr",
     "output_type": "stream",
     "text": [
      "\n"
     ]
    },
    {
     "name": "stdout",
     "output_type": "stream",
     "text": [
      "\n",
      "      Epoch    GPU_mem   box_loss   seg_loss   cls_loss   dfl_loss  Instances       Size\n"
     ]
    },
    {
     "name": "stderr",
     "output_type": "stream",
     "text": [
      "     69/100      2.77G     0.8797      1.956     0.5841     0.9507         39        640: 100%|██████████| 56/56 [00:14<00:00,  3.97it/s]\n",
      "                 Class     Images  Instances      Box(P          R      mAP50  mAP50-95)     Mask(P          R      mAP50  mAP50-95): 100%|██████████| 4/4 [00:01<00:00,  3.52it/s]"
     ]
    },
    {
     "name": "stdout",
     "output_type": "stream",
     "text": [
      "                   all        128        201      0.829      0.721      0.814      0.563        0.8      0.697      0.751      0.412\n"
     ]
    },
    {
     "name": "stderr",
     "output_type": "stream",
     "text": [
      "\n"
     ]
    },
    {
     "name": "stdout",
     "output_type": "stream",
     "text": [
      "\n",
      "      Epoch    GPU_mem   box_loss   seg_loss   cls_loss   dfl_loss  Instances       Size\n"
     ]
    },
    {
     "name": "stderr",
     "output_type": "stream",
     "text": [
      "     70/100      2.78G     0.8769      1.892     0.5685     0.9498         36        640: 100%|██████████| 56/56 [00:14<00:00,  3.92it/s]\n",
      "                 Class     Images  Instances      Box(P          R      mAP50  mAP50-95)     Mask(P          R      mAP50  mAP50-95): 100%|██████████| 4/4 [00:01<00:00,  3.57it/s]"
     ]
    },
    {
     "name": "stdout",
     "output_type": "stream",
     "text": [
      "                   all        128        201      0.835      0.716      0.809      0.574      0.805      0.672       0.73       0.41\n"
     ]
    },
    {
     "name": "stderr",
     "output_type": "stream",
     "text": [
      "\n"
     ]
    },
    {
     "name": "stdout",
     "output_type": "stream",
     "text": [
      "\n",
      "      Epoch    GPU_mem   box_loss   seg_loss   cls_loss   dfl_loss  Instances       Size\n"
     ]
    },
    {
     "name": "stderr",
     "output_type": "stream",
     "text": [
      "     71/100      2.77G     0.8776      1.922     0.5621     0.9515         40        640: 100%|██████████| 56/56 [00:14<00:00,  3.92it/s]\n",
      "                 Class     Images  Instances      Box(P          R      mAP50  mAP50-95)     Mask(P          R      mAP50  mAP50-95): 100%|██████████| 4/4 [00:01<00:00,  3.16it/s]"
     ]
    },
    {
     "name": "stdout",
     "output_type": "stream",
     "text": [
      "                   all        128        201       0.79      0.807       0.83      0.587      0.761      0.776      0.773      0.437\n"
     ]
    },
    {
     "name": "stderr",
     "output_type": "stream",
     "text": [
      "\n"
     ]
    },
    {
     "name": "stdout",
     "output_type": "stream",
     "text": [
      "\n",
      "      Epoch    GPU_mem   box_loss   seg_loss   cls_loss   dfl_loss  Instances       Size\n"
     ]
    },
    {
     "name": "stderr",
     "output_type": "stream",
     "text": [
      "     72/100      2.77G     0.8686      1.902     0.5606     0.9404         45        640: 100%|██████████| 56/56 [00:14<00:00,  3.94it/s]\n",
      "                 Class     Images  Instances      Box(P          R      mAP50  mAP50-95)     Mask(P          R      mAP50  mAP50-95): 100%|██████████| 4/4 [00:01<00:00,  3.21it/s]"
     ]
    },
    {
     "name": "stdout",
     "output_type": "stream",
     "text": [
      "                   all        128        201      0.828      0.786      0.836      0.589      0.816      0.751      0.787      0.429\n"
     ]
    },
    {
     "name": "stderr",
     "output_type": "stream",
     "text": [
      "\n"
     ]
    },
    {
     "name": "stdout",
     "output_type": "stream",
     "text": [
      "\n",
      "      Epoch    GPU_mem   box_loss   seg_loss   cls_loss   dfl_loss  Instances       Size\n"
     ]
    },
    {
     "name": "stderr",
     "output_type": "stream",
     "text": [
      "     73/100      2.78G     0.8776      1.887     0.5602     0.9373         25        640: 100%|██████████| 56/56 [00:14<00:00,  3.91it/s]\n",
      "                 Class     Images  Instances      Box(P          R      mAP50  mAP50-95)     Mask(P          R      mAP50  mAP50-95): 100%|██████████| 4/4 [00:01<00:00,  3.30it/s]"
     ]
    },
    {
     "name": "stdout",
     "output_type": "stream",
     "text": [
      "                   all        128        201      0.845      0.771      0.834      0.574      0.785      0.716      0.743      0.408\n"
     ]
    },
    {
     "name": "stderr",
     "output_type": "stream",
     "text": [
      "\n"
     ]
    },
    {
     "name": "stdout",
     "output_type": "stream",
     "text": [
      "\n",
      "      Epoch    GPU_mem   box_loss   seg_loss   cls_loss   dfl_loss  Instances       Size\n"
     ]
    },
    {
     "name": "stderr",
     "output_type": "stream",
     "text": [
      "     74/100      2.92G     0.8878      1.928     0.5649     0.9428         41        640: 100%|██████████| 56/56 [00:14<00:00,  3.97it/s]\n",
      "                 Class     Images  Instances      Box(P          R      mAP50  mAP50-95)     Mask(P          R      mAP50  mAP50-95): 100%|██████████| 4/4 [00:01<00:00,  3.10it/s]"
     ]
    },
    {
     "name": "stdout",
     "output_type": "stream",
     "text": [
      "                   all        128        201      0.867      0.761      0.833      0.588      0.838      0.736      0.771      0.415\n"
     ]
    },
    {
     "name": "stderr",
     "output_type": "stream",
     "text": [
      "\n"
     ]
    },
    {
     "name": "stdout",
     "output_type": "stream",
     "text": [
      "\n",
      "      Epoch    GPU_mem   box_loss   seg_loss   cls_loss   dfl_loss  Instances       Size\n"
     ]
    },
    {
     "name": "stderr",
     "output_type": "stream",
     "text": [
      "     75/100      2.77G     0.8533      1.865     0.5563     0.9401         42        640: 100%|██████████| 56/56 [00:14<00:00,  3.91it/s]\n",
      "                 Class     Images  Instances      Box(P          R      mAP50  mAP50-95)     Mask(P          R      mAP50  mAP50-95): 100%|██████████| 4/4 [00:01<00:00,  3.42it/s]"
     ]
    },
    {
     "name": "stdout",
     "output_type": "stream",
     "text": [
      "                   all        128        201      0.848       0.75      0.828      0.574      0.786      0.693      0.736      0.413\n"
     ]
    },
    {
     "name": "stderr",
     "output_type": "stream",
     "text": [
      "\n"
     ]
    },
    {
     "name": "stdout",
     "output_type": "stream",
     "text": [
      "\n",
      "      Epoch    GPU_mem   box_loss   seg_loss   cls_loss   dfl_loss  Instances       Size\n"
     ]
    },
    {
     "name": "stderr",
     "output_type": "stream",
     "text": [
      "     76/100      2.77G     0.8696       1.88     0.5619      0.944         37        640: 100%|██████████| 56/56 [00:14<00:00,  3.92it/s]\n",
      "                 Class     Images  Instances      Box(P          R      mAP50  mAP50-95)     Mask(P          R      mAP50  mAP50-95): 100%|██████████| 4/4 [00:01<00:00,  3.42it/s]"
     ]
    },
    {
     "name": "stdout",
     "output_type": "stream",
     "text": [
      "                   all        128        201      0.827      0.781      0.834      0.593      0.785      0.741      0.761      0.425\n"
     ]
    },
    {
     "name": "stderr",
     "output_type": "stream",
     "text": [
      "\n"
     ]
    },
    {
     "name": "stdout",
     "output_type": "stream",
     "text": [
      "\n",
      "      Epoch    GPU_mem   box_loss   seg_loss   cls_loss   dfl_loss  Instances       Size\n"
     ]
    },
    {
     "name": "stderr",
     "output_type": "stream",
     "text": [
      "     77/100      2.77G     0.8433      1.866     0.5389     0.9314         41        640: 100%|██████████| 56/56 [00:14<00:00,  3.98it/s]\n",
      "                 Class     Images  Instances      Box(P          R      mAP50  mAP50-95)     Mask(P          R      mAP50  mAP50-95): 100%|██████████| 4/4 [00:01<00:00,  3.39it/s]"
     ]
    },
    {
     "name": "stdout",
     "output_type": "stream",
     "text": [
      "                   all        128        201      0.844      0.811      0.819      0.572      0.826      0.766      0.783      0.418\n"
     ]
    },
    {
     "name": "stderr",
     "output_type": "stream",
     "text": [
      "\n"
     ]
    },
    {
     "name": "stdout",
     "output_type": "stream",
     "text": [
      "\n",
      "      Epoch    GPU_mem   box_loss   seg_loss   cls_loss   dfl_loss  Instances       Size\n"
     ]
    },
    {
     "name": "stderr",
     "output_type": "stream",
     "text": [
      "     78/100      2.78G     0.8457      1.871     0.5393     0.9424         39        640: 100%|██████████| 56/56 [00:14<00:00,  3.90it/s]\n",
      "                 Class     Images  Instances      Box(P          R      mAP50  mAP50-95)     Mask(P          R      mAP50  mAP50-95): 100%|██████████| 4/4 [00:01<00:00,  3.34it/s]"
     ]
    },
    {
     "name": "stdout",
     "output_type": "stream",
     "text": [
      "                   all        128        201      0.818      0.761      0.818      0.583      0.783      0.736      0.763      0.415\n"
     ]
    },
    {
     "name": "stderr",
     "output_type": "stream",
     "text": [
      "\n"
     ]
    },
    {
     "name": "stdout",
     "output_type": "stream",
     "text": [
      "\n",
      "      Epoch    GPU_mem   box_loss   seg_loss   cls_loss   dfl_loss  Instances       Size\n"
     ]
    },
    {
     "name": "stderr",
     "output_type": "stream",
     "text": [
      "     79/100      2.77G     0.8585      1.817     0.5446      0.939         23        640: 100%|██████████| 56/56 [00:14<00:00,  3.94it/s]\n",
      "                 Class     Images  Instances      Box(P          R      mAP50  mAP50-95)     Mask(P          R      mAP50  mAP50-95): 100%|██████████| 4/4 [00:01<00:00,  3.16it/s]"
     ]
    },
    {
     "name": "stdout",
     "output_type": "stream",
     "text": [
      "                   all        128        201      0.814      0.763      0.814       0.57      0.798      0.741       0.75      0.413\n"
     ]
    },
    {
     "name": "stderr",
     "output_type": "stream",
     "text": [
      "\n"
     ]
    },
    {
     "name": "stdout",
     "output_type": "stream",
     "text": [
      "\n",
      "      Epoch    GPU_mem   box_loss   seg_loss   cls_loss   dfl_loss  Instances       Size\n"
     ]
    },
    {
     "name": "stderr",
     "output_type": "stream",
     "text": [
      "     80/100      2.78G      0.838      1.856     0.5418     0.9303         33        640: 100%|██████████| 56/56 [00:14<00:00,  3.95it/s]\n",
      "                 Class     Images  Instances      Box(P          R      mAP50  mAP50-95)     Mask(P          R      mAP50  mAP50-95): 100%|██████████| 4/4 [00:01<00:00,  3.28it/s]"
     ]
    },
    {
     "name": "stdout",
     "output_type": "stream",
     "text": [
      "                   all        128        201      0.813      0.766      0.807      0.561      0.799      0.746      0.751      0.395\n"
     ]
    },
    {
     "name": "stderr",
     "output_type": "stream",
     "text": [
      "\n"
     ]
    },
    {
     "name": "stdout",
     "output_type": "stream",
     "text": [
      "\n",
      "      Epoch    GPU_mem   box_loss   seg_loss   cls_loss   dfl_loss  Instances       Size\n"
     ]
    },
    {
     "name": "stderr",
     "output_type": "stream",
     "text": [
      "     81/100      2.77G      0.835      1.859     0.5313     0.9269         41        640: 100%|██████████| 56/56 [00:14<00:00,  3.87it/s]\n",
      "                 Class     Images  Instances      Box(P          R      mAP50  mAP50-95)     Mask(P          R      mAP50  mAP50-95): 100%|██████████| 4/4 [00:01<00:00,  3.22it/s]"
     ]
    },
    {
     "name": "stdout",
     "output_type": "stream",
     "text": [
      "                   all        128        201      0.752      0.814      0.809      0.568      0.731      0.781      0.739      0.403\n"
     ]
    },
    {
     "name": "stderr",
     "output_type": "stream",
     "text": [
      "\n"
     ]
    },
    {
     "name": "stdout",
     "output_type": "stream",
     "text": [
      "\n",
      "      Epoch    GPU_mem   box_loss   seg_loss   cls_loss   dfl_loss  Instances       Size\n"
     ]
    },
    {
     "name": "stderr",
     "output_type": "stream",
     "text": [
      "     82/100      2.77G     0.8312      1.815     0.5364     0.9337         35        640: 100%|██████████| 56/56 [00:14<00:00,  3.89it/s]\n",
      "                 Class     Images  Instances      Box(P          R      mAP50  mAP50-95)     Mask(P          R      mAP50  mAP50-95): 100%|██████████| 4/4 [00:01<00:00,  3.34it/s]"
     ]
    },
    {
     "name": "stdout",
     "output_type": "stream",
     "text": [
      "                   all        128        201      0.823      0.763      0.817      0.583      0.789      0.731      0.758      0.415\n"
     ]
    },
    {
     "name": "stderr",
     "output_type": "stream",
     "text": [
      "\n"
     ]
    },
    {
     "name": "stdout",
     "output_type": "stream",
     "text": [
      "\n",
      "      Epoch    GPU_mem   box_loss   seg_loss   cls_loss   dfl_loss  Instances       Size\n"
     ]
    },
    {
     "name": "stderr",
     "output_type": "stream",
     "text": [
      "     83/100      2.77G     0.8362      1.873     0.5266     0.9247         36        640: 100%|██████████| 56/56 [00:15<00:00,  3.55it/s]\n",
      "                 Class     Images  Instances      Box(P          R      mAP50  mAP50-95)     Mask(P          R      mAP50  mAP50-95): 100%|██████████| 4/4 [00:01<00:00,  2.75it/s]"
     ]
    },
    {
     "name": "stdout",
     "output_type": "stream",
     "text": [
      "                   all        128        201      0.808      0.752      0.825      0.582      0.786      0.732      0.775      0.419\n"
     ]
    },
    {
     "name": "stderr",
     "output_type": "stream",
     "text": [
      "\n"
     ]
    },
    {
     "name": "stdout",
     "output_type": "stream",
     "text": [
      "\n",
      "      Epoch    GPU_mem   box_loss   seg_loss   cls_loss   dfl_loss  Instances       Size\n"
     ]
    },
    {
     "name": "stderr",
     "output_type": "stream",
     "text": [
      "     84/100      2.77G     0.8154      1.786     0.5167     0.9279         39        640: 100%|██████████| 56/56 [00:14<00:00,  3.77it/s]\n",
      "                 Class     Images  Instances      Box(P          R      mAP50  mAP50-95)     Mask(P          R      mAP50  mAP50-95): 100%|██████████| 4/4 [00:01<00:00,  3.15it/s]"
     ]
    },
    {
     "name": "stdout",
     "output_type": "stream",
     "text": [
      "                   all        128        201      0.839      0.786      0.814      0.583      0.803      0.751      0.763      0.417\n"
     ]
    },
    {
     "name": "stderr",
     "output_type": "stream",
     "text": [
      "\n"
     ]
    },
    {
     "name": "stdout",
     "output_type": "stream",
     "text": [
      "\n",
      "      Epoch    GPU_mem   box_loss   seg_loss   cls_loss   dfl_loss  Instances       Size\n"
     ]
    },
    {
     "name": "stderr",
     "output_type": "stream",
     "text": [
      "     85/100      2.77G       0.84      1.801     0.5256     0.9233         42        640: 100%|██████████| 56/56 [00:14<00:00,  3.83it/s]\n",
      "                 Class     Images  Instances      Box(P          R      mAP50  mAP50-95)     Mask(P          R      mAP50  mAP50-95): 100%|██████████| 4/4 [00:01<00:00,  3.05it/s]"
     ]
    },
    {
     "name": "stdout",
     "output_type": "stream",
     "text": [
      "                   all        128        201      0.808      0.816      0.831      0.594      0.836      0.736      0.781      0.425\n"
     ]
    },
    {
     "name": "stderr",
     "output_type": "stream",
     "text": [
      "\n"
     ]
    },
    {
     "name": "stdout",
     "output_type": "stream",
     "text": [
      "\n",
      "      Epoch    GPU_mem   box_loss   seg_loss   cls_loss   dfl_loss  Instances       Size\n"
     ]
    },
    {
     "name": "stderr",
     "output_type": "stream",
     "text": [
      "     86/100      2.78G     0.8054      1.804     0.5033     0.9283         28        640: 100%|██████████| 56/56 [00:15<00:00,  3.73it/s]\n",
      "                 Class     Images  Instances      Box(P          R      mAP50  mAP50-95)     Mask(P          R      mAP50  mAP50-95): 100%|██████████| 4/4 [00:01<00:00,  2.98it/s]"
     ]
    },
    {
     "name": "stdout",
     "output_type": "stream",
     "text": [
      "                   all        128        201      0.844      0.779      0.814      0.591      0.817      0.755      0.776      0.418\n"
     ]
    },
    {
     "name": "stderr",
     "output_type": "stream",
     "text": [
      "\n"
     ]
    },
    {
     "name": "stdout",
     "output_type": "stream",
     "text": [
      "\n",
      "      Epoch    GPU_mem   box_loss   seg_loss   cls_loss   dfl_loss  Instances       Size\n"
     ]
    },
    {
     "name": "stderr",
     "output_type": "stream",
     "text": [
      "     87/100      2.78G     0.8259      1.759     0.5235     0.9293         46        640: 100%|██████████| 56/56 [00:14<00:00,  3.84it/s]\n",
      "                 Class     Images  Instances      Box(P          R      mAP50  mAP50-95)     Mask(P          R      mAP50  mAP50-95): 100%|██████████| 4/4 [00:01<00:00,  3.52it/s]"
     ]
    },
    {
     "name": "stdout",
     "output_type": "stream",
     "text": [
      "                   all        128        201      0.804      0.786      0.817      0.583      0.794      0.756       0.78      0.403\n"
     ]
    },
    {
     "name": "stderr",
     "output_type": "stream",
     "text": [
      "\n"
     ]
    },
    {
     "name": "stdout",
     "output_type": "stream",
     "text": [
      "\n",
      "      Epoch    GPU_mem   box_loss   seg_loss   cls_loss   dfl_loss  Instances       Size\n"
     ]
    },
    {
     "name": "stderr",
     "output_type": "stream",
     "text": [
      "     88/100      2.78G     0.8032      1.786     0.5027     0.9187         27        640: 100%|██████████| 56/56 [00:13<00:00,  4.01it/s]\n",
      "                 Class     Images  Instances      Box(P          R      mAP50  mAP50-95)     Mask(P          R      mAP50  mAP50-95): 100%|██████████| 4/4 [00:01<00:00,  3.48it/s]"
     ]
    },
    {
     "name": "stdout",
     "output_type": "stream",
     "text": [
      "                   all        128        201      0.815      0.787       0.81      0.572      0.789      0.762      0.764      0.402\n"
     ]
    },
    {
     "name": "stderr",
     "output_type": "stream",
     "text": [
      "\n"
     ]
    },
    {
     "name": "stdout",
     "output_type": "stream",
     "text": [
      "\n",
      "      Epoch    GPU_mem   box_loss   seg_loss   cls_loss   dfl_loss  Instances       Size\n"
     ]
    },
    {
     "name": "stderr",
     "output_type": "stream",
     "text": [
      "     89/100      2.78G     0.7887      1.768     0.4873     0.9173         34        640: 100%|██████████| 56/56 [00:16<00:00,  3.38it/s]\n",
      "                 Class     Images  Instances      Box(P          R      mAP50  mAP50-95)     Mask(P          R      mAP50  mAP50-95): 100%|██████████| 4/4 [00:02<00:00,  1.43it/s]"
     ]
    },
    {
     "name": "stdout",
     "output_type": "stream",
     "text": [
      "                   all        128        201      0.853      0.746      0.817      0.577      0.802      0.727      0.761      0.413\n"
     ]
    },
    {
     "name": "stderr",
     "output_type": "stream",
     "text": [
      "\n"
     ]
    },
    {
     "name": "stdout",
     "output_type": "stream",
     "text": [
      "\n",
      "      Epoch    GPU_mem   box_loss   seg_loss   cls_loss   dfl_loss  Instances       Size\n"
     ]
    },
    {
     "name": "stderr",
     "output_type": "stream",
     "text": [
      "     90/100      2.77G     0.8182       1.84     0.5058     0.9245         37        640: 100%|██████████| 56/56 [00:18<00:00,  2.95it/s]\n",
      "                 Class     Images  Instances      Box(P          R      mAP50  mAP50-95)     Mask(P          R      mAP50  mAP50-95): 100%|██████████| 4/4 [00:02<00:00,  1.81it/s]"
     ]
    },
    {
     "name": "stdout",
     "output_type": "stream",
     "text": [
      "                   all        128        201      0.829      0.771      0.823      0.588      0.807      0.746      0.769       0.43\n"
     ]
    },
    {
     "name": "stderr",
     "output_type": "stream",
     "text": [
      "\n"
     ]
    },
    {
     "name": "stdout",
     "output_type": "stream",
     "text": [
      "Closing dataloader mosaic\n",
      "\n",
      "      Epoch    GPU_mem   box_loss   seg_loss   cls_loss   dfl_loss  Instances       Size\n"
     ]
    },
    {
     "name": "stderr",
     "output_type": "stream",
     "text": [
      "     91/100      2.78G     0.8105      1.805     0.5165       0.93         19        640: 100%|██████████| 56/56 [00:17<00:00,  3.21it/s]\n",
      "                 Class     Images  Instances      Box(P          R      mAP50  mAP50-95)     Mask(P          R      mAP50  mAP50-95): 100%|██████████| 4/4 [00:02<00:00,  1.97it/s]"
     ]
    },
    {
     "name": "stdout",
     "output_type": "stream",
     "text": [
      "                   all        128        201      0.838      0.774      0.829      0.584      0.806      0.743      0.769      0.426\n"
     ]
    },
    {
     "name": "stderr",
     "output_type": "stream",
     "text": [
      "\n"
     ]
    },
    {
     "name": "stdout",
     "output_type": "stream",
     "text": [
      "\n",
      "      Epoch    GPU_mem   box_loss   seg_loss   cls_loss   dfl_loss  Instances       Size\n"
     ]
    },
    {
     "name": "stderr",
     "output_type": "stream",
     "text": [
      "     92/100      2.64G      0.792      1.741     0.4927     0.9289         26        640: 100%|██████████| 56/56 [00:17<00:00,  3.17it/s]\n",
      "                 Class     Images  Instances      Box(P          R      mAP50  mAP50-95)     Mask(P          R      mAP50  mAP50-95): 100%|██████████| 4/4 [00:01<00:00,  2.70it/s]"
     ]
    },
    {
     "name": "stdout",
     "output_type": "stream",
     "text": [
      "                   all        128        201      0.832      0.765      0.829      0.589        0.8      0.736       0.77      0.424\n"
     ]
    },
    {
     "name": "stderr",
     "output_type": "stream",
     "text": [
      "\n"
     ]
    },
    {
     "name": "stdout",
     "output_type": "stream",
     "text": [
      "\n",
      "      Epoch    GPU_mem   box_loss   seg_loss   cls_loss   dfl_loss  Instances       Size\n"
     ]
    },
    {
     "name": "stderr",
     "output_type": "stream",
     "text": [
      "     93/100      2.78G     0.7792      1.781     0.4974     0.9213         23        640: 100%|██████████| 56/56 [00:13<00:00,  4.03it/s]\n",
      "                 Class     Images  Instances      Box(P          R      mAP50  mAP50-95)     Mask(P          R      mAP50  mAP50-95): 100%|██████████| 4/4 [00:01<00:00,  3.54it/s]"
     ]
    },
    {
     "name": "stdout",
     "output_type": "stream",
     "text": [
      "                   all        128        201      0.829      0.786      0.837      0.588      0.802      0.761      0.787      0.422\n"
     ]
    },
    {
     "name": "stderr",
     "output_type": "stream",
     "text": [
      "\n"
     ]
    },
    {
     "name": "stdout",
     "output_type": "stream",
     "text": [
      "\n",
      "      Epoch    GPU_mem   box_loss   seg_loss   cls_loss   dfl_loss  Instances       Size\n"
     ]
    },
    {
     "name": "stderr",
     "output_type": "stream",
     "text": [
      "     94/100      2.77G      0.775      1.745     0.4818     0.9216         23        640: 100%|██████████| 56/56 [00:13<00:00,  4.05it/s]\n",
      "                 Class     Images  Instances      Box(P          R      mAP50  mAP50-95)     Mask(P          R      mAP50  mAP50-95): 100%|██████████| 4/4 [00:01<00:00,  3.26it/s]"
     ]
    },
    {
     "name": "stdout",
     "output_type": "stream",
     "text": [
      "                   all        128        201      0.832      0.776      0.834      0.589       0.81      0.756      0.774      0.418\n"
     ]
    },
    {
     "name": "stderr",
     "output_type": "stream",
     "text": [
      "\n"
     ]
    },
    {
     "name": "stdout",
     "output_type": "stream",
     "text": [
      "\n",
      "      Epoch    GPU_mem   box_loss   seg_loss   cls_loss   dfl_loss  Instances       Size\n"
     ]
    },
    {
     "name": "stderr",
     "output_type": "stream",
     "text": [
      "     95/100      2.78G     0.7936      1.752     0.4866     0.9288         23        640: 100%|██████████| 56/56 [00:14<00:00,  3.98it/s]\n",
      "                 Class     Images  Instances      Box(P          R      mAP50  mAP50-95)     Mask(P          R      mAP50  mAP50-95): 100%|██████████| 4/4 [00:01<00:00,  2.89it/s]"
     ]
    },
    {
     "name": "stdout",
     "output_type": "stream",
     "text": [
      "                   all        128        201      0.842      0.796      0.829       0.58      0.804      0.761      0.758      0.407\n"
     ]
    },
    {
     "name": "stderr",
     "output_type": "stream",
     "text": [
      "\n"
     ]
    },
    {
     "name": "stdout",
     "output_type": "stream",
     "text": [
      "\n",
      "      Epoch    GPU_mem   box_loss   seg_loss   cls_loss   dfl_loss  Instances       Size\n"
     ]
    },
    {
     "name": "stderr",
     "output_type": "stream",
     "text": [
      "     96/100      2.78G     0.7733      1.746     0.4782     0.9203         21        640: 100%|██████████| 56/56 [00:18<00:00,  3.03it/s]\n",
      "                 Class     Images  Instances      Box(P          R      mAP50  mAP50-95)     Mask(P          R      mAP50  mAP50-95): 100%|██████████| 4/4 [00:02<00:00,  1.63it/s]"
     ]
    },
    {
     "name": "stdout",
     "output_type": "stream",
     "text": [
      "                   all        128        201      0.849      0.781      0.828      0.595      0.815      0.747      0.774      0.411\n"
     ]
    },
    {
     "name": "stderr",
     "output_type": "stream",
     "text": [
      "\n"
     ]
    },
    {
     "name": "stdout",
     "output_type": "stream",
     "text": [
      "\n",
      "      Epoch    GPU_mem   box_loss   seg_loss   cls_loss   dfl_loss  Instances       Size\n"
     ]
    },
    {
     "name": "stderr",
     "output_type": "stream",
     "text": [
      "     97/100      2.78G     0.7855      1.788     0.4827     0.9241         22        640: 100%|██████████| 56/56 [00:17<00:00,  3.12it/s]\n",
      "                 Class     Images  Instances      Box(P          R      mAP50  mAP50-95)     Mask(P          R      mAP50  mAP50-95): 100%|██████████| 4/4 [00:01<00:00,  3.42it/s]"
     ]
    },
    {
     "name": "stdout",
     "output_type": "stream",
     "text": [
      "                   all        128        201      0.847      0.776      0.832      0.591      0.814      0.746      0.778      0.419\n"
     ]
    },
    {
     "name": "stderr",
     "output_type": "stream",
     "text": [
      "\n"
     ]
    },
    {
     "name": "stdout",
     "output_type": "stream",
     "text": [
      "\n",
      "      Epoch    GPU_mem   box_loss   seg_loss   cls_loss   dfl_loss  Instances       Size\n"
     ]
    },
    {
     "name": "stderr",
     "output_type": "stream",
     "text": [
      "     98/100      2.78G     0.7758      1.753     0.4769     0.9157         22        640: 100%|██████████| 56/56 [00:14<00:00,  3.97it/s]\n",
      "                 Class     Images  Instances      Box(P          R      mAP50  mAP50-95)     Mask(P          R      mAP50  mAP50-95): 100%|██████████| 4/4 [00:01<00:00,  3.23it/s]"
     ]
    },
    {
     "name": "stdout",
     "output_type": "stream",
     "text": [
      "                   all        128        201      0.824      0.793      0.836      0.599      0.793      0.764      0.787       0.42\n"
     ]
    },
    {
     "name": "stderr",
     "output_type": "stream",
     "text": [
      "\n"
     ]
    },
    {
     "name": "stdout",
     "output_type": "stream",
     "text": [
      "\n",
      "      Epoch    GPU_mem   box_loss   seg_loss   cls_loss   dfl_loss  Instances       Size\n"
     ]
    },
    {
     "name": "stderr",
     "output_type": "stream",
     "text": [
      "     99/100      2.78G     0.7757      1.749     0.4721     0.9169         20        640: 100%|██████████| 56/56 [00:13<00:00,  4.04it/s]\n",
      "                 Class     Images  Instances      Box(P          R      mAP50  mAP50-95)     Mask(P          R      mAP50  mAP50-95): 100%|██████████| 4/4 [00:01<00:00,  3.31it/s]"
     ]
    },
    {
     "name": "stdout",
     "output_type": "stream",
     "text": [
      "                   all        128        201      0.821      0.786      0.836      0.595      0.784      0.751       0.78      0.418\n"
     ]
    },
    {
     "name": "stderr",
     "output_type": "stream",
     "text": [
      "\n"
     ]
    },
    {
     "name": "stdout",
     "output_type": "stream",
     "text": [
      "\n",
      "      Epoch    GPU_mem   box_loss   seg_loss   cls_loss   dfl_loss  Instances       Size\n"
     ]
    },
    {
     "name": "stderr",
     "output_type": "stream",
     "text": [
      "    100/100      2.78G     0.7739       1.78     0.4839     0.9227         23        640: 100%|██████████| 56/56 [00:13<00:00,  4.07it/s]\n",
      "                 Class     Images  Instances      Box(P          R      mAP50  mAP50-95)     Mask(P          R      mAP50  mAP50-95): 100%|██████████| 4/4 [00:01<00:00,  3.49it/s]"
     ]
    },
    {
     "name": "stdout",
     "output_type": "stream",
     "text": [
      "                   all        128        201      0.846      0.766       0.84        0.6      0.769      0.761      0.779      0.414\n"
     ]
    },
    {
     "name": "stderr",
     "output_type": "stream",
     "text": [
      "\n"
     ]
    },
    {
     "name": "stdout",
     "output_type": "stream",
     "text": [
      "\n",
      "100 epochs completed in 0.928 hours.\n",
      "Optimizer stripped from footwear-detection\\yolov8-footwear4\\weights\\last.pt, 6.8MB\n",
      "Optimizer stripped from footwear-detection\\yolov8-footwear4\\weights\\best.pt, 6.8MB\n",
      "\n",
      "Validating footwear-detection\\yolov8-footwear4\\weights\\best.pt...\n",
      "Ultralytics YOLOv8.2.28  Python-3.11.7 torch-2.3.0 CUDA:0 (NVIDIA GeForce RTX 3050 Laptop GPU, 4096MiB)\n",
      "YOLOv8n-seg summary (fused): 195 layers, 3258259 parameters, 0 gradients, 12.0 GFLOPs\n"
     ]
    },
    {
     "name": "stderr",
     "output_type": "stream",
     "text": [
      "                 Class     Images  Instances      Box(P          R      mAP50  mAP50-95)     Mask(P          R      mAP50  mAP50-95): 100%|██████████| 4/4 [00:02<00:00,  1.93it/s]\n"
     ]
    },
    {
     "name": "stdout",
     "output_type": "stream",
     "text": [
      "                   all        128        201       0.79      0.806       0.83      0.589      0.761      0.777      0.773      0.437\n",
      "Speed: 0.3ms preprocess, 3.9ms inference, 0.0ms loss, 1.8ms postprocess per image\n",
      "Results saved to \u001b[1mfootwear-detection\\yolov8-footwear4\u001b[0m\n"
     ]
    },
    {
     "data": {
      "application/vnd.jupyter.widget-view+json": {
       "model_id": "8e0a404162e64a14b058a574fe342e9d",
       "version_major": 2,
       "version_minor": 0
      },
      "text/plain": [
       "VBox(children=(Label(value='14.240 MB of 14.240 MB uploaded\\r'), FloatProgress(value=1.0, max=1.0)))"
      ]
     },
     "metadata": {},
     "output_type": "display_data"
    },
    {
     "data": {
      "text/html": [
       "<style>\n",
       "    table.wandb td:nth-child(1) { padding: 0 10px; text-align: left ; width: auto;} td:nth-child(2) {text-align: left ; width: 100%}\n",
       "    .wandb-row { display: flex; flex-direction: row; flex-wrap: wrap; justify-content: flex-start; width: 100% }\n",
       "    .wandb-col { display: flex; flex-direction: column; flex-basis: 100%; flex: 1; padding: 10px; }\n",
       "    </style>\n",
       "<div class=\"wandb-row\"><div class=\"wandb-col\"><h3>Run history:</h3><br/><table class=\"wandb\"><tr><td>lr/pg0</td><td>▃███▇▇▇▇▇▇▆▆▆▆▆▅▅▅▅▅▅▄▄▄▄▄▃▃▃▃▃▃▂▂▂▂▂▁▁▁</td></tr><tr><td>lr/pg1</td><td>▃███▇▇▇▇▇▇▆▆▆▆▆▅▅▅▅▅▅▄▄▄▄▄▃▃▃▃▃▃▂▂▂▂▂▁▁▁</td></tr><tr><td>lr/pg2</td><td>▃███▇▇▇▇▇▇▆▆▆▆▆▅▅▅▅▅▅▄▄▄▄▄▃▃▃▃▃▃▂▂▂▂▂▁▁▁</td></tr><tr><td>metrics/mAP50(B)</td><td>▁▅▇▇▇▇▇▇▇██▇▇▇█████▇████████████████████</td></tr><tr><td>metrics/mAP50(M)</td><td>▁▄▆▇▆▇▇▇▇█▇▇▇▇▇██▇█▇▇▇█████▇███▇████████</td></tr><tr><td>metrics/mAP50-95(B)</td><td>▁▄▆▆▆▇▇▆▇▇▇▇▇▇▇██▇███▇██████████████████</td></tr><tr><td>metrics/mAP50-95(M)</td><td>▁▄▅▆▆▇▆▆▆▇▆▇▇▇▇▇█▇█▇▇▇▇███████████▇█████</td></tr><tr><td>metrics/precision(B)</td><td>▁▆▇▇▇▇█▇▇▇▇▇▇▇▇██▇▇███████▇███████▇████▇</td></tr><tr><td>metrics/precision(M)</td><td>▁▆▆▇▇▇█▇▇▇▇▇▇▇▇██▇█▇█▇▇██▇▇████████████▇</td></tr><tr><td>metrics/recall(B)</td><td>█▁▃▃▁▃▂▃▂▅▄▃▅▄▅▃▅▅▅▃▄▅▅▅▅▅▅▃▅▄▆▄▄▅▅▄▄▅▅▅</td></tr><tr><td>metrics/recall(M)</td><td>█▁▄▅▃▆▄▅▄▇▆▅▆▇▇▅▇▇▆▆▆▆▇▇▇█▇▆▇▆▇▇▆▇▇▆▆▇▇▇</td></tr><tr><td>model/GFLOPs</td><td>▁</td></tr><tr><td>model/parameters</td><td>▁</td></tr><tr><td>model/speed_PyTorch(ms)</td><td>▁</td></tr><tr><td>train/box_loss</td><td>▇█▇▇▆▆▆▅▅▅▅▅▄▄▄▄▄▄▃▃▃▃▃▃▃▂▂▂▂▂▂▂▂▁▂▁▁▁▁▁</td></tr><tr><td>train/cls_loss</td><td>█▅▄▃▃▃▃▃▂▂▂▂▂▂▂▂▂▂▂▂▂▂▂▁▁▁▁▁▁▁▁▁▁▁▁▁▁▁▁▁</td></tr><tr><td>train/dfl_loss</td><td>▇█▇▇▆▆▆▅▅▅▄▅▄▄▄▃▃▃▃▃▃▂▃▂▂▂▂▂▂▂▁▂▁▁▁▁▁▁▁▁</td></tr><tr><td>train/seg_loss</td><td>█▇▆▆▆▅▅▅▄▄▅▄▄▄▄▄▃▃▃▃▃▃▃▂▂▂▂▂▂▂▂▁▁▁▁▁▁▁▁▁</td></tr><tr><td>val/box_loss</td><td>▅█▅▅▄▃▃▄▄▃▃▂▃▃▂▂▂▃▂▂▂▂▂▂▁▂▂▂▂▂▁▁▁▂▂▂▂▂▁▂</td></tr><tr><td>val/cls_loss</td><td>█▄▂▂▂▂▂▂▂▂▁▂▁▂▁▁▁▁▁▁▁▁▁▁▁▁▁▁▁▁▁▁▁▁▁▁▁▁▁▁</td></tr><tr><td>val/dfl_loss</td><td>▄█▄▃▄▃▃▄▃▃▂▂▂▃▂▂▁▂▂▂▁▂▁▂▁▂▁▂▁▂▁▁▁▂▂▂▂▂▂▂</td></tr><tr><td>val/seg_loss</td><td>██▆▄▄▂▃▄▃▃▄▁▂▂▃▃▂▁▁▂▂▃▂▂▃▂▃▂▂▂▂▂▂▂▂▃▃▂▃▃</td></tr></table><br/></div><div class=\"wandb-col\"><h3>Run summary:</h3><br/><table class=\"wandb\"><tr><td>lr/pg0</td><td>4e-05</td></tr><tr><td>lr/pg1</td><td>4e-05</td></tr><tr><td>lr/pg2</td><td>4e-05</td></tr><tr><td>metrics/mAP50(B)</td><td>0.83037</td></tr><tr><td>metrics/mAP50(M)</td><td>0.773</td></tr><tr><td>metrics/mAP50-95(B)</td><td>0.58886</td></tr><tr><td>metrics/mAP50-95(M)</td><td>0.43729</td></tr><tr><td>metrics/precision(B)</td><td>0.79024</td></tr><tr><td>metrics/precision(M)</td><td>0.76115</td></tr><tr><td>metrics/recall(B)</td><td>0.80596</td></tr><tr><td>metrics/recall(M)</td><td>0.77689</td></tr><tr><td>model/GFLOPs</td><td>12.109</td></tr><tr><td>model/parameters</td><td>3263811</td></tr><tr><td>model/speed_PyTorch(ms)</td><td>25.546</td></tr><tr><td>train/box_loss</td><td>0.77394</td></tr><tr><td>train/cls_loss</td><td>0.48389</td></tr><tr><td>train/dfl_loss</td><td>0.92266</td></tr><tr><td>train/seg_loss</td><td>1.78012</td></tr><tr><td>val/box_loss</td><td>1.07487</td></tr><tr><td>val/cls_loss</td><td>0.71581</td></tr><tr><td>val/dfl_loss</td><td>1.07583</td></tr><tr><td>val/seg_loss</td><td>2.84756</td></tr></table><br/></div></div>"
      ],
      "text/plain": [
       "<IPython.core.display.HTML object>"
      ]
     },
     "metadata": {},
     "output_type": "display_data"
    },
    {
     "data": {
      "text/html": [
       " View run <strong style=\"color:#cdcd00\">yolov8-footwear</strong> at: <a href='https://wandb.ai/lovesjns1030/footwear-detection/runs/ynt46t6i' target=\"_blank\">https://wandb.ai/lovesjns1030/footwear-detection/runs/ynt46t6i</a><br/> View project at: <a href='https://wandb.ai/lovesjns1030/footwear-detection' target=\"_blank\">https://wandb.ai/lovesjns1030/footwear-detection</a><br/>Synced 6 W&B file(s), 32 media file(s), 9 artifact file(s) and 0 other file(s)"
      ],
      "text/plain": [
       "<IPython.core.display.HTML object>"
      ]
     },
     "metadata": {},
     "output_type": "display_data"
    },
    {
     "data": {
      "text/html": [
       "Find logs at: <code>.\\wandb\\run-20240612_115455-ynt46t6i\\logs</code>"
      ],
      "text/plain": [
       "<IPython.core.display.HTML object>"
      ]
     },
     "metadata": {},
     "output_type": "display_data"
    }
   ],
   "source": [
    "import os\n",
    "import wandb\n",
    "from ultralytics import YOLO\n",
    "\n",
    "# W&B 설정\n",
    "wandb.init(project='footwear-detection', name='yolov8-footwear')\n",
    "\n",
    "# YOLOv8 모델 설정\n",
    "model = YOLO('yolov8n-seg.pt')  # 모델 설정 파일 또는 사전 학습된 가중치 파일 사용\n",
    "\n",
    "# 학습 수행\n",
    "model.train(data='data.yaml', epochs=100, batch=16, project='footwear-detection', name='yolov8-footwear')\n",
    "\n",
    "# 학습 결과를 W&B에 업로드\n",
    "wandb.finish()\n"
   ]
  },
  {
   "cell_type": "code",
   "execution_count": null,
   "metadata": {},
   "outputs": [],
   "source": []
  }
 ],
 "metadata": {
  "kernelspec": {
   "display_name": "base",
   "language": "python",
   "name": "python3"
  },
  "language_info": {
   "codemirror_mode": {
    "name": "ipython",
    "version": 3
   },
   "file_extension": ".py",
   "mimetype": "text/x-python",
   "name": "python",
   "nbconvert_exporter": "python",
   "pygments_lexer": "ipython3",
   "version": "3.11.7"
  }
 },
 "nbformat": 4,
 "nbformat_minor": 2
}
