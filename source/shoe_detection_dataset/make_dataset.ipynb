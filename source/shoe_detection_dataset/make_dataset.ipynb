{
 "cells": [
  {
   "cell_type": "code",
   "execution_count": 1,
   "metadata": {},
   "outputs": [
    {
     "name": "stdout",
     "output_type": "stream",
     "text": [
      "Footwear 클래스만 추출 및 클래스 번호 수정 완료.\n"
     ]
    }
   ],
   "source": [
    "import os\n",
    "import shutil\n",
    "\n",
    "# 경로 설정\n",
    "dataset_path = \"C:\\\\Users\\\\dhshs\\\\Documents\\\\CCTV(2)\\\\source\\\\shoe_detection_dataset\\\\footwear\"\n",
    "image_path = os.path.join(dataset_path, \"images\")\n",
    "label_path = os.path.join(dataset_path, \"labels\")\n",
    "\n",
    "# 저장할 폴더 경로\n",
    "output_image_path = \"C:\\\\Users\\\\dhshs\\\\Documents\\\\CCTV(2)\\\\source\\\\shoe_detection_dataset\\\\extracted_shoes_dataset\\\\footwear\\\\images\"\n",
    "output_label_path = \"C:\\\\Users\\\\dhshs\\\\Documents\\\\CCTV(2)\\\\source\\\\shoe_detection_dataset\\\\extracted_shoes_dataset\\\\footwear\\\\labels\"\n",
    "\n",
    "# 폴더가 존재하지 않으면 생성\n",
    "os.makedirs(output_image_path, exist_ok=True)\n",
    "os.makedirs(output_label_path, exist_ok=True)\n",
    "\n",
    "# 'footwear' 클래스 번호 (0부터 시작하여 4번째 클래스이므로 인덱스 4)\n",
    "original_footwear_class = 4\n",
    "new_footwear_class = 0\n",
    "\n",
    "# 라벨 파일 확인\n",
    "for label_file in os.listdir(label_path):\n",
    "    if label_file.endswith(\".txt\"):\n",
    "        label_file_path = os.path.join(label_path, label_file)\n",
    "        with open(label_file_path, \"r\") as file:\n",
    "            lines = file.readlines()\n",
    "        \n",
    "        # 'footwear' 클래스가 있는지 확인\n",
    "        footwear_present = False\n",
    "        new_lines = []\n",
    "        for line in lines:\n",
    "            parts = line.split()\n",
    "            class_id = int(parts[0])\n",
    "            if class_id == original_footwear_class:\n",
    "                footwear_present = True\n",
    "                parts[0] = str(new_footwear_class)  # 클래스 번호를 0으로 변경\n",
    "                new_lines.append(\" \".join(parts) + \"\\n\")\n",
    "        \n",
    "        # 'footwear' 클래스가 있는 이미지와 라벨 파일을 복사\n",
    "        if footwear_present:\n",
    "            image_file = label_file.replace(\".txt\", \".jpg\")\n",
    "            shutil.copy(os.path.join(image_path, image_file), os.path.join(output_image_path, image_file))\n",
    "            with open(os.path.join(output_label_path, label_file), \"w\") as new_file:\n",
    "                new_file.writelines(new_lines)\n",
    "\n",
    "print(\"Footwear 클래스만 추출 및 클래스 번호 수정 완료.\")\n"
   ]
  },
  {
   "cell_type": "code",
   "execution_count": 2,
   "metadata": {},
   "outputs": [
    {
     "name": "stdout",
     "output_type": "stream",
     "text": [
      "Train, Validation, Test 데이터셋 나누기 완료.\n"
     ]
    }
   ],
   "source": [
    "import os\n",
    "import shutil\n",
    "from sklearn.model_selection import train_test_split\n",
    "\n",
    "# 경로 설정\n",
    "footwear_image_path = \"C:\\\\Users\\\\dhshs\\\\Documents\\\\CCTV(2)\\\\source\\\\shoe_detection_dataset\\\\extracted_shoes_dataset\\\\footwear\\\\images\"\n",
    "footwear_label_path = \"C:\\\\Users\\\\dhshs\\\\Documents\\\\CCTV(2)\\\\source\\\\shoe_detection_dataset\\\\extracted_shoes_dataset\\\\footwear\\\\labels\"\n",
    "\n",
    "# 데이터셋 나눌 폴더 경로\n",
    "base_output_path = \"C:\\\\Users\\\\dhshs\\\\Documents\\\\CCTV(2)\\\\source\\\\shoe_detection_dataset\\\\extracted_shoes_dataset\"\n",
    "train_image_path = os.path.join(base_output_path, \"train\\\\images\")\n",
    "train_label_path = os.path.join(base_output_path, \"train\\\\labels\")\n",
    "valid_image_path = os.path.join(base_output_path, \"valid\\\\images\")\n",
    "valid_label_path = os.path.join(base_output_path, \"valid\\\\labels\")\n",
    "test_image_path = os.path.join(base_output_path, \"test\\\\images\")\n",
    "test_label_path = os.path.join(base_output_path, \"test\\\\labels\")\n",
    "\n",
    "# 폴더가 존재하지 않으면 생성\n",
    "os.makedirs(train_image_path, exist_ok=True)\n",
    "os.makedirs(train_label_path, exist_ok=True)\n",
    "os.makedirs(valid_image_path, exist_ok=True)\n",
    "os.makedirs(valid_label_path, exist_ok=True)\n",
    "os.makedirs(test_image_path, exist_ok=True)\n",
    "os.makedirs(test_label_path, exist_ok=True)\n",
    "\n",
    "# 이미지 파일 리스트 얻기\n",
    "image_files = [f for f in os.listdir(footwear_image_path) if f.endswith(\".jpg\")]\n",
    "\n",
    "# train, valid, test 데이터셋 나누기 (7:1:2 비율)\n",
    "train_files, test_files = train_test_split(image_files, test_size=0.2, random_state=42)\n",
    "train_files, valid_files = train_test_split(train_files, test_size=0.125, random_state=42)  # 0.125 * 0.8 = 0.1\n",
    "\n",
    "# 파일 복사 함수\n",
    "def copy_files(file_list, src_image_path, src_label_path, dst_image_path, dst_label_path):\n",
    "    for file_name in file_list:\n",
    "        # 이미지 파일 복사\n",
    "        shutil.copy(os.path.join(src_image_path, file_name), os.path.join(dst_image_path, file_name))\n",
    "        \n",
    "        # 라벨 파일 복사\n",
    "        label_file_name = file_name.replace(\".jpg\", \".txt\")\n",
    "        shutil.copy(os.path.join(src_label_path, label_file_name), os.path.join(dst_label_path, label_file_name))\n",
    "\n",
    "# 파일 복사 실행\n",
    "copy_files(train_files, footwear_image_path, footwear_label_path, train_image_path, train_label_path)\n",
    "copy_files(valid_files, footwear_image_path, footwear_label_path, valid_image_path, valid_label_path)\n",
    "copy_files(test_files, footwear_image_path, footwear_label_path, test_image_path, test_label_path)\n",
    "\n",
    "print(\"Train, Validation, Test 데이터셋 나누기 완료.\")\n"
   ]
  },
  {
   "cell_type": "code",
   "execution_count": null,
   "metadata": {},
   "outputs": [],
   "source": []
  }
 ],
 "metadata": {
  "kernelspec": {
   "display_name": "base",
   "language": "python",
   "name": "python3"
  },
  "language_info": {
   "codemirror_mode": {
    "name": "ipython",
    "version": 3
   },
   "file_extension": ".py",
   "mimetype": "text/x-python",
   "name": "python",
   "nbconvert_exporter": "python",
   "pygments_lexer": "ipython3",
   "version": "3.11.7"
  }
 },
 "nbformat": 4,
 "nbformat_minor": 2
}
