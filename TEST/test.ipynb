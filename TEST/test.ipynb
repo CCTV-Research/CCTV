{
 "cells": [
  {
   "cell_type": "code",
   "execution_count": null,
   "metadata": {},
   "outputs": [],
   "source": [
    "import os\n",
    "import cv2\n",
    "\n",
    "def convert_pgm_to_jpg(base_dir, output_dir):\n",
    "    for root, dirs, files in os.walk(base_dir):\n",
    "        for file in files:\n",
    "            if file.endswith('.pgm'):\n",
    "                pgm_path = os.path.join(root, file)\n",
    "                relative_path = os.path.relpath(root, base_dir)\n",
    "                output_path = os.path.join(output_dir, relative_path)\n",
    "                os.makedirs(output_path, exist_ok=True)\n",
    "                jpg_path = os.path.join(output_path, file.replace('.pgm', '.jpg'))\n",
    "                image = cv2.imread(pgm_path, -1)\n",
    "                cv2.imwrite(jpg_path, image)\n",
    "                print(f\"Converted {pgm_path} to {jpg_path}\")\n",
    "\n",
    "base_dir = r'C:\\Users\\dhshs\\Documents\\CCTV\\TEST\\P2L_faces'\n",
    "output_dir = 'jpg_faces'\n",
    "convert_pgm_to_jpg(base_dir, output_dir)\n"
   ]
  },
  {
   "cell_type": "code",
   "execution_count": null,
   "metadata": {},
   "outputs": [],
   "source": []
  }
 ],
 "metadata": {
  "kernelspec": {
   "display_name": "base",
   "language": "python",
   "name": "python3"
  },
  "language_info": {
   "codemirror_mode": {
    "name": "ipython",
    "version": 3
   },
   "file_extension": ".py",
   "mimetype": "text/x-python",
   "name": "python",
   "nbconvert_exporter": "python",
   "pygments_lexer": "ipython3",
   "version": "3.11.7"
  }
 },
 "nbformat": 4,
 "nbformat_minor": 2
}
